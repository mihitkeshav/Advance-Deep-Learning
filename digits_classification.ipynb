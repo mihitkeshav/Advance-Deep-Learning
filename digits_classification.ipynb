{
  "nbformat": 4,
  "nbformat_minor": 0,
  "metadata": {
    "kernelspec": {
      "name": "python3",
      "display_name": "Python 3"
    },
    "language_info": {
      "codemirror_mode": {
        "name": "ipython",
        "version": 3
      },
      "file_extension": ".py",
      "mimetype": "text/x-python",
      "name": "python",
      "nbconvert_exporter": "python",
      "pygments_lexer": "ipython3",
      "version": "3.6.2"
    },
    "colab": {
      "name": "digits_classification.ipynb",
      "provenance": [],
      "include_colab_link": true
    },
    "accelerator": "GPU"
  },
  "cells": [
    {
      "cell_type": "markdown",
      "metadata": {
        "id": "view-in-github",
        "colab_type": "text"
      },
      "source": [
        "<a href=\"https://colab.research.google.com/github/mihitkeshav/Advance-Deep-Learning/blob/master/digits_classification.ipynb\" target=\"_parent\"><img src=\"https://colab.research.google.com/assets/colab-badge.svg\" alt=\"Open In Colab\"/></a>"
      ]
    },
    {
      "cell_type": "markdown",
      "metadata": {
        "id": "-A6YPUm6_bKr",
        "colab_type": "text"
      },
      "source": [
        "# MNIST digits classification with TensorFlow"
      ]
    },
    {
      "cell_type": "markdown",
      "metadata": {
        "id": "Fz5gNrvP_bKt",
        "colab_type": "text"
      },
      "source": [
        "<img src=\"images/mnist_sample.png\" style=\"width:30%\">"
      ]
    },
    {
      "cell_type": "code",
      "metadata": {
        "id": "J5KCaMdB_mZ5",
        "colab_type": "code",
        "colab": {
          "base_uri": "https://localhost:8080/",
          "height": 323
        },
        "outputId": "001b70fe-82b0-4123-928f-2ddf8c40cfb8"
      },
      "source": [
        "! shred -u setup_google_colab.py\n",
        "! wget https://raw.githubusercontent.com/hse-aml/intro-to-dl/master/setup_google_colab.py -O setup_google_colab.py\n",
        "import setup_google_colab\n",
        "# please, uncomment the week you're working on\n",
        "# setup_google_colab.setup_week1()\n",
        "setup_google_colab.setup_week2()\n",
        "# setup_google_colab.setup_week2_honor()\n",
        "# setup_google_colab.setup_week3()\n",
        "# setup_google_colab.setup_week4()\n",
        "# setup_google_colab.setup_week5()\n",
        "# setup_google_colab.setup_week6()"
      ],
      "execution_count": 1,
      "outputs": [
        {
          "output_type": "stream",
          "text": [
            "--2020-04-11 20:51:18--  https://raw.githubusercontent.com/hse-aml/intro-to-dl/master/setup_google_colab.py\n",
            "Resolving raw.githubusercontent.com (raw.githubusercontent.com)... 151.101.0.133, 151.101.64.133, 151.101.128.133, ...\n",
            "Connecting to raw.githubusercontent.com (raw.githubusercontent.com)|151.101.0.133|:443... connected.\n",
            "HTTP request sent, awaiting response... 200 OK\n",
            "Length: 3636 (3.6K) [text/plain]\n",
            "Saving to: ‘setup_google_colab.py’\n",
            "\n",
            "\rsetup_google_colab.   0%[                    ]       0  --.-KB/s               \rsetup_google_colab. 100%[===================>]   3.55K  --.-KB/s    in 0s      \n",
            "\n",
            "2020-04-11 20:51:18 (84.9 MB/s) - ‘setup_google_colab.py’ saved [3636/3636]\n",
            "\n",
            "**************************************************\n",
            "inception_v3_weights_tf_dim_ordering_tf_kernels_notop.h5\n",
            "**************************************************\n",
            "cifar-10-batches-py.tar.gz\n",
            "**************************************************\n",
            "mnist.npz\n"
          ],
          "name": "stdout"
        }
      ]
    },
    {
      "cell_type": "code",
      "metadata": {
        "id": "YujEqSpJAUEK",
        "colab_type": "code",
        "colab": {
          "base_uri": "https://localhost:8080/",
          "height": 35
        },
        "outputId": "ca091366-3fb4-4996-f421-7a6c47b00c48"
      },
      "source": [
        "# set tf 1.x for colab\n",
        "%tensorflow_version 1.x"
      ],
      "execution_count": 2,
      "outputs": [
        {
          "output_type": "stream",
          "text": [
            "TensorFlow 1.x selected.\n"
          ],
          "name": "stdout"
        }
      ]
    },
    {
      "cell_type": "code",
      "metadata": {
        "id": "lzNAOZPM_bKu",
        "colab_type": "code",
        "colab": {}
      },
      "source": [
        "import numpy as np\n",
        "from sklearn.metrics import accuracy_score\n",
        "from matplotlib import pyplot as plt\n",
        "%matplotlib inline\n",
        "import tensorflow as tf"
      ],
      "execution_count": 0,
      "outputs": []
    },
    {
      "cell_type": "code",
      "metadata": {
        "id": "kbpU_snW_bK6",
        "colab_type": "code",
        "colab": {
          "base_uri": "https://localhost:8080/",
          "height": 35
        },
        "outputId": "40256827-5fdb-43cc-c49e-25b1df6e348d"
      },
      "source": [
        "import sys\n",
        "sys.path.append(\"../..\")\n",
        "import grading\n",
        "\n",
        "import matplotlib_utils\n",
        "from importlib import reload\n",
        "reload(matplotlib_utils)\n",
        "\n",
        "import grading_utils\n",
        "reload(grading_utils)\n",
        "\n",
        "import keras_utils\n",
        "from keras_utils import reset_tf_session"
      ],
      "execution_count": 4,
      "outputs": [
        {
          "output_type": "stream",
          "text": [
            "Using TensorFlow backend.\n"
          ],
          "name": "stderr"
        }
      ]
    },
    {
      "cell_type": "markdown",
      "metadata": {
        "id": "FbLCvz5b_bK_",
        "colab_type": "text"
      },
      "source": [
        "# Fill in your Coursera token and email\n",
        "To successfully submit your answers to our grader, please fill in your Coursera submission token and email"
      ]
    },
    {
      "cell_type": "code",
      "metadata": {
        "id": "GyPWeeC0_bLB",
        "colab_type": "code",
        "colab": {}
      },
      "source": [
        "grader = grading.Grader(assignment_key=\"XtD7ho3TEeiHQBLWejjYAA\", \n",
        "                        all_parts=[\"9XaAS\", \"vmogZ\", \"RMv95\", \"i8bgs\", \"rE763\"])"
      ],
      "execution_count": 0,
      "outputs": []
    },
    {
      "cell_type": "code",
      "metadata": {
        "id": "mFpFOVMa_bLJ",
        "colab_type": "code",
        "colab": {}
      },
      "source": [
        "# token expires every 30 min\n",
        "COURSERA_TOKEN = \"ybS3yQoPIzftTRxB\"\n",
        "COURSERA_EMAIL = \"mihitraj@ymail.com\""
      ],
      "execution_count": 0,
      "outputs": []
    },
    {
      "cell_type": "markdown",
      "metadata": {
        "id": "MjbZpE9c_bLP",
        "colab_type": "text"
      },
      "source": [
        "# Look at the data\n",
        "\n",
        "In this task we have 50000 28x28 images of digits from 0 to 9.\n",
        "We will train a classifier on this data."
      ]
    },
    {
      "cell_type": "code",
      "metadata": {
        "id": "PoGszhc3_bLQ",
        "colab_type": "code",
        "colab": {}
      },
      "source": [
        "import keras\n",
        "from keras.datasets import mnist\n",
        "\n",
        "def load_dataset(flatten=False):\n",
        "    (X_train, y_train), (X_test, y_test) =  mnist.load_data()\n",
        "\n",
        "    # normalize x\n",
        "    X_train = X_train.astype(float) / 255.\n",
        "    X_test = X_test.astype(float) / 255.\n",
        "\n",
        "    # we reserve the last 10000 training examples for validation\n",
        "    X_train, X_val = X_train[:-10000], X_train[-10000:]\n",
        "    y_train, y_val = y_train[:-10000], y_train[-10000:]\n",
        "\n",
        "    if flatten:\n",
        "        X_train = X_train.reshape([X_train.shape[0], -1])\n",
        "        X_val = X_val.reshape([X_val.shape[0], -1])\n",
        "        X_test = X_test.reshape([X_test.shape[0], -1])\n",
        "\n",
        "    return X_train, y_train, X_val, y_val, X_test, y_test"
      ],
      "execution_count": 0,
      "outputs": []
    },
    {
      "cell_type": "code",
      "metadata": {
        "id": "R8cNueObBnyH",
        "colab_type": "code",
        "colab": {
          "base_uri": "https://localhost:8080/",
          "height": 53
        },
        "outputId": "fda18d15-0cde-4fd5-ed79-d9b14390f5a1"
      },
      "source": [
        "X_train, y_train, X_val, y_val, X_test, y_test = load_dataset(flatten=False)"
      ],
      "execution_count": 12,
      "outputs": [
        {
          "output_type": "stream",
          "text": [
            "Downloading data from https://s3.amazonaws.com/img-datasets/mnist.npz\n",
            " 8708096/11490434 [=====================>........] - ETA: 0s"
          ],
          "name": "stdout"
        }
      ]
    },
    {
      "cell_type": "code",
      "metadata": {
        "id": "o-A1O4H3_bLY",
        "colab_type": "code",
        "colab": {
          "base_uri": "https://localhost:8080/",
          "height": 693
        },
        "outputId": "23386349-95a2-4a3b-c3dc-bef54e88a66a"
      },
      "source": [
        "# X contains rgb values divided by 255\n",
        "print(\"X_train [shape %s] sample patch:\\n\" % (str(X_train.shape)), X_train[1, 15:20, 5:10])\n",
        "print(\"A closeup of a sample patch:\")\n",
        "plt.imshow(X_train[1, 15:20, 5:10], cmap=\"Greys\")\n",
        "plt.show()\n",
        "print(\"And the whole sample:\")\n",
        "plt.imshow(X_train[1], cmap=\"Greys\")\n",
        "plt.show()\n",
        "print(\"y_train [shape %s] 10 samples:\\n\" % (str(y_train.shape)), y_train[:10])"
      ],
      "execution_count": 13,
      "outputs": [
        {
          "output_type": "stream",
          "text": [
            "X_train [shape (50000, 28, 28)] sample patch:\n",
            " [[0.         0.29803922 0.96470588 0.98823529 0.43921569]\n",
            " [0.         0.33333333 0.98823529 0.90196078 0.09803922]\n",
            " [0.         0.33333333 0.98823529 0.8745098  0.        ]\n",
            " [0.         0.33333333 0.98823529 0.56862745 0.        ]\n",
            " [0.         0.3372549  0.99215686 0.88235294 0.        ]]\n",
            "A closeup of a sample patch:\n"
          ],
          "name": "stdout"
        },
        {
          "output_type": "display_data",
          "data": {
            "image/png": "[encoded data removed]",
            "text/plain": [
              "<Figure size 432x288 with 1 Axes>"
            ]
          },
          "metadata": {
            "tags": [],
            "needs_background": "light"
          }
        },
        {
          "output_type": "stream",
          "text": [
            "And the whole sample:\n"
          ],
          "name": "stdout"
        },
        {
          "output_type": "display_data",
          "data": {
            "image/png": "[encoded data removed]",
            "text/plain": [
              "<Figure size 432x288 with 1 Axes>"
            ]
          },
          "metadata": {
            "tags": [],
            "needs_background": "light"
          }
        },
        {
          "output_type": "stream",
          "text": [
            "y_train [shape (50000,)] 10 samples:\n",
            " [5 0 4 1 9 2 1 3 1 4]\n"
          ],
          "name": "stdout"
        }
      ]
    },
    {
      "cell_type": "markdown",
      "metadata": {
        "id": "RcBQ66G5_bLf",
        "colab_type": "text"
      },
      "source": [
        "# Linear model\n",
        "\n",
        "Your task is to train a linear classifier $\\vec{x} \\rightarrow y$ with SGD using TensorFlow.\n",
        "\n",
        "You will need to calculate a logit (a linear transformation) $z_k$ for each class: \n",
        "$$z_k = \\vec{x} \\cdot \\vec{w_k} + b_k \\quad k = 0..9$$\n",
        "\n",
        "And transform logits $z_k$ to valid probabilities $p_k$ with softmax: \n",
        "$$p_k = \\frac{e^{z_k}}{\\sum_{i=0}^{9}{e^{z_i}}} \\quad k = 0..9$$\n",
        "\n",
        "We will use a cross-entropy loss to train our multi-class classifier:\n",
        "$$\\text{cross-entropy}(y, p) = -\\sum_{k=0}^{9}{\\log(p_k)[y = k]}$$ \n",
        "\n",
        "where \n",
        "$$\n",
        "[x]=\\begin{cases}\n",
        "       1, \\quad \\text{if $x$ is true} \\\\\n",
        "       0, \\quad \\text{otherwise}\n",
        "    \\end{cases}\n",
        "$$\n",
        "\n",
        "Cross-entropy minimization pushes $p_k$ close to 1 when $y = k$, which is what we want.\n",
        "\n",
        "Here's the plan:\n",
        "* Flatten the images (28x28 -> 784) with `X_train.reshape((X_train.shape[0], -1))` to simplify our linear model implementation\n",
        "* Use a matrix placeholder for flattened `X_train`\n",
        "* Convert `y_train` to one-hot encoded vectors that are needed for cross-entropy\n",
        "* Use a shared variable `W` for all weights (a column $\\vec{w_k}$ per class) and `b` for all biases.\n",
        "* Aim for ~0.93 validation accuracy"
      ]
    },
    {
      "cell_type": "code",
      "metadata": {
        "id": "Z6CUmj5N_bLg",
        "colab_type": "code",
        "colab": {
          "base_uri": "https://localhost:8080/",
          "height": 53
        },
        "outputId": "60ff287f-7a94-4a0e-ffdf-1bfa071ee303"
      },
      "source": [
        "X_train_flat = X_train.reshape((X_train.shape[0], -1))\n",
        "print(X_train_flat.shape)\n",
        "\n",
        "X_val_flat = X_val.reshape((X_val.shape[0], -1))\n",
        "print(X_val_flat.shape)"
      ],
      "execution_count": 14,
      "outputs": [
        {
          "output_type": "stream",
          "text": [
            "(50000, 784)\n",
            "(10000, 784)\n"
          ],
          "name": "stdout"
        }
      ]
    },
    {
      "cell_type": "code",
      "metadata": {
        "id": "pkgpxz2s_bLo",
        "colab_type": "code",
        "colab": {
          "base_uri": "https://localhost:8080/",
          "height": 89
        },
        "outputId": "47624a84-fa03-49ae-bce5-5a083f6069ff"
      },
      "source": [
        "import keras\n",
        "\n",
        "y_train_oh = keras.utils.to_categorical(y_train, 10)\n",
        "y_val_oh = keras.utils.to_categorical(y_val, 10)\n",
        "\n",
        "print(y_train_oh.shape)\n",
        "print(y_train_oh[:3], y_train[:3])"
      ],
      "execution_count": 15,
      "outputs": [
        {
          "output_type": "stream",
          "text": [
            "(50000, 10)\n",
            "[[0. 0. 0. 0. 0. 1. 0. 0. 0. 0.]\n",
            " [1. 0. 0. 0. 0. 0. 0. 0. 0. 0.]\n",
            " [0. 0. 0. 0. 1. 0. 0. 0. 0. 0.]] [5 0 4]\n"
          ],
          "name": "stdout"
        }
      ]
    },
    {
      "cell_type": "code",
      "metadata": {
        "id": "-l3IqSgQ_bLw",
        "colab_type": "code",
        "colab": {
          "base_uri": "https://localhost:8080/",
          "height": 233
        },
        "outputId": "98c60176-3410-442b-ee6b-2b8053eaf811"
      },
      "source": [
        "# run this again if you remake your graph\n",
        "s = reset_tf_session()"
      ],
      "execution_count": 16,
      "outputs": [
        {
          "output_type": "stream",
          "text": [
            "WARNING:tensorflow:From /content/keras_utils.py:68: The name tf.get_default_session is deprecated. Please use tf.compat.v1.get_default_session instead.\n",
            "\n",
            "WARNING:tensorflow:From /usr/local/lib/python3.6/dist-packages/keras/backend/tensorflow_backend.py:79: The name tf.reset_default_graph is deprecated. Please use tf.compat.v1.reset_default_graph instead.\n",
            "\n",
            "WARNING:tensorflow:From /usr/local/lib/python3.6/dist-packages/keras/backend/tensorflow_backend.py:82: The name tf.placeholder is deprecated. Please use tf.compat.v1.placeholder instead.\n",
            "\n",
            "WARNING:tensorflow:From /usr/local/lib/python3.6/dist-packages/keras/backend/tensorflow_backend.py:84: The name tf.get_default_graph is deprecated. Please use tf.compat.v1.get_default_graph instead.\n",
            "\n",
            "WARNING:tensorflow:From /content/keras_utils.py:75: The name tf.ConfigProto is deprecated. Please use tf.compat.v1.ConfigProto instead.\n",
            "\n",
            "WARNING:tensorflow:From /content/keras_utils.py:77: The name tf.InteractiveSession is deprecated. Please use tf.compat.v1.InteractiveSession instead.\n",
            "\n"
          ],
          "name": "stdout"
        }
      ]
    },
    {
      "cell_type": "code",
      "metadata": {
        "id": "6Jm_tcmI_bL2",
        "colab_type": "code",
        "colab": {}
      },
      "source": [
        "# Model parameters: W and b\n",
        "W = tf.get_variable('W', shape=[784,10], trainable=True) ## with shape[0] = 784\n",
        "b = tf.get_variable('b', shape=[10,])"
      ],
      "execution_count": 0,
      "outputs": []
    },
    {
      "cell_type": "code",
      "metadata": {
        "id": "f0uooBHr_bL_",
        "colab_type": "code",
        "colab": {}
      },
      "source": [
        "# Placeholders for the input data\n",
        "input_X = tf.placeholder('float32', shape=(None,784)) ##for flat X with shape[0] = None for any batch size\n",
        "input_y = tf.placeholder('int32', shape=(None,10)) ##for one-hot encoded true labels"
      ],
      "execution_count": 0,
      "outputs": []
    },
    {
      "cell_type": "code",
      "metadata": {
        "id": "ilcjMWMO_bMH",
        "colab_type": "code",
        "colab": {
          "base_uri": "https://localhost:8080/",
          "height": 161
        },
        "outputId": "6d63d780-b6ac-4c84-9f39-e299093e538b"
      },
      "source": [
        "# Compute predictions\n",
        "logits = tf.add(tf.matmul(input_X,W),b) ### logits for input_X, resulting shape should be [input_X.shape[0], 10]\n",
        "probas = tf.nn.softmax(logits) ### apply tf.nn.softmax to logits\n",
        "classes = tf.argmax(probas,1) ### apply tf.argmax to find a class index with highest probability\n",
        "\n",
        "# Loss should be a scalar number: average loss over all the objects with tf.reduce_mean().\n",
        "# Use tf.nn.softmax_cross_entropy_with_logits on top of one-hot encoded input_y and logits.\n",
        "# It is identical to calculating cross-entropy on top of probas, but is more numerically friendly (read the docs).\n",
        "loss = tf.reduce_mean(tf.nn.softmax_cross_entropy_with_logits(labels=input_y, logits=logits)) ### cross-entropy loss\n",
        "\n",
        "# Use a default tf.train.AdamOptimizer to get an SGD step\n",
        "step = tf.train.AdamOptimizer(learning_rate=0.001, beta1=0.9, beta2=0.999, epsilon=1e-08).minimize(loss)### optimizer step that minimizes the loss"
      ],
      "execution_count": 21,
      "outputs": [
        {
          "output_type": "stream",
          "text": [
            "WARNING:tensorflow:From <ipython-input-21-e05ba9a7284e>:8: softmax_cross_entropy_with_logits (from tensorflow.python.ops.nn_ops) is deprecated and will be removed in a future version.\n",
            "Instructions for updating:\n",
            "\n",
            "Future major versions of TensorFlow will allow gradients to flow\n",
            "into the labels input on backprop by default.\n",
            "\n",
            "See `tf.nn.softmax_cross_entropy_with_logits_v2`.\n",
            "\n"
          ],
          "name": "stdout"
        }
      ]
    },
    {
      "cell_type": "code",
      "metadata": {
        "scrolled": false,
        "id": "pMrM3Vur_bMM",
        "colab_type": "code",
        "colab": {
          "base_uri": "https://localhost:8080/",
          "height": 308
        },
        "outputId": "c02eac89-7535-4772-b4fa-287c39b612fe"
      },
      "source": [
        "s.run(tf.global_variables_initializer())\n",
        "\n",
        "BATCH_SIZE = 512\n",
        "EPOCHS = 40\n",
        "\n",
        "# for logging the progress right here in Jupyter (for those who don't have TensorBoard)\n",
        "simpleTrainingCurves = matplotlib_utils.SimpleTrainingCurves(\"cross-entropy\", \"accuracy\")\n",
        "\n",
        "for epoch in range(EPOCHS):  # we finish an epoch when we've looked at all training samples\n",
        "    \n",
        "    batch_losses = []\n",
        "    for batch_start in range(0, X_train_flat.shape[0], BATCH_SIZE):  # data is already shuffled\n",
        "        _, batch_loss = s.run([step, loss], {input_X: X_train_flat[batch_start:batch_start+BATCH_SIZE], \n",
        "                                             input_y: y_train_oh[batch_start:batch_start+BATCH_SIZE]})\n",
        "        # collect batch losses, this is almost free as we need a forward pass for backprop anyway\n",
        "        batch_losses.append(batch_loss)\n",
        "\n",
        "    train_loss = np.mean(batch_losses)\n",
        "    val_loss = s.run(loss, {input_X: X_val_flat, input_y: y_val_oh})  # this part is usually small\n",
        "    train_accuracy = accuracy_score(y_train, s.run(classes, {input_X: X_train_flat}))  # this is slow and usually skipped\n",
        "    valid_accuracy = accuracy_score(y_val, s.run(classes, {input_X: X_val_flat}))  \n",
        "    simpleTrainingCurves.add(train_loss, val_loss, train_accuracy, valid_accuracy)"
      ],
      "execution_count": 22,
      "outputs": [
        {
          "output_type": "display_data",
          "data": {
            "text/html": [
              "<img src=\"data:image/jpeg;base64,/9j/4AAQSkZJRgABAQEASABIAAD/2wBDAAIBAQEBAQIBAQECAgICAgQDAgICAgUEBAMEBgUGBgYFBgYGBwkIBgcJBwYGCAsICQoKCgoKBggLDAsKDAkKCgr/2wBDAQICAgICAgUDAwUKBwYHCgoKCgoKCgoKCgoKCgoKCgoKCgoKCgoKCgoKCgoKCgoKCgoKCgoKCgoKCgoKCgoKCgr/wAARCAEgA2ADASIAAhEBAxEB/8QAHwAAAQUBAQEBAQEAAAAAAAAAAAECAwQFBgcICQoL/8QAtRAAAgEDAwIEAwUFBAQAAAF9AQIDAAQRBRIhMUEGE1FhByJxFDKBkaEII0KxwRVS0fAkM2JyggkKFhcYGRolJicoKSo0NTY3ODk6Q0RFRkdISUpTVFVWV1hZWmNkZWZnaGlqc3R1dnd4eXqDhIWGh4iJipKTlJWWl5iZmqKjpKWmp6ipqrKztLW2t7i5usLDxMXGx8jJytLT1NXW19jZ2uHi4%2BTl5ufo6erx8vP09fb3%2BPn6/8QAHwEAAwEBAQEBAQEBAQAAAAAAAAECAwQFBgcICQoL/8QAtREAAgECBAQDBAcFBAQAAQJ3AAECAxEEBSExBhJBUQdhcRMiMoEIFEKRobHBCSMzUvAVYnLRChYkNOEl8RcYGRomJygpKjU2Nzg5OkNERUZHSElKU1RVVldYWVpjZGVmZ2hpanN0dXZ3eHl6goOEhYaHiImKkpOUlZaXmJmaoqOkpaanqKmqsrO0tba3uLm6wsPExcbHyMnK0tPU1dbX2Nna4uPk5ebn6Onq8vP09fb3%2BPn6/9oADAMBAAIRAxEAPwD9/KKKKACiiigAooooAKKKKACiiigAooooAKKKKACiiigAooooAKKKKACiiigAooooAKKKKACiiigAooooAKKKKACiiigAooooAKKKKACiiigAooooAKKKKACiiigAooooAKKKKACiiigAooooAKKKKACiiigAooooAKKKKACiiigAooooAKKKKACiiigAooooAKKKKACiiigAooooAKKKKACiiigAooooAKKKKACiiigAooooAKKKKACiiigAooooAKKKKACiiigAooooAKKKKACiiigAooooAKKKKACiiigAooooAKKKKACiiigAooooAKKKKACiiigAooooAKKKKACiiigAooooAKKKKACuN%2BOP7QHwm/Zx8JW/jT4veJ5dPtL7U4dN0u2stLub%2B91K9lDGO1tLO0jluLudlR2EUMbvtR2xhWI7KvFv2u/gP8VPiX4h%2BGfxl%2BBd14fl8X/CrxjPrWmaJ4tu57bTdYhudLvdMubaW4ghmktH8q9aSOdYZtrR7TGyu2ACjpH/AAUr/Y71rxm3w8tvHviCDW7fSodU1bTtR%2BHOvWkmi2EhuAt3qXn2SDTIAbWcNLdmFEKYYqWUGbwn/wAFH/2NfGfg/wAQ%2BOtM%2BLFza6f4Y0e11fVBrnhPVdMuJNPuXMdreWtvd2sU19bzyAxwy2ySpM5CRlmIB86vP2GPjP8AHW0/aRP7Qt74V8My/tB/CPTvBskfgrWLrUzo7RWusWsr%2BbcWtqZ1VNRiZDsXeyygogxuy9Y/Y2/at%2BM%2Btaz8UP2lPh38G9X1e0%2BE6eBtB8E6d4n1QaRrSy6jaXt5fXd2bBJ9PYmyg%2BzxQw3BtnDP50hIwAeyX/7fP7N2k%2BAbH4h6tdeOLSHVPED6Jpeh3Xwj8SR67e3yW5uXjh0dtPGoShYAZTIluUCKzFsA49P8JeOfDfjbwTY/EPRbi5i0rULBbyCTVNPnsZY4iu7MsFykcsDAfeSRVZSCGAIIr41tv2Gf2tJfgpJ4W8feGPCnjS%2Bh%2BIcut%2BC9B1n9ofxXb3fgOxOmxWoi0/xbHp7atcSGUXcreZDGBHeGENsjGfUvB/7Bmq%2BKfgJo3hb9pz46%2BOPEfj5PhtdeFtf8Q6T8Q9at9Muhc2tzbyTPpa3SWN5MiXTBbq4tmmdoopWKuibADc8Mf8FJP2MvF/h7xJ4s0b4tXK6Z4W8GXni6/vr7wlqtpFe6BaruuNU09p7VBqtogK5nsvPQmSMAkyIG4n40f8FdP2YfAf7M/wATf2gfhW%2Bs%2BM7v4b%2BDYfEjeGW8L6xps2r2Nw7R2t3avNYFrixlkRh9vgjmtkVWdnCqSPHfC/8AwSh%2BNC/BPxf8LPFnh3w9J4h/4UL4j8A%2BC/Hmo/tD%2BNvECSXGpWEdp5h0jVUkttGtpDDE8scEl0yeVGqFggz6P%2B1L/wAE5vih%2B0BYeKtE0Pxj4d0q2179le%2B%2BGlrLM87GDVpLiOWGdo1iANqNhBIbzBnhO9AHqkv/AAUU/ZZt/E3hrwJeav41tvEni7TpdQ0HwpefCTxLDq8tnFd/Y5LmSwk08XNvCkxG6SaNEVGWUkRsrmXwN/wUT/Y7%2BJGqarpXhD4tyXB0rQ9Q1lbufw1qVvaapp1iwS8u9NuZrdYdVhhYqHeyedVLqCfmGcXwR8APjz4x/apsf2oPjn4f8HeH5JPg5f8Ag/VNE8J%2BK7vVTBcy6tHcpJDcz6fZl4mgiUsTGjJIdoV1USHwGb9hz9pf4bfs8%2BF/Cnxo1rwIPCP7N3wP8SaB4L1PwrfXcmpeKd2hHTLe4vbeW2ii04JZozSQxS3QknZXDxqgQgH0D4U/4Kl/sL%2BNPBus/ELQ/jLdrouheDj4tutRv/BmsWcdzoIKB9Vs/PtEN/ZxmRBJPbCWOLcPMZc167a/GD4c3vxcuPgVZ%2BIxN4qtPDUGv3emRWsrCHTp55beGd5QnlL5ksE6ohfe3kyEKQjEfFX7I/7P3xC8WfBL4Q/Hb9t/Uvhlovww%2BG/7L9z4fgk07W5wmr6bqmnaWby%2B1X7VBDDpkEVppyq0CS3CZleRplWNVrsP%2BCK3wr8d6P8As76n8evit4tbxFrHjW%2Bg03w54hlgaOS%2B8I6JF/ZWiXBD8/6VDDNqhPd9WcgKCFAB9lUUUUAFFFFABRRRQAUUUUAFFFFABRRRQAUUUUAFFFFABRRRQAUUUUAFFFFABRRRQAUUUUAFFFFABRRRQAUUUUAFFFFABRRRQAV4jpH/AAUY/Y91K716z1P4pXnh5vDnhy58QahJ418I6roMc2k27pHPf2smpWsC31ujyRK0tsZUBljGcuufab2K5ms5YbO6EEzxMsUxj3%2BWxHDbT1wecd6/MTV/%2BCOX7cvxf1bwvrnxu%2BOOhvrfhrwfqFnqHijUPit4m8TjxDrf2zSr611E6XfRQ2Wk20lzpi%2BfYWQCiOTassgVAoB9sv8At/8A7MNr8NG%2BLGseIPFWlaW2uQaNY2eufDLX7DVNTv5kMkMFlptxYpe37SIGdfs8MgZUdgSEYjovAf7VnwP%2BI%2Bv2XhPw54h1SHV7/wAKT%2BJIdI1rwrqWmXaabDd/ZJZZYby3ikgdZ/kMMirL32bea8m%2BJ3wc/bd%2BMTfD342654N%2BFWh/EP4UeOptY8P%2BGbXxxqV/ouuWdxpN3plzHcXz6VDNYzFL2SSN0tbgRmIKfMEjYq/En4Dftwa/8ZfDv7TXgfRvhXaeLL74Yar4L8Y6FqXivUpLDSFuL%2BG6tb%2ByuE04SagYhG6yW8sVoJS4xLFjkA7jSf8Ago3%2ByB4j17wL4W8K/EbVdZ1P4k%2BDdK8W%2BDdO0TwPrN7PeaHqL7LXUZEgtGa1t92PMknEa24ZTN5QYE7Hw1/bc/Zu%2BK/xGufhP4Z8X6tZ6/b6Xc6nDZeJ/BmraIt/Y28iRz3dlLqNrBHfwRvLEHltmkRfMQkgMpPlH7Cn7CXxY/Zh1/4caz488QeGrs%2BDv2UvCPwxv30i5nlZtW0t5muZovMgj3Wrb02MxV22/NGmBXjXw0/4JV/tjeJ/ij4X8TftTfGGz1SLT/AHivwv408TQfF/xJrV54il1exS2/tO10y%2Bhj0/QjlSxtLRSi5UCZxGq0AfUvhP/gov%2ByP410WPxVoPjvXP7DuNV0vT9P8AEt78P9btdK1GXUr2OyspLS%2Bns0tryCW5mijFxBI8IMqFnCsCfS/C3xd%2BHnjX4geKfhd4X8Q/a9c8FyWcfie0S0mC2Ml1B9ogjMrII3doSshRGZkWSMsFEibvmHxx4E%2BIvhX/AIJ7eNPgR/wUM8T/AAq8EeAtB%2BGkWgW3xM8O%2BLbsM06RpbWupPaXVnAmmzLMLeSGCO4umM5REcnaG7X/AIJX/D74seG/2RNK%2BKv7RVglv8TvixfS%2BOviJCtu0X2e/v1jMNpsb5k%2By2MdlZ7TkgWuDQB9G0UUUAFFFFABRRRQAUUUUAFFFFABRRRQAUUUUAFFFFABRRRQAUUUUAFFFFABRRRQAUUUUAFFFFABRRRQAUUUUAFFFFABRRRQAUUUUAFeL/Hrx/8AtF/8NF%2BBfgR8BfGfgrw%2Bmv8AgrxLr2r6n4v8F3etEnTrvQ7eGGGO31Kx8sN/akrMzM%2BfLQALyT7RXhXxF1pLL/gpV8IdFkUYvfgn8Q2Rs87o9W8GnH5Mx/Ck2luXCEqjtHs392rL/wDwg/8AwUL/AOjoPgz/AOGH1b/5qKP%2BEH/4KF/9HQfBn/ww%2Brf/ADUV7NRTIPGf%2BEH/AOChf/R0HwZ/8MPq3/zUUf8ACD/8FC/%2BjoPgz/4YfVv/AJqK9mooA8Z/4Qf/AIKF/wDR0HwZ/wDDD6t/81FH/CD/APBQv/o6D4M/%2BGH1b/5qK9mooA8Z/wCEH/4KF/8AR0HwZ/8ADD6t/wDNRR/wg/8AwUL/AOjoPgz/AOGH1b/5qK9mooA8Z/4Qf/goX/0dB8Gf/DD6t/8ANRR/wg//AAUL/wCjoPgz/wCGH1b/AOaivZqKAPGf%2BEH/AOChf/R0HwZ/8MPq3/zUUf8ACD/8FC/%2BjoPgz/4YfVv/AJqK9mooA8Z/4Qf/AIKF/wDR0HwZ/wDDD6t/81FH/CD/APBQv/o6D4M/%2BGH1b/5qK9mooA8Z/wCEH/4KF/8AR0HwZ/8ADD6t/wDNRR/wg/8AwUL/AOjoPgz/AOGH1b/5qKta/wDG/wDZE%2BFNppGk/HT4w/Dnw5rmoaLBqBtvF3iGwtLu4jkyPP23Dq7IzpIA3TKMM8EDN/4a/wD%2BCcH/AEdF8Ef/AAttH/8Ajtc08Zg6cnGdWKa6OUU/uckz2sPw3xJi6Ea1DA15wkrqUaNaUWu6lGjKLWj1Ta03LH/CD/8ABQv/AKOg%2BDP/AIYfVv8A5qKP%2BEH/AOChf/R0HwZ/8MPq3/zUVX/4a/8A%2BCcH/R0XwR/8LbR//jtenaBovws8V6FZeKfC2k%2BH9S0zUrSO607UdPggmguoJFDxyxyICroykMrKSCCCDg1dLE4eu2qc4yt2kn%2BTZz47Js5yuEZ43C1aSk7J1KdSmm97JzpwTdtbJt21tbU85/4Qf/goX/0dB8Gf/DD6t/8ANRR/wg//AAUL/wCjoPgz/wCGH1b/AOaivPPh9/wUa/Yv8X%2BB7Pxh4h%2BHvifQZ9U8ca14W0TRrn4Pa3Peate6dcX8ci2kUOns90TDp887LErmEAxybJFZR2XxC/ao/Za8C2Xj20vNEi0/WPAXhDWvEN5beLPAmraTZ3dnpi/6XPb3UmnOL23iZohJLZJdFRNGwR96K%2Bx5po/8IP8A8FC/%2BjoPgz/4YfVv/moo/wCEH/4KF/8AR0HwZ/8ADD6t/wDNRVWw/as/Yw1D4zyfs/Q3lv8A8JRb%2BII9Buo/%2BEGvxYQ6q%2BnR6lHYtqDWgtFne0lSZIzKGcHCgsCo2fjX8Vfgr8JP2edd/aH0fwjo3ijTtLsGk0230NbaQardNKIILWKYAoGkuGSHcTtVmJboaAKH/CD/APBQv/o6D4M/%2BGH1b/5qKP8AhB/%2BChf/AEdB8Gf/AAw%2Brf8AzUU/9nD4gW3xcvPGXgf4o/Arw34V8YeA/EEOma/pWj6iuq2Miz2Nte29zbXUlpbPLG8VyqnfBGyyxSrhlCu/knxM/bR8Q/Abwz8T5fjl%2ByH4I07xB4A%2BFg8d2Wm6F46F9Z3VkZ54BBeXUmlwNYTb4G5WG4jZVkKO/lMKAPWP%2BEH/AOChf/R0HwZ/8MPq3/zUUf8ACD/8FC/%2BjoPgz/4YfVv/AJqK8l%2BKH7cvhz4X/Ab4f/GK%2B8C/s%2BXq/ED4iP4ZtdctfjWn/CJ2MS6bqN99ql1s6P8AeLae0HlC2x5kyDzOord%2BK/7X3gv4e/EbwV8FNO8A/B1vFviPwxY61qo8TfEyHSdKiS7laC3t9Nu20%2BSXVZ55YbvyVFvCHjtmdzEXRGAO9/4Qf/goX/0dB8Gf/DD6t/8ANRR/wg//AAUL/wCjoPgz/wCGH1b/AOaiuJi/ax0R/jsvgt/2aNHPgK4%2BIt14CsvGsWpo97Nr1vpst7Ip077IFW0LwTWiz/aTIbhAPIEbCWvKPhr/AMFW/h78QPg541%2BLkf7NfguSHwn4b0LV7mPQvG0V/BoZ1O/azay8Qzf2fGdDu7IA3F7Fsufs0EUzkv5YDgH0b/wg/wDwUL/6Og%2BDP/hh9W/%2Baij/AIQf/goX/wBHQfBn/wAMPq3/AM1FeZ%2BBP2sfGHxd/Zyvf2gvhD%2By78K9ZstD1PWYNb1N/iiI9AurXTwCbzS9TTSZPt8Mh8xA7w28avBMrPhQzLF%2B3T8KvFnxY8CfCr4dfDH4e2l54t8KaB4hvbb4keM7fw9fRwat5jQWVhaC0uX1HUEihleS3zCiboV83MvygHpf/CD/APBQv/o6D4M/%2BGH1b/5qKP8AhB/%2BChf/AEdB8Gf/AAw%2Brf8AzUV5V8Of26PDXxR/au1v9ljwv%2Bz54IfVNOvvEVjDYN4vQ61YSaWwSO81fTVsC2madeMYzbXay3BkS5tnEX73auL44/bw8X/CfwN8W/FHxW/ZL%2BFWlyfC7xx4M8KSahD8UpDok1/rt9p8Exu7%2BfQ4WsY7K31WxupXEEwZZSvyFSaAPb/%2BEH/4KF/9HQfBn/ww%2Brf/ADUUf8IP/wAFC/8Ao6D4M/8Ahh9W/wDmorzb4rftr/D/AOFngT4dXV/4T%2BBzeJPiLZahqNhdXvxYhtPCMOnWckCS3S66%2Bm7p9zXlhGiJaFnkuccJG0lUvij%2B3h4Q%2BF/7UPh79mfUvgD4Jk1DV7nw1bSWcni%2BKLWdRbVrgwvc6Np5sT/a1lZYaW6ufOg8qKGd9h8vDAHq3/CD/wDBQv8A6Og%2BDP8A4YfVv/moo/4Qf/goX/0dB8Gf/DD6t/8ANRXmfgf9vX4G%2BLb34m%2BMrrwj8NLbwH8MNI1/UdZuLXxpBdeKFttJmkinu5tDSz/0e0kNvcNDK10XdBCxiXzcLieI/wBvvSfCn7Md3%2B0XrHwh%2BBRRPG%2Bi%2BHUgsvjVb3GnaTJf3UNvJ/bGoR6UY9OmtvOVpYkS4UYOJSMNQB7P/wAIP/wUL/6Og%2BDP/hh9W/8Amoqh4H8cftWeDv2rPDnwR%2BN3xH%2BHvibRvE3w98Q65DN4V%2BHl9ot1aXWm32iW6Kz3Gr3ySxumqSkqERg0SENjIPW%2BDp9I8ZfAu3%2BJcnhzwdb395ob30F14J1kapp4Oxnjktb77PbtcIQFYP5SZzjBHJwfHH/KQv4X/wDZGfHn/p28IUAezUUUUAFFFFABRRRQAV84/CbxV%2B3f8ddH17x34X%2BN/wAJNA0u3%2BIXirQ9L0q/%2BD%2BqX9xFa6Xr1/pkLS3CeIoFlkeOzV2ZYo13OQFAAr6Orxn9g/8A5Ihrn/ZZviP/AOprrdAB/wAIP/wUL/6Og%2BDP/hh9W/8Amoo/4Qf/AIKF/wDR0HwZ/wDDD6t/81FezUUAeM/8IP8A8FC/%2BjoPgz/4YfVv/moo/wCEH/4KF/8AR0HwZ/8ADD6t/wDNRXs1FAHjP/CD/wDBQv8A6Og%2BDP8A4YfVv/moo/4Qf/goX/0dB8Gf/DD6t/8ANRXs1FAHjP8Awg//AAUL/wCjoPgz/wCGH1b/AOaij/hB/wDgoX/0dB8Gf/DD6t/81FezUUAeM/8ACD/8FC/%2BjoPgz/4YfVv/AJqKP%2BEH/wCChf8A0dB8Gf8Aww%2Brf/NRXs1FAHjP/CD/APBQv/o6D4M/%2BGH1b/5qKP8AhB/%2BChf/AEdB8Gf/AAw%2Brf8AzUV7NRQB4z/wg/8AwUL/AOjoPgz/AOGH1b/5qKP%2BEH/4KF/9HQfBn/ww%2Brf/ADUV7NRQB4z/AMIP/wAFC/8Ao6D4M/8Ahh9W/wDmoo/4Qf8A4KF/9HQfBn/ww%2Brf/NRXs1FAHjP/AAg//BQv/o6D4M/%2BGH1b/wCaij/hB/8AgoX/ANHQfBn/AMMPq3/zUV7NRQB4z/wg/wDwUL/6Og%2BDP/hh9W/%2Baij/AIQf/goX/wBHQfBn/wAMPq3/AM1FezUUAeM/8IP/AMFC/wDo6D4M/wDhh9W/%2Baij/hB/%2BChf/R0HwZ/8MPq3/wA1FezUUAeM/wDCD/8ABQv/AKOg%2BDP/AIYfVv8A5qKP%2BEH/AOChf/R0HwZ/8MPq3/zUV7NRQB4z/wAIP/wUL/6Og%2BDP/hh9W/8Amoo/4Qf/AIKF/wDR0HwZ/wDDD6t/81FezUUAeM/8IP8A8FC/%2BjoPgz/4YfVv/moo/wCEH/4KF/8AR0HwZ/8ADD6t/wDNRXsodCxQOCw6jPIpaAPGf%2BEH/wCChf8A0dB8Gf8Aww%2Brf/NRR/wg/wDwUL/6Og%2BDP/hh9W/%2BaivYL/UdP0q2a91S%2BhtoU%2B/NcShFX6k8CuD8U/tcfsp%2BBtw8aftM/D/SSn3l1LxlYwEe2HlBz7VnUrUaKvUko%2BrS/Noyq4ihQV6s1H1aX5tHN/8ACD/8FC/%2BjoPgz/4YfVv/AJqKP%2BEH/wCChf8A0dB8Gf8Aww%2Brf/NRWNqf/BVH/gnXpEzQXX7X/gp2U4JtdT89fwMYYH8Kwda/4LL/APBMvQYzLfftX6RIB2stJv7k/lDbsa4pZvlMPixEF/2/H/M8%2Bee5HT%2BLFU1/3Eh/8kdv/wAIP/wUL/6Og%2BDP/hh9W/8Amoo/4Qf/AIKF/wDR0HwZ/wDDD6t/81FeMav/AMF9f%2BCZumsy2fxd1nUAOhtPCF%2Bob6ebEn61yXiT/g45/YE0ZD/Y3hz4i6y5%2B6th4dt0BPuZ7qP%2BRrlnxJkFP4sVD/wK/wCSZ14bG0Mc0sLzVW9vZ06tS/p7OjUv8rn0p/wg/wDwUL/6Og%2BDP/hh9W/%2Baij/AIQf/goX/wBHQfBn/wAMPq3/AM1FfG2uf8HJvwzRTJ4P/Y98c36H/Vtf38Ntu/74SXH61zqf8HI/jzVJjDoH/BPTU5BnCu3jSZyf%2BApphx%2BdckuMOHIu3t7%2BkZv8on0FDhvi7FQ56GUY2a7xwWKa%2B90Yn3X/AMIP/wAFC/8Ao6D4M/8Ahh9W/wDmoq3%2Byt8RvjT4w1j4oeBPjpr/AIX1bVPAPxCi0Oz1Xwn4audJt7q1l0HR9TVnt7i9vGWRZNRlQsJdpWNDtU5z8It/wXv/AGrNaXPhv/gn1PCT903Fzqtx/wCi9PWvpD/gkT8bviB%2B0b4U%2BNHxm%2BKPgRfDOu6z8Zh9u0RILiIW3leF/D0Efy3CrKN0cSP8yjO7I4INd2X59luaVnSw8m2lfWMkraLdpdzHF5LxDl1NVcfl%2BIw8G7KVWjOlFvsnN3vZN25dk9T65ooor2DzwooooAKKKKACiiigAooooAKKKKACiiigAooooAKKKKACiiigDmPjRofi3xH8Ldb0jwL8StS8H6rJZl7TxHpFlaXFzZFGDsY47yGaBmZVZP3kbgb84JArzz9mjxZ8Svj7/wAE%2Bfhn8QvEnxau9E8VeLvhRoGraz4zsNPsfPhu7jT7ee5uUhmha1RizSEBojEu77hA216f8Rvh/wCH/ip4J1D4feKrnV4dO1SERXcmg%2BIb3SrsKGDYju7GWK4hJIAJjkUkEqcgkHzPTv2Af2ZNN/Z1uf2TYtE8Wz/D678MHw7L4dvvih4guVXSyV/0VJpb5po0CqIhscERZiBEZKEAq/sEfEb4kfFL4W6/4r8X%2BPtQ8YeHG8Z3cXw08b6xptraXviPQFgtwl9LHZwwQMrXf21YZYoY0ntY7aYKfN3t5d8W/jL4c13/AILIfAPwFpFh4ggu9O%2BHHxIsdQl1XwnqNhazs7%2BG5l%2By3NzBHBfKPs53NbPKqfLuK7lz9MfB74NeDPgX4TbwV4DvfEc1gbkzqPE3jPU9cmjOxI9iT6lcTyxxBY1xErCNTuIUFmJ%2BW/2ztXbSP%2BCxn7Fu5sR3fh/4nW0hz/esNHKj/vpVrlxk/Z0Obzj%2BMor9T3eHMN9bzT2XenWf/gNCtL/20%2BzqKKK6jwgooooAKKKKACiiigAooooAKKKKACiiigDzPUv2ZP2bfjRo%2Bg%2BKfjF%2Bz34H8Wanb%2BH7W1g1HxL4Ts7%2BeOBVLrEsk8bMEDO7BQcAuxxkmqX/AAwP%2Bwr/ANGWfCX/AMNzpn/xiuT%2BL3/BSD9i/wDY%2Bl8OfDT9ov4y/wDCO63feFLPU7Wy/wCEd1G732r74lk32tvIgy8Mo2lg3y5xggnkP%2BH5v/BLL/o6L/yydc/%2BQq8XEYvh2nXlGvOkpp683s7387q9/U0XiHiMqX1SOcTpKnpyLE1IKPWyiq8VHfZRW%2B2p63/wwP8AsK/9GWfCX/w3Omf/ABivTtA0DQvCmhWXhbwtotppumabaR2unadp9ssMFrBGoSOKONAFRFUBVVQAAAAMCvlb/h%2Bb/wAEsv8Ao6L/AMsnXP8A5Cr6e8A%2BOvCvxQ8CaL8S/AuqfbtE8RaRbano975DxfaLW4iWWKTZIqum5HU7WUMM4IB4rowOIyetOSwcqbaWvJy3t58qWl%2B4pcXVeJP3U8xlieTWzrzq8t9L2lVqWvtdJX2v0PCfhh%2Bwv4r8AePPCmtan8Z9N1DQfA/xQ8VeL/DWlw%2BEJILsLrv9rPPaXFyb10lMUuqsUlSGL93CEZCzGQeR61/wRhl17xT498SXnx28OxXHjLwF4/8AC/8AbVr8L0TW7mPxNIri41XUTfF9Uey2iOFAtunljbtTAYe7WH7fnwj1fTrGbSfCniOa%2ButF8W6ld6TL9gt5dLTw5erYajHdyT3aQQMLt0gRml8tiSxdY1d14Twb/wAFPvA/x2m%2BHGo/ASCzlsdd%2BM%2Bo%2BBvG8F/fWOpS6ebfwbq/iFDbXOlX1xZyuxtLA70nmQJNNGwSVT5XpEHXSfsMB/EOq6%2BPihg6n8ddJ%2BI5iGif6v7FpGn6b9gz5/zb/sHmedgbfN2%2BW23c3efGv4Hah%2B0B%2BzzrvwS8f%2BMYre/1qwaNPEGh6WYBZXSSia1uooJZZctDKkL7WdldoznAbA%2BePFv/AAVWlf4IeFPGvwi%2BFOv%2BI73VIPh7J4j8Uy%2BH4LfRtFbxJd6cqQXMA1JrmO4a1vfNVIDdRQNNB5szKSW%2BkPjD8ePD/wAJPgF48%2BPt1o2pXNj4C8P6xql9ZXGnzWktwNOhlllWMTopZW8lgkqho3BDIzKQSAc78Bf2f/ih8KdX8ReO/Gvxa0PxD4q8ceLYtW8aajZeD5rC0ktYNMisLeysbdr6ZrTZ9nglMkstyWZrgbVEqeTxf7OP7Jf7U/wP0Xxxf%2BLP2mPh/wCLPGPjW7Oo3fjO5%2BEV7BPNfBwIRcxnXZFls4IALeG0hNuI1AYOXaRn2/2WvjZ8fvEPxU8TfAb9pUeEbnxFo3grw74rtdS8F6Vc2VoLXVZNSgNk0dzc3DvLbz6XNmcOiypNGRFGQy1zXjL9on9qj4ZfHjX/AIR31z4G8aSyfC/xF4u0fSvC/hS/t73w8bSaGPTIb9mvpxei8Mk0aGNLV2eym8tHVXMQBt%2BBv2Wv2hvhh4d8W6v4I%2BPngYeNvH/j5/E/i3VtV%2BFdxNo5Y6Xa6asNnp0WrxS258qyt2aSS6nZ3acsMSKI/OPFX/BJLTZvhVY/Cj4ffGWy0yC/%2BDDfC/xzqms%2BCo7%2B61HQmmlmJsClzBHpk6yXN0YyUuIUDxDyW8hKqaf%2B2/8AtNX/AOyHf/EPQde0TXviZp/ijwtZeI/Ddp%2Bzx4ptLvwpZ6jeWcd5LcaBJfvqV95NvLdTxyxNEkggJUMEarn7S/8AwUS8cfCv9iM/Fb4DeJPB3xF%2BIJ8Ma5rpvD4Yv9L0m1stGaQ6lPdafLdvd2rRSLHYG3efzVvJ1DhVSURgHbXH7Amq3nxik124%2BNrJ8Ph49vPG9p4OttBaPUYNdudLlsJH/tP7SQbUNPNeLF9nEouXB88xqIq4nRf%2BCW3jtPBFvoHij9pfS7jVPDfhHwv4c8C6jpHw7%2BxW8FpoWr2%2Bq2p1S2N/INTaSW1ijlWN7WPy3nESQtMWHpvx1%2BM37QXwd%2BP/AIE0iw8QeCNW8M%2BO/GdtoWneCIvDl4viBoDavLeait8L0w%2BXbbGmeM2gXylC%2BcJHQHh/gZ%2B1/wDtI/Fzxf4dh1E%2BCLDRPi54Y8U6l8L3h8PXktxoEmmXcEVqNTzehdRW4t7gXDrCLMxNE0IaTeJlAK3jr/gnR8dvF/gWfwnD%2B1D4TUeKfiZc%2BM/ijpV/8K7mXRPFEptraC304WcWsQy21iv2WGaaFrmb7XKG80mOSWKTf%2BNn/BPrxB8ZvG%2Bp%2BMZfi3oOlnxz4b8NaR8VVt/AjST6oNGvZryCbTJmvs6W7PczKfNF5sVYSm2SMyPm/A39p39pr46/DLx/eWPxI%2BH/AIZvPh/42%2BxX/jfxn8KdZ0i2k0pdJgvZpZtAv9TgvtPkSScIJLi5WOSGMzopR0zjfE39rL9tG6/Yd8DftTfCu%2B%2BHnh/xJ4us9H0%2Bx8GeKvAGpaiNX1nVL%2BGzsnhkj1WzktLWQzxzlJIpZIoSzOfkagDt/hr%2Bwj4p8D/HHRvH%2BtfG6z1Twx4V8deKfFvhbRI/CRg1VL/XXvGuYrzUjdut3axfb7hYolt4WxHa73kMALdX8OP2b/iX8Gfgrq3g74Z/FnQW8aa7401PxNrHi3xN4MlvrS6ur7UJLp1ayhv4H2xRPFbRYuQUS2izu27TCPi58c9F/b30/wCAfiK%2B8J3PgbxF8MtX8Q6LHZaJdRataXen3mjWzie5a6aGWKQ6lMQiwIyCJMyPk18xeCP%2BCvHxc0/wX44%2BIvxX8LeG2ttE%2BG1z4jstLXw1qWiLp9%2BNUj06CyW/u5pofEFmZJkMuq6dGLeIIp2sbiJaAPXLT/gm/wCJPDOk%2BGPFXgb4yeG4viFoWo%2BMLm71/Xvhx9u0iZPE12l3qkNvpa30Rtl82G38om4kIVHEvnmaRjR0j/glvf8AhK20T4eeD/2giPAVlH4EOrabrnhb7brc8nhX7J9h%2By6mLqNLRJTZQtKptpjukuXiaJpiy5fif9tf9ouz%2BDnh7XfAfj/w94m1mX4snw9491XS/wBmzxa8nhLTf7CutQU3Phxb86mJWnjs1E7OkRhv4nEeCGOV%2B05/wUq%2BK/wm/wCEU1D4T%2BIPBfifRr/4Y6b4oPiS18D6peaf4lnnvBbyIbi2vTF4Vs8ASLfak08A85lLMbWXcAdYP%2BCVPhjV21T4feMviPZT/DaWx8c22ieF9H8K/YtSt18VvM%2BpJdagbmRbqNPtM4iRbeEj9y0rTNEGPUfDD9j/APaC%2BFd54j%2BIeiftBeBZfHOu6N4e0KLUG%2BE00Wi22laOL37Op06LV0ke6Y382%2B4W5RdscCLCqxhSsf7Y3j3xL%2B3toX7Pfgfw7o8vw7l03XrLV/ElxHK13d69py2ck0FoyyCMW9ut0sUrlZC9wZYgYmtZA9b/AIJr/tT/ABd/aW%2BF9vqP7RfifRLTx%2BfCmiat4j%2BHtr8J9b8JX3hia8t3eWKWLV7ueS%2Bh85JYY7qJY4ma1lwXOQgB3vwS%2BAifs1fsyX3wsbxOus3Jm1/WNT1GLTls4Zb3U7671K5EFsrOLeBZ7uRYot7lI1RS7sC7UfHH/KQv4X/9kZ8ef%2BnbwhXqXjn/AJEnWP8AsFXH/otq8t8cf8pC/hf/ANkZ8ef%2BnbwhQB7NRRRQAUUVx3x4%2BNnhr9n74dS/ETxNpGp6pu1Kx0zTNF0SGOS91TUL26itLS0gWWSOPzJJ5o13SOkaAl3dEVmAB2NFeOw/tsfDJf2d9V/aF1bwn4l09dE19vD%2Bq%2BD7qzt21iDW/wC0E06PTNkU7wNNLdSwxxusxgcTxyCXy231Bpn7Y954j8Jahq3gv9ln4la34h0HxNJoXizwJYNoa6poN2tpDej7TJNqkdkyvbXVpMhhuZS63UeBncFAPaa8Z/YP/wCSIa5/2Wb4j/8Aqa63XoXwc%2BLHgz48fCXwz8bPh1ezXGgeLdBtNX0aa4t2ike2uIlljLxt8yNtYZU8g5B6V57%2Bwf8A8kQ1z/ss3xH/APU11ugD2aiiigAooooAKKKKACiiigAoqnr/AIh0Dwpo9x4i8U65Z6bp9pHvur7ULlIYYV/vO7kKo9ya%2BcPiH/wV6/YY8G64fB/g34lXvxE8QEkQ6D8M9Fm1qebHB2SQjyDz/wBNK5cTjcHg0nXqRjfu0m/Rbv5JnHi8xwGASeJqxhfa7Sb9Fu/kmfTdNmmht4mnuJVjRFJd3bAUepJ6V8jz/t/ftofEmB4P2df%2BCWfxAZplIttQ%2BJusWnh2OAnpJJDIzO6jqUVgxHAOaqWH/BN/4v8A7UV5F4v/AOCm3x/ufF8G8S2/wq8D3E2l%2BGbFuoEhRlnvGU9HdlYcjLCuJ5o6/u4OlKb7tOEF6ylFN%2BkYt%2Bh5zzp4l8uAoyqPu1KnBeblOKb9IQk/Q93%2BIX7af7IXwojlb4i/tOeBNJkhBL2t14ptROcdQsIcyMfYKTXjN1/wWO/Zz8T3r2H7OXwk%2BLPxfMLlZ7n4c/D25uLeLH3t0lx5PT1AIJxg85r0r4f/APBOP9g74XtHN4N/ZK8CRTQkGG6vfD0N5OhHQiW4DuD7g5rsfHn7Qf7N/wAC7NbH4k/GjwZ4ShtkCx2ur%2BILWy2KBwqo7qfoAKmp/a3LzVatOlHyTk/vnKMfwOvCZbxdm9dUcPyqT%2BzSpVK036Jr8oM8DP8AwVs0O3/dar/wT8/ajs7g8R21x8IW3SN/dXFwQc9ulA/4KK/tQ%2BKT5vws/wCCU3xdu4jyreLbuy0J8e6zM%2BD7VpeKf%2BCy3/BPHQNQOhaD8b5vFOpnPlab4Q8OX2oyS/7rRw%2BWf%2B%2B6zP8Ah5x8VfHX7v8AZ/8A%2BCafxv8AEO7iC88T6RB4fs5vQrNcO/y%2B5UV50sfBvl/tDm8qdOMn/wCSqp%2Bh9pS8H/FipTU8RCpQg/tVaeHwyt35sRVp6ekGKf2y/wDgplfjytF/4JD3qs3Cyah8a9HhVfcjyyfwFIfih/wWg8XDb4d/Zc%2BC3hAv91vFfjW71AR/732JRn8KB8Q/%2BCz/AMTDv8L/ALO/wY%2BGUD/eTxp4sutZuYx7HTwIy314pf8AhmL/AIKteOfm8df8FJtA8LQt/rbHwR8KrWbI9Fnun8xfrjNLnxdX4JYma/w06a%2B%2BST/A0/4hZOh/yM%2BJsPS7qNZVZL5YXCVFf0qNeYD4Qf8ABZTxWftHiD9sP4SeE3PJt/C3w/mv4x7br1g1Z/iL4C/8FNPDVoL/AMa/8FfvDGgQHP76f4NaQiD6GaYCtD/h1l4l8W/N8af%2BCiv7QHiNW/11jp3jJNLs5fUNDBEePowrQ8Of8EYv%2BCdWi3h1fW/gVL4k1FsebqPinxLqF9JL/vLJPs/8do%2BoZhV2pzXnPEy/Kmhf6j%2BF%2BF/3vPsXXfahRrL/AMmr16K%2Bap/I8R8ZeL/iT4RR0%2BJH/Bxr4NjC/wCttdK8BeHI7gfRYLh5B/3zXmGqftFfBO%2BvXsPD/wDwWY/aE8dayn/Ll8PvBUpBPsothG2e2Hr9C/B37CX7FfgB0m8IfsnfDuymj%2B5cp4Ps2mH/AG0aMv8ArXp%2Bl6RpWh2SaboumW9nbxjEdvawrGi/RVAAo/sLHVPjqRj/ANvV5v8A8mqxX4B/ZPgzhdsJmGJf/T3GQor7qUasrf8Abyfmfk6bv9tr4hf6D8OtV/bm1vS5P%2BWmqW2neF3l9ClzJ5jKvvt/CgfsBftreOP9O/4Y/wDiHa6i3%2Br8R/ED9qz7Xef7xFlGgX1I25r9aqKP9VKFT%2BNXnL7vwu52/rUPrfh5Q/3fhrDy7OviMdiH/wCTYmlH/wAkPyYg/wCCR/8AwVq119h/aZ0rR9IbroOpfGDxLdKPr5Uag/8AfVSSf8EAP2j/ABmcfEP4p/DeOR/9ZqFvd%2BI7%2Bf8AKe8RTX6x0U/9Tclfx88vWbf6afKxLzvJYu9LIctj2vg1Ut/4OxFZffH5H5VeH/8Ag2K0K3cXfiD9sa8Eu7ds0nwUIQnsHkvHY/U16DoH/Bur8ILOJbbxF%2B198U7qEdYtPvLe2H4bkkA/Kv0UorWnwhw5S%2BGgvnKT/wDbjz8bmNDHfHgMHH/BgcHT/wDSKC/G58H6b/wbt/sGQyCXxH4n%2BJOvMP4tW8Uw5P8A35to66vSf%2BCC3/BMbTVC3nwO1G/I6td%2BMdSBP/fqdK%2BxaK64cOZBDbCw%2Bcb/AJtnDh6kcHPnw9KnTfeNGhF/eqB8t6Z/wRY/4JiaTj7J%2Bypp7Y6fafEGpzf%2BjLlq6nw5/wAEuf8Agnj4WlEumfsfeBpSD01HRlvB%2BVxvFe90V0wyfKabvHDwX/bkf8j2lxXxQlaOOqq3apKP3cnJb5WOE0H9lv8AZl8Kosfhf9nTwJpqp9xbDwjZQhfpsiGK63SvDPhvQlCaJ4esbMDoLW0SPH/fIFXqK7YUaNP4IpeiS/JI83E5lmWNd8TXnU/xTnL/ANKnIKKKK0OIK8Z/Zf8A%2BS3/ALR3/ZZrH/1CvC9ezV4z%2By//AMlv/aO/7LNY/wDqFeF6APZqKKKACiiigAooooAKKKKACiiigAooooAKKKKACiiigAooooAKKKKACiiigAr4M/4KXap/YX/BVf8AYf1TdjdqnjG1z/13/sOLH47q%2B86/Ov8A4LH3suj/APBQb9iXX4%2BEs/Huom4bP3Yn1Tw3Gx/8frzM4lyZbOXblf8A5PTPuPDegsTxphaL%2B2q8fvwuL/yR%2BilFFFemfDhRRRQAUUUUAFFFFABRRRQAUUUUAFFFFAGV4G/5EnR/%2BwXb/wDota1ayh4M0NMrA19CmSRFb6tcxovsqrIFUewAFL/wh%2Bk/8/eq/wDg8u//AI7QBqUVl/8ACH6T/wA/eq/%2BDy7/APjtH/CH6T/z96r/AODy7/8AjtAHh/iD/gmn%2Bz54l8R/GbxLqGr%2BJhL8bdOtrPXLdNRh8nRBEpLSaahhIgaaci5mEvmpLMqllK/IX%2BCv%2BCd3w58LeLo/iF4g%2BMXj7xT4gPxOk8d3mseIL3T/ADLvU28Kz%2BF/LZLWyhiS3FhOWWOJI8TIjZ2bo29t/wCEP0n/AJ%2B9V/8AB5d//HaP%2BEP0n/n71X/weXf/AMdoA%2Bcv%2BHUnwYs/C%2BgeAfDnxn%2BJGkeHdIsfCEOqaDp2p6eIPEE3hprU6Zd3jPYtKJttlbJL9neCOVIlDJ8q4%2BgdY%2BHWkeLfA%2Bu/Dr4hX1z4j0nxFDfW2pWuqRwqGsroOr2Y8iOMGJY3MalsyFQN7u2WNz/hD9J/5%2B9V/wDB5d//AB2j/hD9J/5%2B9V/8Hl3/APHaAPM/gd%2Bx7pfwLk1LWdO%2BOfjvxBr%2BqQ6LY3XijxNPps98dI0qSV7TSR5dlHF9mH2i7DOYzcsbyZzP5hWRc74S/sTXHwe8d%2BP/AB/oP7VfxLvrr4i6he3%2Bsx6tB4flNvdTL5cEkM66StxttIgkVtDLLJDGiANG/OfXf%2BEP0n/n71X/AMHl3/8AHaP%2BEP0n/n71X/weXf8A8doA8q8Ofsc6h4XXxP4j0/8Aaq%2BJT%2BNvFradHqvxFni0FtTFnY%2Bd9mso4P7K/s9IFNzctj7JvLXDsXztK8t8QP8AglB%2Bxd8Xf2f9Q%2BA/xe%2BGFj4tuNStdaWXx/4m0TTr3xFBdarcTXV7fW91LalLad7ieSVRFGkUbbQkaqiqPfv%2BEP0n/n71X/weXf8A8do/4Q/Sf%2BfvVf8AweXf/wAdoA8h0n9hjw94X/aXi/aS8D/HLxpoQtdA0/QNO8C6bYaCdC03RrQLjTbOOXTHubK3ldFeVYLiNnZYxuCwwrHD4I/YC8DfDnxRfeKvB/xm8eWkkemazYeCLQ3OnSQeCYtVvI729/sxXsjuLTwwlfthuhEkYijCRFo29k/4Q/Sf%2BfvVf/B5d/8Ax2j/AIQ/Sf8An71X/wAHl3/8doA%2Bf/iB/wAE0fCPxM%2BH2teDfFv7TPxPuNS8UeMNO1/xf4qL6GbvXhYQCK1026tm0s2DWC7I3a3S1QSPH%2B8Lh5Vf03Vf2b9K8WXHw41D4kfErxL4mvfhrr0utafd6oLCI6rftZXVmk15Ha2sMTmKO8laNYkiUSBHIZkBrs/%2BEP0n/n71X/weXf8A8do/4Q/Sf%2BfvVf8AweXf/wAdoA848Rfso3XiH9rPRf2tP%2BGjvHtndaFoN1otn4MtLfRDozWN09pLcwuZNNa8PmzWNtKWF0HVoyEZEZkPD%2BFP%2BCXXwL0Dwk/w/wDEHxB8ceJNBsfh5c%2BBvBmk65qNmE8IaDPLayta6e9tawyllaw08pNcvcTL9hgw/Dbvf/8AhD9J/wCfvVf/AAeXf/x2j/hD9J/5%2B9V/8Hl3/wDHaAPJtC/Yy1Xwro2tv4W/a4%2BJ9h4p8UeIItV8T%2BPY4fD0mp6oYrKOzhtnil0l7KKBIootohto23IWLlnkL8t4h/4JafArVPCkfgDw98RPHfh/QL34eWvgfxpo%2Bk6raSR%2BL9Cgmu5ltdQkurWaUFn1DUN81q9vKwvpgXxs2fQX/CH6T/z96r/4PLv/AOO0f8IfpP8Az96r/wCDy7/%2BO0AeR6r/AME5v2Obz9orR/2rNC%2BBHhXQfHejyatcDxBoPhTTbe5vb3UAnnX1xN9mMs1ypV2SUvkNNKW3bzXQ/Bj9mO1%2BFPxB1n4t%2BKfjL4w8f%2BK9a0e00iTXvGP9mxyW2n20s80dtDDptnaQIvm3Ers5jMjkqGcqiKvd/wDCH6T/AM/eq/8Ag8u//jtH/CH6T/z96r/4PLv/AOO0AJ45/wCRJ1j/ALBdx/6LavLvHH/KQv4X/wDZGfHn/p28IV6ifBmhvhZ2vpkyCYrjVrmRG9mVpCrD2IIry7xx/wApC/hf/wBkZ8ef%2BnbwhQB7NRRRQAV5f%2B1v8G/Gfxn%2BGFhY/DW80yLxN4a8YaL4l0CPW55IrK6uNPv4bk2s8kUcjxJNGkkPmrHIYjIJAkmzY3qFFAHzb4O/Zg%2BK6/An4i%2BB/i58M/AXifU/iNrmoeJtV0UeM7%2B309NRnuE8ixS6TT/Pijgt7e0K6gkYm%2B0I0i28WFx5tbfsN/tgfDP4BeKfA/wKn8I2Gt/Fr4nnX/ihDefFXWzNZaR/Zlpp7WOn65Pp91eT3c0Wn24kvp4UkT7RcNEI2ELR/bdFAHF%2BF/hbptx8BdK%2BD2u%2BEoPCVnB4ettNfQvAXii8todJiijVFt7K%2Bt1tLhI41QIkiLC21R8q9K8//wCCdPh6w8Jfs3X3hbSri%2BlttO%2BLfxDtreXU9Unvbl0TxnrSgy3Fw7zTuQOZJHZ2OSzEkmvdK8Z/YP8A%2BSIa5/2Wb4j/APqa63QB7NRRRQAUUUUAFFeG/tR/8FCf2eP2WdSg8C63ql94o8d6gQmjfDrwbaHUNZvZGGVHkx/6lT13SFcgHbuIxXkX/Cgv29v2%2Bv8ATv2sfG83wX%2BGt1ynwt8CaiH1rUoT/BqOogYjUjhoohhlYqyowzXmV8zpxqujh4urUW6jtH/HJ%2B7H0d5donj4nOKUKzw%2BFi61Vbxja0f8c37sPRty7QOz%2BOX/AAUy8C%2BHfHsvwB/ZS8A6h8aPiap2TeHvCc6iw0o5wXv9QIMNsoOQRliGG1tmQaxH1/8A4La%2BOkKaT8P/ANn7wLBIMM2s6tqep3UQPdfIHlMw9%2BK%2Bg/gT%2Bzx8E/2ZvAsPw3%2BBPw40zw3pEOC1vYQ4edwMeZNI2Xmkx1d2Zj61xf7SH/BQX9kn9laY6P8AFb4uWX9vMQtt4T0VTf6rcSH7iC2g3OhY8AybFJ/irlrUq0aTrY/FOmu0GoRXlzNOUn56X6RR25PwpxTxRjVhqDq1a0tqWGi9F6qE5u3WcnCK/uo8v8O/8EqtM%2BKOtW3j7/goF8ffEvxr1qCQTQaHfSnTvDtjJ/0x0%2B3YKSOhZjhwBuSvcNQ1T9k39i/wKJb658B/DHw%2BowiAWmlQSEDoqjYJG9gCxz718/J4j/4KV/t1OD4Q0l/2bvhtcHI1TWLdbrxhqkP%2Bxbn93p4YcHcfMQ4KlxxXZ/Cr/gk1%2Bxt8P/EA8e%2BO/CGpfE7xW2DP4q%2BKeqvrV1Kw5BKTfuQQckER5HrWGFjZuWX4ZK//AC8qXTfnqnVl8%2BRdlY/QML4f8E8IyvnmNX1j7VLCqOIrX7VcTOfsIS7xU67js0nosHUv%2BCvnwU8ZX8vh/wDZJ%2BDfxH%2BNGoxuYzL4L8KTR6dFIO013ciNY17bwrCoRrn/AAWP%2BPhzpHg74Y/AfSJv%2BWmr3reJNbiB6FViAtDx1DYOce9fWem6ZpujWEWlaPp8FpawIEgtraJY441HQKqgAD2FT13f2fja/wDvGJl6QSpr7/em/wDwJHb/AK3cM5Xpk2TUk1tUxUpYqfryP2OHi/8AuFNevX5GH/BK/XviaRdftc/t2fFz4iM/NxpFhrC6DpEp75s7Qce2HGBXb/Db/glT/wAE8PhUUl8M/sneFLqVDkT%2BIbV9Wfd/ezetLznnIr6Coq6eTZXTlzexUpd5e%2B/vm5P8jlxfiVx5jKLof2hUp0n/AMu6LWHp/wDgGHjQj9935mZ4W8FeDfA2njSfBXhLTNHtRjFtpdhHbxjH%2BzGoFadFFelGMYqyVkfFVatWtUc6knKT3bbbfq22382wooopkBRRRQAUUUUAFFFFABRRRQAUUUUAFFFFABRRRQAUUUUAFFFFABXjP7L/APyW/wDaO/7LNY/%2BoV4Xr2avGf2X/wDkt/7R3/ZZrH/1CvC9AHs1FFFABRRRQAUUUUAFFFFABRRRQAUUUUAFFFFABRRRQAUUUUAFFFFABRXMfGjQ/FviP4W63pHgX4lal4P1WSzL2niPSLK0uLmyKMHYxx3kM0DMyqyfvI3A35wSBXgKftNfGW2/4JL%2BA/2kV8SwS%2BPfFfw38HtP4gutPi8uDU9YGn20moNAirERHLeNcGIKsfybcBeKAPqWvzl/4Ll/6B8cPgL4v6f8I9Bquo7v7u3xH4PTP/kSvrD9kTxr8S7vxX8WPgp8TfiNfeMpvhv48ttL0vxXqtjZ297fWl1ommamqXS2MEFv50cl7LHmKGMGJYSV3Fmb4y/4Lk/ETQfGd1eaF4e0rxDFqfgn4Ua9c3M2q%2BEdRsLSV/8AhLfA2Da3VzbxwXoCh9zW7yheNxG4Z8rPf%2BRNiH2g391n%2Bh9/4VNf8RLyeL2niKcP/BjlT/8Ach%2Bm9FR2d1DfWkV7bNujmjV429VIyKkr1dz4Fpp2YUUUUCCiiigAooooAKKKKACiiigAooooAKKKKACiiigAooooAKKKKACiiigAooooAKKKKACiiigAooooAKKKKACiiigArxnxx/ykL%2BF//ZGfHn/p28IV7NXjPjj/AJSF/C//ALIz48/9O3hCgD2aiiigAooooAKKKKACvGf2D/8AkiGuf9lm%2BI//AKmut17NXjP7B/8AyRDXP%2ByzfEf/ANTXW6APZqKKKAGzzw20L3NzMsccalpJHYBVUDJJJ6CvjH4i/tUfHD9vrxtqP7Ov/BPHXW0Xwdp9ybPx98ejEWt7b/npZ6P0%2B0XBB/1wO1AQVK5SQt/ad%2BI3jf8A4KC/G3Uf%2BCf37OXiS507wNoUir8d/iDpr/6uMk/8SK0k6GeXBWUjIQBlOdsiN9a/DL4Z%2BAvg34C0v4YfDDwtaaLoOi2i22m6bZR7UijX9WYnJZjlmYliSSTXiznVzWrKlSk40Yu0pLRza3jF9IraUlq3eMWrSkvnalSvndaVGhNxw8XaU1pKclvCD6RW05rVu8YNWlJeffss/sN/s5fsf6VLH8JPBIbWr5c634u1iU3er6rITl3nuX%2BY7m%2BYou1MnIUVY/ai/bU/Z4/ZA0GHU/jL42WLUb/C6L4Z0yL7VquqyE7VS3tk%2Bd8thdx2oCQCwzXlH7UH7ZfxO8e/FS4/Yl/YDgtdW%2BI2wDxh40uEEuleBLZjgyztgrLd9dkHOGHzAkFK7L9lv/gnh8Ef2a9cm%2BKOqXGo%2BO/iVqA3az8SfGc5u9SnkIwwhL5FrH1AWPnbhWZ8CphWk74XLIRUY6Odvci%2BqSWs5LrrZP4pN3R%2Bv5Xwdw9wrlVHGcRc1OM4qdHCUUo1qkHrGpUlJNYelPeMpRnWqq8qdPlaqy8rXwj/AMFBv%2BChLC4%2BI2p6j%2Bzx8Jrk5Xw7o9wD4v1yA9rifG3TkYfwKN4%2BZXVwQ1e6fs4/sLfspfsoQeZ8Efg1pWm6i6n7T4guUN1qVwT94vdTFpTuJJKhguTwBXrdFdWHyvD0antql6lT%2BeWrX%2BFbRXlFLzb3OfOOO85zHBvLsGo4PBf8%2BKF4Ql51ZX9pXn3nWnP%2B7CC0CiiivSPigooooAKKKKACiiigAooooAKKKKACiiigAooooAKKKKACiiigAooooAKKKKACiiigAooooAK8Z/Zf/wCS3/tHf9lmsf8A1CvC9ezV4z%2By/wD8lv8A2jv%2ByzWP/qFeF6APZqKKKACiiigAooooAKKKKACiiigAooooAKKKKACiiigAooooAKKKKAMT4jfD/wAP/FTwTqHw%2B8VXOrw6dqkIiu5NB8Q3ulXYUMGxHd2MsVxCSQATHIpIJU5BIPBeCP2JP2c/AHwRb9m/RvDWu3ngc%2BGX8Pr4c8Q%2BOtY1aCPTSAogT7ddysgRQFjZSGiVVWNlUAD1iigDkfgx8C/hp8APDV14V%2BGWlX0MOoanJqOqXmr67eapfahduiI09zeX001xcyeXFFGGlkYqkUaDCoqj49/4LRaN/b2l3ljs3eX%2Bzh4%2BuMf9cdc8FzZ/8cr7wr48/wCCnGjf8JB4j1PSlTcz/sl/Fho19XW48LOv/jyiuHM4e0yyvHvCf/pMj6ngbE/U%2BN8rr/y4nDv/AMr0v8z6Z%2BBWtf8ACR/BHwd4h37vt/hXTrnd677aNs/rXVV5R%2BwhrP8AwkP7Efwf1kvuaf4Y6C0h/wBv%2Bz4Q3/jwNer1thJ%2B0wlOfeMX98Yv9TzeIMN9S4gxmH/krVo/%2BA1asf8A20KKKK6DyAooooAKKKKACiiigAooooAKKKKACiiigAooooAKKKKACiiigAooooAKKKKACiiigAooooAKKKKACiiigAooooAK8Z8cf8pC/hf/ANkZ8ef%2BnbwhXs1eM%2BOP%2BUhfwv8A%2ByM%2BPP8A07eEKAPZqKKKACvP/wBpf443PwB%2BGsXizRfCK%2BINa1XxDpeg%2BG9Dk1H7HHe6jqF7FaQLLP5chghVpfMlkEcjLFG5VJGCo3oFefftL/A66%2BP3w1i8J6L4vXw/rWleIdL17w3rkmnfbI7PUdPvYruBpbfzIzPCzReVLGJI2aKRwrxsVdQDz65/boutC/Ze8U/G7xb8KY7TxP4O8YnwjrfhK38RCS0j1h9SgsIMag8CYspDdWtwbloFaOCUs8QZGjrCsv8AgoD498QXzfB3wf8ABDw3qXxctfiTeeDtW8Lp8Q5F0SznttFh1qW6OqjTmmaEWl1aJj7EJBc3HlMqqjyr1vw//ZW%2BI3gj4R%2BMfAOqfEzwf4h1Tx1dalqviK%2B174dyT6fd6rezMZDJYnUcPYLbCG2W0MvmbIdz3LsxNcJ4H/4Jp6j8IfDmleI/gl8TfCPhb4h6f49vPFEuq6d8MxF4cdrnSY9IksItFgvomgtVs7e02Kt3vE1qsrvJvkRwD3r9nf40aP8AtE/A/wAL/G3Q9HudNg8SaRFdvpd6ytNYTEYltpCuVZ4pA8bFSVJQkEgg1xn7B/8AyRDXP%2ByzfEf/ANTXW66D4U/sxfDX4d/szaJ%2By14m0q18YeHtN0GPTtVj8TadDcR6y33ppriBlMTGWUtKybdoLYAAArkf%2BCdPhjw14K/ZuvvB/g3w9Y6RpGl/Fv4h2mmaXplolvbWkEfjPWljiiiQBY0VQFCqAAAABQB7pXzT/wAFF/2k/H3gTQNB/Zb/AGbZhN8XfizcvpnhfYx/4ktnj/S9WlxyiQx7irf3vmAby2FfQHj3xt4e%2BGvgbWfiL4tvBb6VoGlXGo6lcH/lnbwRtJI34KpNfLf/AATP%2BGvin4vX2s/8FLfjvaKfGPxUtlXwnprEsvhvwwrZtLSIkdZQFmdhgPlGwCz58rMatWrOOCou0ql22vswWkmvN35Y%2Bbb%2ByeJm1atWnDL8O2p1U3KS3hTVlKS/vO/JD%2B83L7J7n%2Byj%2BzF8Of2Q/gho/wAEvhtaZt7CLzNS1KVP3%2Bq3rgedeTHktJIwzyTtAVRhVAHif7X/AO058Vfi38VW/YA/Yf1dYvG93brJ8QvHkYL23gXTH6sWB5vZFOI4wQy5B%2BU4ZOq/4KF/tS%2BMvgt4N0b4KfAC2TUPi98T71tH8A6dwfshI/f6nKMELDboS5YgjdtyCofHYfsbfsj%2BAv2OvhFD8P8AwvNJqWs38pvvGHim9Je817U35mupnYljli21STtXjJJZjhVTrz/s7Ce5TgkptaWVtIR7SktW94xd/ikmv17hnLMq4LyCjn%2BOoxnOV44LDyScJOn7ssRVi/io0pe7Tg9K9dNSbpUqnPpfstfsr/CL9kH4V23wp%2BEOiGGBX8/VdUum8y81a7YfvLq5l6ySMfwUYVQFAA9Hoor2KNGlh6UadKKjFKyS2SPicxzHH5vj6uNxtWVStUk5SnJ3lKT3bb/4CSSSSSSRRRRWhxBRRRQAUUUUAFFFFABRRRQAUUUUAFFFFABRRRQAUUUUAFFFFABRRRQAUUUUAFFFFABRRRQAUUUUAFeM/sv/APJb/wBo7/ss1j/6hXhevZq8Z/Zf/wCS3/tHf9lmsf8A1CvC9AHs1FFFABRRRQAUUUUAFFFFABRRRQAUUUUAFFFFABRRRQAUUUUAFFFFABRRRQAV80/tf6L/AMJJ%2B0ZpHh3Zu%2B3/ALNPxPttvrvvPCi4/WvpavEfibp8Orft7/DjSrj/AFdz8EfH8T/RtU8Ig/zqKsPaUpQ7pr701%2Bp1YHEPB46liF9icZf%2BAyjL/wBtMn/glJrX9vf8E6PhDfb93l%2BEIbbP/XF3hx/45X0JXyn/AMESdQmvP%2BCZXw3tbviewOr2c65%2B60erXigf987a%2BrK4Mmn7TJ8PLvTh/wCkr/I%2Bs8S8OsJ4jZzRW0cViF/5WqP/ANuCiiivSPiQooooAKKKKACiiigAooooAKKKKACiiigAooooAKKKKACiiigAooooAKKKKACiiigAooooAKKKKACiiigAooooAK8Z8cf8pC/hf/2Rnx5/6dvCFezV4z44/wCUhfwv/wCyM%2BPP/Tt4QoA9mooooAKKKKACiiigArxn9g//AJIhrn/ZZviP/wCprrdezV4z%2Bwf/AMkQ1z/ss3xH/wDU11ugDzb/AIK8eKNc1v4CeHv2TvA980PiH43eNbDwpbvF9%2B3sGlWW9uMd0WFNj/7M1fQXiPxB8Nf2aPgjdeIdXlj0nwn4G8Nl32ji2srWDCoo7kIgVV6k4A5NfNuh/wDGTP8AwV/1TXT%2B/wDD37O/gZLC0PVB4h1hd8rqeh22a%2BWwHKsoz6VD/wAFBLy7/ax/aD8A/wDBNPwtcyHStVkj8W/GCe3cjyNAtJQYbRiPum5uAq%2Bq7Y25VjXzbxUqbxONiryclSpru46fc6jk35Qb6HZ4dZBS4s4trVMTNww0W/azX2MNhk5VprpeUnKMF9qpKmtS7/wTt%2BFnjX4z%2BLtX/wCCl37Q2kmHxT8QrJYPAGhTnePDHhfO62hTsJZwRK7DqGB%2BXe619cVHZ2dpp1pFp%2Bn2scEEEaxwQwoFSNFGAqgcAAAAAVJXs4HCRwWGVNO73k%2BspPWUn6v7lZLRHq8U8Q1uJs5njZQVOmkoUqa%2BGlRguWlSj5QhZN7yk5zleU2wooorrPngooooAKKKKACiiigAooooAKKKKACiiigAooooAKKKKACiiigAooooAKKKKACiiigAooooAKKKKACiiigArxn9l/8A5Lf%2B0d/2Wax/9QrwvXs1eM/sv/8AJb/2jv8Ass1j/wCoV4XoA9mooooAKKKKACiiigAooooAKKKKACiiigAooooAKKKKACiiigAooooA8w/bT%2BL3ir4B/smfEP4x%2BBo7U634f8KXl1o730Re3huhGRFLKoILRI5V3XIyqsMjOR5l4L%2BMXxh%2BEmkftBfD34hfHOLxRc/Crw7BrmhePvG%2Bm2lqIYrjSZLgx6gumW8ETRwT20shaKFX8iZFIdl3v9E%2BNPBvhX4i%2BDtW%2BH3jrQLXVdE13TZ9P1jS72IPDeWs0bRywyKeGR0ZlI7gmuC8B/sa/s9/Dnw1qnhDQfCuq3en68LoeI4vEPi/VNWbWxcWsVpIt899czPfAW0EUKCcyCKNAkewEggHj/8AwTd%2BNv7SXj/xl4y%2BHv7SmpeMYr/TPCPhbW7DRviNpmiW%2BsxHUF1Bbi5Q6Gi2jafJLabIEkP2yOS3uRcKgaEHqb/4neG/GP8AwU28F%2BDNJ03xDDeeHvg944jv5tV8I6jY2kpfVvCWDbXVzBHBegbTlrd5AuRuI3Ln0X4F/st/BX9nCTUrr4VaBqkV3q9taW2oajr3inUdZu5La1EgtbYXGo3E8qW8PnTGOBWEaGaQqoLsTzfjj/lIX8L/APsjPjz/ANO3hCgDzH/gjL/xL/2Tda8IdP8AhHvin4l07Z/d237vj/yJX1pXyX/wSc/4lll%2B0J4Pbj%2ByP2nPFccK%2BkLm2dD%2BOWr60ryci0yiiuya%2B6U1%2Bh%2BgeKnveImZVP55xn/4Mo4ep/7kYUUUV6x%2BfhRRRQAUUUUAFFFFABRRRQAUUUUAFFFFABRRRQAUUUUAFFFFABRRRQAUUUUAFFFFABRRRQAUUUUAFFFFABRRRQAV4z44/wCUhfwv/wCyM%2BPP/Tt4Qr2avGfHH/KQv4X/APZGfHn/AKdvCFAHs1FFFABRRXmH7W3xk8ZfBj4YWF98NbPTJfEviTxhovhrQJNbgklsrW41C/htjdTxxSRvLHDHJJN5SyRmUxCMPHv3qAen0V8war%2B2T8ZvCn7GvxQ%2BKeueH/Dl/wCPfhb4m1Dw/qT2FlPFpl7LDcQiO%2BitWuHnYG1uYZ/sSzvK8oa3jldmRz5bcf8ABSr9oj/hWVpexx6Il6/xc1LwpP4og%2BCniO7u/sttoi6kkj%2BDYrsa1bTvIzQlJJDshjS8ZRDcR4APvGvD/wBirV7Hw/8As7%2BJ9e1OXZbWPxc%2BJdxcP/dRPGeuMx/IGuh%2BBn7Rel%2BMP2QfBv7UXxr1jw14Tg1rwPp2u%2BIrs%2BIYG0rTXuLaOSQC8Z/KMSu5UPvIIx8x6n570r4w%2BGtL/wCCRvxn%2BMXgnxRY6lp13rXxXuNC1jTLxJ7a6%2B0eKtdS2milQlZEZpI2VlJDAgg81jiayw%2BHnVf2U39yb/Q58XXWFwlSs9oRlL7ot/oaH/BJq7tfDH7DGt/th/EybytU%2BJPiHXvHni25bkxR%2BfKqopP/ACzWC3DKOAN5xWj/AMEo/BOveM/AHib9vD4o24/4TH45ay2rmNjuOm6LCWi06xQn%2BFYhvyPvB0zyua8//aPn1j4A/wDBDzwp8H/C8ZXxH4u8DeHfB%2Bm2oO0z3upJDHcp68xvcmvtP4VfD7R/hL8L/Dnwr8PKBYeGtBtNLssLj91bwpEvH0QV89llByr4elLajSjJ/wDXyp1fny87/wC3mfccO0pcN%2BDVNrStmFWNNvq6OHhCrUXpUxVeHN/M6ST%2BGxv0UUV9OfHhRRRQAUUUUAFFFFABRRRQAUUUUAFFFFABRRRQAUUUUAFFFFABRRRQAUUUUAFFFFABRRRQAUUUUAFFFFABRRRQAV4z%2By//AMlv/aO/7LNY/wDqFeF69mrxn9l//kt/7R3/AGWax/8AUK8L0AezUUUUAFFFFABRRRQAUUUUAFFFFABRRRQAUUUUAFFFFABRRRQAUUUUAFFFFABXjPjj/lIX8L/%2ByM%2BPP/Tt4Qr2avnL40fEG28Jf8FSfgD4Su5AB4q%2BE3xHsbZTjJmiu/Cl0Mf9s7eXj39qmc4wV5eX4u36kTqRpx5pbaL73Zfi0cx/wTp/4lH7TP7VXhDp5HxhTUdnp9rs0fP47K%2BtK%2BS/2O/%2BJN/wU3/a38NHhJ5/Beo24/veZpMokP8A30BX1pXl5LpgeXtOovuqT/zP0PxN97ipVv8An5h8FP8A8CwWG/8AkQooor1j8/CiiigAooooAKKKKACiiigAooooAKKKKACiiigAooooAKKKKACiiigAooooAKKKKACiiigAooooAKKKKACiiigArxnxx/ykL%2BF//ZGfHn/p28IV7NXjPjj/AJSF/C//ALIz48/9O3hCgD2aiiigArjfjx8EvDX7QPw6l%2BHfibWNT0vbqVjqel61ok0cd7peoWV1Fd2l3A0scke%2BOeGNtsiPG4BR0dGZT2VFAHh0f7B3gGT4Lax8EdX%2BKvjW/tNe1P8AtrU9aubmwTUZdfGprqaa0JYrRFW6S5jgKRhBaoltFGtuEUqcpP8AgnZ4UtbtfG%2BlftFfEmz%2BILeKrvXrz4nQTaO2rXk9xpttpksMkD6a2n%2BR9ksrOMRpaLtNqjgiQu7fQ1FAHMfBf4R%2BDfgJ8JvDvwX%2BH0Fwmi%2BGdJh0/TvtlyZpnjjULvkkbl5GOWZj1Zie9fCH7XWoXk3/AASZ8b/DnS5jHe%2BOf2jPFXh6yZepef4j6o5A9cpE4%2BhNfotX5x/EL/is4P2fPgmvzf2v%2B2x4812aEf8ALSHSvFuvzuCO6/vBn8K8rO23lVWC%2B0lH/wADlGP/ALczxOI23kleC3mlD/wOUYflJnrn7X2nWfxQ/b2/Zo/ZW0uEHSvC15fePtbthyII9Oh8nTnx6faGdcnpX2BXyN%2Byj/xen/gpr%2B0D%2B0FIPNsfBVjpfw78O3HXHlL9r1GP223JTgf3ua%2BuanKV7R18R/PN2/ww/dx/9Jk/mfrnHyWX08ryWOn1XC03Jf8AT3E3xVT5pVaMX/hS6BRRRXrn58FFFFABRRRQAUUUUAFFFFABRRRQAUUUUAFFFFABRRRQAUUUUAFFFFABRRRQAUUUUAFFFFABRRRQAUUUUAFFFFABXjP7L/8AyW/9o7/ss1j/AOoV4Xr2avGf2X/%2BS3/tHf8AZZrH/wBQrwvQB7NRRRQAUUUUAFFFFABRRRQAUUUUAFFFFABRRRQAUUUUAFFFFABRRRQAUV5h%2B2n8XvFXwD/ZM%2BIfxj8DR2p1vw/4UvLrR3voi9vDdCMiKWVQQWiRyruuRlVYZGcjzLwV8dviz8B9J/aC8MfE3x/qXxMk%2BD3h6DxHo%2Bt6tp9jZ31/BNpMl01jONPt4Lcus1rKVdIVPlXESsHZC7gH05X5%2B/8ABVrxnc/C7/gpV%2BxZ8UIdywafrXiex1GcHAgtb%2B48P2Mrsf7oE4B%2Bte1f8E8/jl45%2BJVtqPh34z%2BPfiFfeMpvCuieJZ9I8ceHNE0%2B1isb8XIjutLXS0Li0klgnQQ3ssl5CIEEoUvl/nX/AILK6ppXxn8T33hbwbpviO3174c/BXxdrq32peENRsbZZbTxB4NuTJaXVzbpBegRQzBmt3kCbhuI3DPm5xzrK60obxXMv%2B3Wpf8AtrPIz/2iyavOn8UY8y9YOM/x5Gvme3fBj/iSf8Fi/jTpn3f7c%2BFvhzUcf3vJd7fP64r60r4n17x9Z%2BF/%2BCjfwE/at09gnh749/CqXwvdyZzHBcqqapZNn%2B9L5nlLjrtP1r7YrHJ5xca8F0qSfynyzi/mpXP1bjyUcZTyjMqbvTr4HDWfeVFVKE16xlCPycX1QUUUV7B8AFFFFABRRRQAUUUUAFFFFABRRRQAUUUUAFFFFABRRRQAUUUUAFFFFABRRRQAUUUUAFFFFABRRRQAUUUUAFFFFABXjPjj/lIX8L/%2ByM%2BPP/Tt4Qr2avGfHH/KQv4X/wDZGfHn/p28IUAezUUUUAFFFFABRRRQAV%2BbnwP1G18Tf8FC/hvo16%2BYPhxqHxt8WXA/55rd%2BNtZsN5/74xX6R1%2BT/7L/icyfG79tj4wljn4W%2BFvHmiRSn%2BA3PinxHqm0H3KA/WvFzuooUaSfWcX8oKdR/8ApCOHEYOWaZll2XR3r4mhD/ydP/I%2BsP8Agi5pN1c/sMad8XtbX/idfEvxZrnivXn/AOel1cX8se7PfMcERr6wrw//AIJpeFv%2BEP8A%2BCf3we0fy9hf4fabdsuMYa4gW4P45lNe4V05PTdLKaEHvyRv6tJv722/mfoPiNjY5h4gZtXj8LxNZR8oxqSpxS8owpxivKKCiiivRPjAooooAKKKKACiiigAooooAKKKKACiiigAooooAKKKKACiiigAooooAKKKKACiiigAooooAKKKKACiiigAooooAK8Z/Zf/AOS3/tHf9lmsf/UK8L17NXjP7L//ACW/9o7/ALLNY/8AqFeF6APZqKKKACiiigAooooAKKKKACiiigAooooAKKKKACiiigAooooAKKKKAMzxp4N8K/EXwdq3w%2B8daBa6romu6bPp%2BsaXexB4by1mjaOWGRTwyOjMpHcE1xfwp/ZP%2BCHwWs7mx8CaJrW2/uZp9Wk1vxjqmqy6rJLbw2xN7JfXMz3u2C3hijE5kESRhY9gyD6PRQB538Cv2Vfgb%2BzdNqF38I/C99aXGp2dpZXN1qviTUNUmSytfN%2By2UUl9PM8FrD503lW0RWGMyuVRdxz57%2B0h4Dsfin%2B1x4U%2BGOqbfs3iP8AZ6%2BJGl3G8ZGy4v8AwnE2fwc19DV4z44/5SF/C/8A7Iz48/8ATt4QqZxjODjLZ6ffp%2BpM4RqQcJK6aafo00/wZ8Vwf8JZ8V/%2BCE3gf4raFA3/AAm3wF1O31ixib79rcaDfyQOrEcgCyVnx7Cv0g%2BG/jzQfin8O9B%2BJvhafzdM8RaNa6np8mc7oJ4llQ/98sK%2BUf8Agnr4Y0Wy8cftU/sc%2BKLNZtOsPite6gdPfoul67aCZIQP7hVZMf7xrc/4I/8AifWrL9mHUv2cPGV402v/AAZ8bar4N1BpOGlht5zJbSgf3DDKqKehEVfL5NKVGtRUvt0%2BR/46DcfvcPyPrOHJyzvwXpU5u9XLK/K%2B/ssRelL5RxOGi/J1fM%2BrKKKK%2BqPlQooooAKKKKACiiigAooooAKKKKACiiigAooooAKKKKACiiigAooooAKKKKACiiigAooooAKKKKACiiigAooooAK8Z8cf8pC/hf8A9kZ8ef8Ap28IV7NXjPjj/lIX8L/%2ByM%2BPP/Tt4QoA9mooooAK8w/a2%2BMnjL4MfDCwvvhrZ6ZL4l8SeMNF8NaBJrcEktla3GoX8NsbqeOKSN5Y4Y5JJvKWSMymIRh49%2B9fT64348fBLw1%2B0D8Opfh34m1jU9L26lY6npetaJNHHe6XqFldRXdpdwNLHJHvjnhjbbIjxuAUdHRmUgHiWq/tk/Gbwp%2Bxr8UPinrnh/w5f%2BPfhb4m1Dw/qT2FlPFpl7LDcQiO%2BitWuHnYG1uYZ/sSzvK8oa3jldmRz5jbf8FP/i0fA%2BneG7260OHxVrXxb1LwppXiFvhD4iL/AGGx0eLU5rmXwms7avFdbpRAtnJKjtDi%2ByIGVG98j/YO8AyfBbWPgjq/xV8a39pr2p/21qetXNzYJqMuvjU11NNaEsVoirdJcxwFIwgtUS2ijW3CKVNOH/gn54QtrFtatfjv8QI/HknjiTxZL8Ug%2BkHWX1B9KTSGBibTzp4hOnxRW/ki0CYiSTHnDzaAPQ/A/wAbvAM37PGi/Hnxn8Y/Ck%2BgT%2BG7bUdR8b27jTdHmR41LXSC5mc20LMchJZXZAQrOzAk/lx8Itc8Pwf8E8f2/v2kfCuuWeoaZ4y%2BO/i3S9K1fT7pJre/szrMkUM0UqErJE41AlXUlWByCa/Vn4K/CHwf8A/hRoPwc8Apdf2T4e09LS0kvrkzXE2MlpZZDjfI7lnZsDLMSAOlfnb8fPAlvof/AATH8e%2BA4pFkk%2BKn7Y3iiCdEH32l%2BIN%2BAp9Tss0/KvC4hpyll06i%2BzGf3yg4L8ZH1vh1l8Mw8T8h9p8EMVTnL0i%2BZ/dGEmfol8D/AAt/wg3wV8H%2BCfL2f2P4W0%2Bx2Y%2B75VtHHj/x2uooAAGAKK9uEFTgoLZJL7kl%2Bh8zisRUxeKqV5/FOUpP1lKUn%2BMmFFFFUYBRRRQAUUUUAFFFFABRRRQAUUUUAFFFFABRRRQAUUUUAFFFFABRRRQAUUUUAFFFFABRRRQAUUUUAFFFFABRRRQAV4z%2By/8A8lv/AGjv%2ByzWP/qFeF69mrxn9l//AJLf%2B0d/2Wax/wDUK8L0AezUUUUAFFFFABRRRQAUUUUAFFFFABRRRQAUUUUAFFFFABRRRQAUUUUAFFFFABXjPjj/AJSF/C//ALIz48/9O3hCvZq8Z8cf8pC/hf8A9kZ8ef8Ap28IUAeR%2BJ9SP7LH/BXC08aeJYvI8K/tCeELbQ4NTDYSLxHppPkQy9h5tuwSPuztgDgmq/ibWH/YW/4KYXfxB8UQCD4b/tHRafps%2BrA7YdI8U2cTRQJL2RbmIkBv4pCSeEJr2b9vT9l1P2t/2ata%2BGGmXn2HxJaNHq3gnWFfY%2BnazbEyWsyv1TLZjZhyEkfHOK88%2BE2q%2BBP%2BCsf/AAT3uPBnxl0s2WtXUEuh%2BNbMQhbnQfEdmQryov8AyzdJQk6L/ckCtkFhXzFfD1aWKlQp6S5nWpX2b2qQfk7/AHTv9k9Lw%2BzzA8M8S4nK80TeBx0JRnbWShOUJTlBdamHrRp4iC%2B1Hng9JXX1PRXzL/wTo/aV8b%2BMNG1z9kz9pO/ji%2BL/AMKJ103xCssvza7YAD7Lq8O7mRJYym9uu4hmC%2BYor6ar3sHiqWNw8a0Ou6e6a0afZp3T9OzR08R5BjeGc5q5dirNws4yjrCpCSUqdSD%2B1CpBxnB9nZ2lGSRRRRXSeIFFFFABRRRQAUUUUAFFFFABRRRQAUUUUAFFFFABRRRQAUUUUAFFFFABRRRQAUUUUAFFFFABRRRQAUUUUAFeM%2BOP%2BUhfwv8A%2ByM%2BPP8A07eEK9mrxnxx/wApC/hf/wBkZ8ef%2BnbwhQB7NRRRQAUUUUAFFFFABX5y/Ff/AIqPwJ8Bvhmpz/an7eHiy/nj/wCekFl4x8RSyKfb5lz9K/Rqvzl8KZ8Uftgfs2%2BBVG6Kz%2BN3x01u9X%2B75PiPV1hb/v4SK8nO9cvcP5pU4/fUh/kfoHhj%2B74vjif%2BfNHF1f8AwXg8S1%2BMl87H6NUUUV6x%2BfhRRRQAUUUUAFFFFABRRRQAUUUUAFFFFABRRRQAUUUUAFFFFABRRRQAUUUUAFFFFABRRRQAUUUUAFFFFABRRRQAUUUUAFeM/sv/APJb/wBo7/ss1j/6hXhevZq8Z/Zf/wCS3/tHf9lmsf8A1CvC9AHs1FFFABRRRQAUUUUAFFFFABRRRQAUUUUAFFFFABRRRQAUUUUAFFFFAHkX7fXxC8afCj9ij4p/Ej4eazJpms6L4G1G6stXhjDPppWBt14oYFSYF3TDcCuY%2BQRkV518DfHOpfs/a1%2B0J4U8O3/jz4i%2BFvhnaadq%2BgabPrV94l1qW6l0YXdzpNtPcyTXN1I%2By3njhZ3YNqAVdsZjRfp29srPUrOXTtRtIri3uImjngmjDpIjDDKyngggkEHgg1ynw5/Z5%2BAPwe0%2Bw0n4R/A7wf4WtdLluZNMtvDnhm1sY7N7gILholhjURmUIm8rgvsXdnAoA%2BZf%2BCUfxt8e/FHx98dtE%2BJ/jTx7rGs2fjbS9Qmg8XeEdd0qz0g3mhafNLp%2BnxatawGC2inaZY4QqyNHsnkUm48yT0O/8aeJPEP/AAU28F%2BHdW%2BEfiHQrPSfg944Sw17VbnTntNaDat4Sy9sttdyzoE2jP2iKA/ONob5se8aV4V8L6Fq2p69onhuws77W7mO41m9tbNI5b%2BZIUhSSZ1AMrrFHHGGYkhI1UcKAPKPHH/KQv4X/wDZGfHn/p28IUAezV8W/tAaB8TP%2BCdH7RXiP9uL4U%2BFJ/Efwp8cvby/GfwlpkJN5o9xEpT%2B3bRAcONpJnTgn5mY4O%2BL7Sps0MNzC9vcRLJHIpV0dchgeCCD1FceNwaxdNWlyzi7xkuj226prSS6p27NefmOAWOpR5ZOFSD5oSW8ZWtt1TTalF6Si2tHZr5p/aE/Zk%2BGP7dvg3wx%2B1Z%2By/8AFaDw/wDEDTLMXvw7%2BKGgncJIzk/ZLtQP39sxLI8TgtGS428yRvF%2Byt/wUItvFnjA/svftgaLbfDn40aYwgn0O9k8ux8Qjot3pk7fLMkmMiLcXByBu2kjkPEf7J/7Tn7CfjLWPiz/AME7ItO8ReB9Yvm1DxL8BtZn%2BzwpMR%2B9m0e5PFs7dfJYbOOA%2BI0XV0340f8ABPj/AIKoeEpfgb8afDEFh4vsJWiu/APjaH%2BzPEeh3gA3G2yVk3Dg74WIIwHAyVrwlUrUsXzRtSxEvijK/s6tusZfzdn8aWk4ySTPtOHuP8sxuX0uG%2BMqUuWF1Rqwt7Wjd3fsJTtGtQk3zSwtSUZQbcqTpzcvafW9FfG1p8Of%2BCmH7DsZsvg74hs/2hfh1aH/AEXw54u1IWPirT4B0iivSPKuwoz/AKwbzwqqBXX/AAo/4KzfsjeONdHw%2B%2BKniDUvhR4yjIS88JfFHTn0meJzxxNL%2B4cE/d%2BcM3HyjOK9Snm%2BGUlTxKdGfaeif%2BGfwS%2BTT/unt4vw6zqpQli8klHMMOtXPD3lOK/6e4dr6xSa681OcE9qrVm/pqiodO1LTtYsIdU0m/hurW4jDwXNtKHjkU9GVlJBB9RU1eqmmtD4GUZRk01ZoKKKKBBRRRQAUUUUAFFFFABRRRQAUUUUAFFFFABRRRQAUUUUAFFFFABRRRQAUUUUAFFFFABRRRQAV4z44/5SF/C//sjPjz/07eEK9mrxnxx/ykL%2BF/8A2Rnx5/6dvCFAHs1FFFABRRXkP7a/xI8ffDz4T6RZfDLxK2hax4s8f%2BHfDEPiJLSGd9Ji1DU7e3nuY450eJphC8gi8xHjErRl0dQUYA9eor5C1v8AaR/aA8JfsRfFu/g%2BI39reOfh98QLvwhoPiu70y0S71tmv7WK02QRwraHUXjvY7WMeUlu94qFo0jZkXx34k/8FKvil8EP2ZfH/gD4nfH%2BLwT8Tm8c6zovhHVfi83h%2Bz1fw7YWmh2GpyS3wswNJvb0i8T7IloJo3Go2AlVzFdhQD9H6/N/9k2/s9Z/4Kb6dZ30wWDwdoXxW1d3IJCPdfErWbQDj%2BIgDAHJzX2n8FPj14f8WfsleEv2htQ8SS%2BJrTUPBlhqV9qfhPS5dWe9keBDK0Fvp0cjzN5hb5IUbBBAUY4%2BD/8Aglf4hsPiz%2B3H8dPiRpVvfJbaJr%2Bo6bbpqelz2VzCl78QNYvwktvcIk0D4GWjkRXU5DKCCK8nNfelh6ferD/yVTl%2BiP0DgL9zSznFf8%2B8BiF86ssPRX/pcl8z9KP%2BEw0n/n01T/wR3f8A8apf%2BEw0n/n01X/wR3f/AMar528ff8Fkf%2BCb3wv8d618NPHP7Rv2HW/DurXOmaxZf8IhrEv2e6t5Wilj3x2jI%2B10YblJU4yCRzWT/wAPy/8Aglp/0dD/AOWTrf8A8hVUs8yWEnGWJppr%2B/H/ADM6Phb4mYijGrSyTFyjJJprD1Wmmk001CzTTTT6pp9T6f8A%2BEw0n/n01X/wR3f/AMao/wCEw0n/AJ9NV/8ABHd//Gq%2BdvAP/BZH/gm98UPHei/DTwN%2B0b9u1vxFq1tpmj2X/CIaxF9ouriVYoo98loqJud1G5iFGckgc1337f3xg%2BJn7Pv7E3xT%2BOPwbtNNm8T%2BEvA%2Boaro66vMyW6ywQtJvfbHJu2qGYJtw7KELIGLr14XG4PGxcsPUjNLfladvWx8/nnDPEnDFaFLOMFVw0ppuKq0503JJ2bSmk2k9G110PS/%2BEw0n/n01X/wR3f/AMao/wCEw0n/AJ9NV/8ABHd//Gq%2Be9T/AG3Pjb4V%2BIfjnwX8QvgV4E0LT/hl8PLTxN458T3fxUujY273cWqNb21tjRxLOofT4xLK6RFEuC0cczoIpOZ%2BG3/BSrV/irqnhnQ9W%2BE%2Br%2BF9bi%2BNEvg7xDpCy3ltDIh8H6hr8M%2B3WNHtL14XSGJNv2e0kEqBllkhUrcdJ4Z9Vf8ACYaT/wA%2Bmq/%2BCO7/APjVH/CYaT/z6ar/AOCO7/8AjVfPP7JX7fPxJ/aH0/RLjxz%2BzB/wj934s%2BE2i/EHwnpfh7xrDqs91p18wR4JzcQWUVvcQl4mKh5EdHyHDKY66n9qvxZ8VdS%2BLXwv/Z4%2BFvxX1DwI3ja61i61bxXo2m2N1exW9hZCRbaBb%2B3uLdWkmmhZmeJz5UEqrtZhIgB67/wmGk/8%2Bmq/%2BCO7/wDjVH/CYaT/AM%2Bmq/8Agju//jVfOUH7Qn7SPxP/AOCZHhD4/wDw%2BtLn/hOdd0jw7N4hu/Cuhre3FvaS39pFrGoadZSLIJ5UszeXNvAVl3Msa7JziN%2BB8K/tL/EHxr%2BzL8QvG/jP9qr4l%2BCofhZ8Rr/w9p3iI/D/AEiHxF4w8y0sbjTYZdNvNMZBcySX6WyW0FtbzTOsalYnZkoA%2By/%2BEw0n/n01X/wR3f8A8ao/4TDSf%2BfTVf8AwR3f/wAar4c/aB/ar/bt%2BBFhofxF%2BLtp4p0a70rwJ4KvZvC/grwPDqPh/X9aubsxeIrO/wBRa2mawEKmNbcC4tcl1ZDdsTCvpfwy%2BI37RXh79rLxB8Pf2jPHvxK0S28ZeJtcsPg9FcaT4Xl8MXltDbG4gWJ7SFtTS7jghuZwt46JIsUmN%2B0AAH0v/wAJhpP/AD6ap/4I7v8A%2BNVfsL%2B01O0S%2BsZxJFIMqwBHfBGDyCDkEHkEV4D%2Bxv42%2BKniH4ufE/wfqPxw1r4meBPC8mmadovjbxDpOm208niBGvV1mwifTbW1guLa2C6cvmCIslxJdwtI7Qssft/g/wD5BM3/AGFL7/0rloA1aKKKACiiigAooooAKKKKACiiigAooooAKKKKACiiigAooooAKKKKACiiigArxn9l/wD5Lf8AtHf9lmsf/UK8L17NXjP7L/8AyW/9o7/ss1j/AOoV4XoA9mooooAKKKKACiiigAooooAKKKKACiiigAooooAKKKKACiiigAooooAKKKKACvGfHH/KQv4X/wDZGfHn/p28IV7NXjPjj/lIX8L/APsjPjz/ANO3hCgD2aiiigAryn9pL9iP9lv9rWwWD46/CDTNWvYkC2euRIbfUbTHK%2BVdRFZVAPO3dtJHINerUVlWoUcTTdOrFSi%2BjSa/ExxGGw%2BLpOlXgpxe6aTX3O58fw/sgf8ABRD9mtTH%2ByL%2B2xb%2BMdAtzmz8E/HDTmvTEg/5Zrqdvi4xj5VUqqrgVz3xP/ah%2BKl74ebwV/wUT/4JGeINf0qLIl1bwTZ2ni2wIPWdYuJbZe%2BSS64z1r7horzJ5OowcaFWUYv7LtUh6ctS%2BnkpHBhsvxmVV418qxlXDzi7x5ZOSi/7vM%2BaP/btRH5a%2BDZP%2BCSVzrEsn7J/7f8A49/Z310zFrjQG1%2B902wimPJFxa6mhicZ52rKFH6V7p4H1P8A4KkaPZC%2B%2BBv7XfwI%2BP8ApES5Eur2h06%2Blj7bH013g3dtznB69a%2Bs/H/wf%2BEvxXs/7P8Ail8LvDviWDbt8jX9EgvEx6YmRhXhHjb/AII6/wDBOHxxeHVJf2Z9O0e8Dbobvwxqd5pjQt6qttMiD/vnHtXmf2Lj8PrQ5V/glUpf%2BS/vaf8A5Kj7peJviXJKOarCZnH/AKiqKlU/8G29r8/bS/Iwh%2B3t%2B2t8OB5fx%2B/4JZeOxHF/rL/4aeIbPxEJgP40gjKOv%2B6xzUtp/wAFpP2JdMuEsPi7ceOfhzdu237J468Aahaurf3SYo5VB%2Bpx71GP%2BCS%2Bi%2BF/n%2BDP7c37Qng9U/1NhZfEZrmyT0zDNE27Hu1R3f7E3/BRjQrZ7TwT/wAFVr2/sypU6Z4z%2BE%2Bmagsq%2BjzFg/6c0c3EtDZOXqqU/wAVKlL8B/658MYn/kY8LSg%2BssHjnFfKniI1Y/Lm8j1TwT/wUU/YR%2BIYQeFv2ufh/JJJ/q7e78T29rM3sI52Ryfwr1Xw74w8I%2BMLX7b4S8U6dqkOM%2Bdp19HOuPqhIr4L8bf8E9P28NeLvr/gL9jzx65PzXPiz4X3FlcP6nzLRNyk%2BxryvxF/wS0%2BOqXX9o6n/wAEwvgrfXaHKXfgD4t61ozA%2BqLLMEX8Vo/tjPKX8TC3/wC3ai/J1EL%2B1fCnEfFHNMM/72Gw2JivnRr0pNf9u38j9WaK/JX/AIZK/be8E8eHf2Q/2i/Ckcf3JfAH7XNhKn0EM1u7Y9ieaX%2B0v%2BCmngfjS7j9sHT9nT7Xo%2BjeKMfm0e/%2BtH%2Bs1WH8XCTXpf8AWmg9n4Z1v4Wfyp%2BVfLsfT%2B9wjXj9yZ%2BtNFfkt/w2h/wVR8G/Le%2BLfj3dBO/ir9kKzgjx6eZaXbFvrilH/BXL/go34VIGpQeDplX7x8W/BrxNZNj3%2By7wDR/rfl0f4lOpH/t2/wCqD%2ByuEqn8DiTL3/jniaP/AKewMbH60UV%2BTTf8F/8A9oTwsufGnhX4TXBX762tj4nsyf8Av9Ztirumf8HJviCNlS8/Zc8MaoD1ksPiabMfXF1Yg/hTXGfD97SqNesX%2Blwjw7g6v8DOctqemY4WP4VZUX%2BB%2BrFFfmjpP/Bx34NlAbXv2WWtv732P4n6XPj/AL6CZrat/wDg5C/ZetgG8RfA7xpD/e/s7UtJusfTF4ua6I8W8Oy/5iEvVSX/ALaXHhHMqjtRr4Wp/gx2Al%2BWMR%2BilFfAGkf8HIP7BWpsEn8E/E20Y9p/D1m3/ou9aun0z/gv3/wT61AAz6l41tAe9x4PmbH/AH7LVtDibh%2Bfw4qH3/5pFy4I4oj/AMuIv/DWwsv/AEjGSPtiivkK0/4Lqf8ABNCYA6h8btTsAev2vwTqvH/fFs1a9h/wWr/4Jhalj7P%2B1TYrn/n48OapF/6Hait457kktsTT/wDA4/5k/wCpHGL1jgKr/wAMeb8YzkfU1FfOlh/wVt/4Jv6jj7P%2B1v4XXP8Az3aeL/0OMVs2P/BTP/gn1qOPs/7Yvw%2BXP/PfxJDF/wChkVtHNcrltXh/4HH/AOSIfBXGS/5luI%2BVCq/ypyPcqK8ks/2%2B/wBhbUMC0/bM%2BFbE9FPxA05T%2BRmBrWs/2wf2StRx/Z/7Ufw6nz08nxvYN/KWtY47BS2qxf8A29H/AOSOapwvxPR/iYCvH1oV1%2BdFHotFcdZ/tD/ADUMfYPjn4Onz08nxNaNn8pK1LT4n/DS/x9h%2BIehTZ6eVq8LfyatVXoy2mn81/mcFTLMzo/xKFSPrCa/OCN2iqtprmi3%2BPsOsWs2enlXCt/I1arRNPY45RlB2kreoUUUUyQooooAK8Z8cf8pC/hf/ANkZ8ef%2BnbwhXs1eM%2BOP%2BUhfwv8A%2ByM%2BPP8A07eEKAPZqKKKACud%2BLHwn8A/G/wFe/DP4m6G2oaPfvBJNDFezW0scsMyTwTwzwOksE0U0UcscsTrJHJGjoysoI6KigDyy1/Yu/ZytPhTe/BL/hC9Qn8MalbyJf6de%2BKtTuDcTSXr3z3ryy3DStfG6czm%2BLfavMCt5uUXGp4F/Zf%2BCnw5%2BG/iL4UeG/DN6%2BkeLpbmXxTJq/iK/wBRvtXluLdLaWW5vrueS6mkMEcUId5SyRxRopVUUDv6KAKPhfw1ongvwzp3g7w1ZfZtN0mwhs9PtvMZ/KgiQJGm5yWbCqBkkk45JNfnx/wSD8Pbfjd%2B2F462f8AH/8AtQX%2Bnb8dfsviG/bH4faP1r9Fa%2BJ/%2BCUXhhtG8AftB69Knz6z%2B2j44nVyOscfiQQgfQNG/wCZrgxdP2mKw7/llJ/%2BSNfqfWZBjFhMgziN9atGlD5PFU5v/wBNo%2B2KK%2BYvH/8AwU1/4QLx3rfgX/h3z%2B09rX9i6vc2H9saB8J/tNhf%2BTK0fn20v2kebC%2B3ej4G5WU4GayP%2BHsP/WNT9rT/AMM3/wDdVZSzrLIycXU1X92f/wArPzqXEOTQk4yq6rT4anTT/n0fWlYvxH%2BHngz4ufD7XPhV8RtBi1Xw/wCJdIudL1zTJ2ZUurS4iaKaIlCGAZGYZUgjOQQea%2BfPAP8AwU1/4T3x3ovgX/h3z%2B09ov8AbWr21h/bGv8Awn%2BzWFh50qx%2Bfcy/aT5UKbt7vg7VVjg4r2b9pPxh8Tvh58AvF/xB%2BDPhy01nxPoOgXOpaPot7C7pqUkCGU2oCOhDyqjRo27Cu6sQwBU9eGxmGxkXKjK6W%2Bkl/wClRj%2Bp24PH4PMIuWHlzJaPSS8/tRj%2BFzGg/Y1/Z4Xwr4p8Han4Q1LV7Pxr4bt9B8VS%2BIvFep6ndalYQfafJjkubu5kn3p9rnxKHEo3L8/yJtzvA/7BX7LXw91Jdc8P%2BAtSm1IeLh4ol1bWvGOraleXGrjSJtGF3NcXl1LLOw0%2BeW3xIzLtKnG5EZfDfEf/AAUf%2BJvxI8LXPjH9lxtD1Ww8R%2BO5tI%2BFEsXhJdUbxBp1hpC3Wq3sjXOt6VbQxxXfnwB2uF2izcBJWkHl8T4N/bq%2BI3xc8R6J8eLL7Ta6d48%2BGX7O%2Bqx%2BFG1%2B9%2Bw6VP4i8Xa7bX8kH2aeLc5i8lGY5SdbWFZkliXyj0nYfYfhj9k74EeCbHRLDwd4TvdKXw54GtPB2iTad4j1CGa00W1eN4LVZUnDnaYo8yFjIwBDOwZgdH43/s9fCn9onRNP0P4paPqMw0jUTfaRf6J4ivtIvrG4MMsDPDeWE0NxFuhmmicJIA6SMrAqSK%2BTfgn%2B1T%2B1B8bv2pPhB4w1PxV4R/sTx38LfH%2Bt%2BHPh7pV1e6e1rJZ3%2BjQW0GrSma4S6lj80o1wltEbaR7hFikzk%2B3ftv6t4kn0z4UfDeXxVqvh3SPHfxXsND8Z6l4b1240%2B6hszp9/dJBDe27RT2/n3trZ2vmRtHIy3BVSpcUAehSfs7/CxPAY%2BGGjWOsaLoEXhyw0Ky0zwz4r1HSo9PsbMk26Wn2O4iNm6g7TLAUldERGdljRV4vxL/wT1/ZV8V%2BFPCfg7UfCXiS3tvBOvXeueHbvSPiPr1hfRapdLKtxfzXltex3N3cyCeYNPPJJIfOk%2Bb52zwPwi1H9oX4p/wDBNvxvofwn%2BJN3P40s9S8d%2BHPAPizWNVLXFxb6fr2qafplxJeShy0ptbaAfa3Dl2xO2/cc8V%2Bz7Z/FX4s6d8b/AIFnwX4%2BsLDwl4p0Y%2BCfD3jj9oTVrTVYb%2BXSop7vT7vxBpN1fXSRjcl0IVmutq3SblVWWKIA%2BlfEH7JfwU8XeIPDHiPxdaeJtWk8IW9hFo9lqvj/AFm5sXeyk821uLq0ku2t7%2B6jlxKLq6jln8xEcyFkVhGv7IPwNPxKu/i5faf4lv8AXrlL5be41Xx/rN3DpZvFKXL6fbz3bw6Y7ozJvtEhZVYqpUEivgif41fFzxf%2BzRqWv%2BMP2kvGWmav8Lv2a/EXinw1f6X4su7YXvifTtY1Gzma4eGYf27BZvYWVsv2jzYrtLwSyRl7hdvqWq/tY/FDxP8A8FQ/hl4b8W2/xW8KaLHrGr%2BGrPwgPAfiCDR9XK6Q002qT3S2osrxTd7I4T5ki28VoZy0f2mQIAfVH7Nf7JXwT/ZG8KjwL8CrPxNYaJHZwWtppGteP9Z1m2soYd2xLaLUbudbUfOc%2BUE3/Lu3bVx23g//AJBM3/YVvv8A0rlrUrL8H/8AIJm/7Ct9/wClctAGpRRRQAUUUUAFFFFABRRRQAUUUUAFFFFABRRRQAUUUUAFFFFABRRRQAUUUUAFeM/sv/8AJb/2jv8Ass1j/wCoV4Xr2avGf2X/APkt/wC0d/2Wax/9QrwvQB7NRRRQAUUUUAFFFFABRRRQAUUUUAFFFFABRRRQAUUUUAFFFFABRRRQAUUUUAFeM%2BOP%2BUhfwv8A%2ByM%2BPP8A07eEK9mr5w/aP1f416P%2B3h8J5/gd8P8Awt4i1JvhH47W7tPFfjC50WCOD%2B1PCRLpLb6fes77to2GNRgk78gKQD6Porxn/hOP%2BChf/Rr/AMGf/D8at/8AMvR/wnH/AAUL/wCjX/gz/wCH41b/AOZegD2aivGf%2BE4/4KF/9Gv/AAZ/8Pxq3/zL0f8ACcf8FC/%2BjX/gz/4fjVv/AJl6APZqK%2BcdJ/aO/bt1j4z6/wDA63/ZQ%2BEi6p4d8L6Rrt5cv8ddU8iSDUbnUreFEI8Mbi6tpc5YFQAHjwWJYL1H/Ccf8FC/%2BjX/AIM/%2BH41b/5l6APZqK8Z/wCE4/4KF/8ARr/wZ/8AD8at/wDMvR/wnH/BQv8A6Nf%2BDP8A4fjVv/mXoA9morxn/hOP%2BChf/Rr/AMGf/D8at/8AMvXL%2BAf2jv27fiJ4r8b%2BENH/AGUPhJDceA/FEWharJc/HXVAk88mlafqYeLb4YJKeTqMKksFO9HGMAMwB9HUV4z/AMJx/wAFC/8Ao1/4M/8Ah%2BNW/wDmXo/4Tj/goX/0a/8ABn/w/Grf/MvQB7NRXjP/AAnH/BQv/o1/4M/%2BH41b/wCZej/hOP8AgoX/ANGv/Bn/AMPxq3/zL0AezUV84/CL9o79u34y%2BFLvxf4c/ZQ%2BEltb2fijW9CkjvfjrqiuZ9L1W60ydxt8MMNjTWkjIc5KMpIU5UdR/wAJx/wUL/6Nf%2BDP/h%2BNW/8AmXoA9mrP1Dwl4U1bP9q%2BGdPus9ftFlG%2BfzBryn/hOP8AgoX/ANGv/Bn/AMPxq3/zL0f8Jx/wUL/6Nf8Agz/4fjVv/mXpNKW6E4xkrNXO6v8A4DfA3VM/2n8GPCdznr5/h22fP5pWPe/sh/snaln%2B0f2X/h3cZ6%2Bf4KsHz%2BcVc7/wnH/BQv8A6Nf%2BDP8A4fjVv/mXrl/gj%2B0d%2B3b8ePgx4Q%2BOPhX9lD4SWul%2BM/C%2Bn67pttqHx11RZ4YLu2juI0kCeGGUOFkAYKzDIOCRzWMsNhpfFTi/%2B3Y/5GEsHhJ/FTi/WMX/AO2naXn7A/7DF/k3f7Gfwqcnq3/CvtNB/MQ5rLu/%2BCa//BP69z537G3w5XP/ADy8KW0f/oKCrH/Ccf8ABQv/AKNf%2BDP/AIfjVv8A5l6P%2BE4/4KF/9Gv/AAZ/8Pxq3/zL1k8vy%2BW9GH/gEf8A5EwllWVy3w9P/wAAh/8AIGLdf8Erf%2BCdd5nzf2QPBYz/AM8tN2f%2BgkVn3P8AwSF/4Js3efN/ZJ8NjP8AzyluU/8AQZRXVf8ACcf8FC/%2BjX/gz/4fjVv/AJl65f43ftHft2/Af4MeL/jj4q/ZQ%2BEl1pfgzwvqGu6lbaf8ddUaeaC0tpLiRIw/hhVLlYyFDMoyRkgc1m8pyqW%2BHh/4BH/5EyeR5JLfC0//AAXD/wCRM25/4Iw/8EyLr/W/spaWM/8APPWtRT/0G5FUZ/8AgiD/AMEubn/Wfsswj/rn4t1hP/QbwV6R/wAJx/wUL/6Nf%2BDP/h%2BNW/8AmXo/4Tj/AIKF/wDRr/wZ/wDD8at/8y9ZvJMme%2BGp/wDgEf8AIyfDvD8t8JS/8Fw/yPK7j/ghR/wS5mz5f7N00X/XPxprB/8AQrs1Tn/4IK/8Expf9X8D9Si/3PGOpf1nNewf8Jx/wUL/AOjX/gz/AOH41b/5l6P%2BE4/4KF/9Gv8AwZ/8Pxq3/wAy9S8gyN/8wtP/AMAj/kVHIMjp/BhoL0il%2BTR4pN/wQE/4JpS/c%2BF2ux/7ni68/q5qrN/wb6/8E3JPueCfE8f%2B54rn/rmvTfi7%2B0d%2B3b8GvClp4v8AEf7KHwkube88UaJoUcdl8ddUZxPqmq2umQOd3hhRsWa7jZznIRWIDHCnqP8AhOP%2BChf/AEa/8Gf/AA/Grf8AzL1D4dyF/wDMLD/wFHRHK8BD4YW9JTX5VEeAy/8ABvP/AME55PuaH4xj/wBzxS39UNQN/wAG8X7ACf8AHlf/ABBtvTyPFSDH5wGvoX/hOP8AgoX/ANGv/Bn/AMPxq3/zL0f8Jx/wUL/6Nf8Agz/4fjVv/mXqXw1w%2B/8AmFh/4D/wTZYSlHZyX/cSt/8ALj57X/g3y/YvgObH4n/Fq29PI8YQjH52pqeL/ggd%2By9a/wDHj%2B0T8cbfHTyPHUC4/wDJSvff%2BE4/4KF/9Gv/AAZ/8Pxq3/zL1y/j79o79u34d%2BK/BHhDWP2UPhJNcePPFEuhaVJbfHXVCkE8elahqZeXd4YBCeTp0ygqGO90GMEsp/q3kK2w8fx/%2BSB4SlLdy/8ABlb/AOXHmkH/AAQz%2BCFp/wAeP7X/AO0Pb46eT8RYFx/5J1ftf%2BCL/gKx/wCPD9vP9pyDHTyfilEuPys69k/4Tj/goX/0a/8ABn/w/Grf/MvR/wAJx/wUL/6Nf%2BDP/h%2BNW/8AmXqlw/kq2or75/8AyZzzyrA1Pii3/wBxKv8A8uPK4P8AgkfaWabLH/gpD%2B1dD6bPi%2BAP0tRVT4GfsmXv7Lv/AAUN8HG7/ae%2BKvxHXXfgz4y8sfE7xYdUOneTq3hbP2YlF8vzPNG/%2B95Uf92vX/8AhOP%2BChf/AEa/8Gf/AA/Grf8AzL1Q8D%2BB/wBqzxj%2B1Z4c%2BN3xu%2BHHw98M6N4Z%2BHviHQ4YfCvxDvtauru61K%2B0S4RmS40ixSKNE0uUFg7sWlQBcZI6aGVZfhqqqUoWa296f5ObX4Cw%2BT5bhayq0qdpLrzTf/pVSS/BnutFFFegekFFFFABRRRQAV85fsQ%2BGdO8L/s8eLLyx8wi9/aG8f6nfOwzg/8ACeapvbgdFSMfgtfRtfJX7JXiz9s7T/h74os/hj8A/hhq%2BhJ8afiL/Z%2Bo698XdR027mX/AITPWSxktotAuUiIbcABM%2BQAcgnaE0m0%2Bxcak4wlBPSVr%2Bdndfc9T6g/4TnwT/0OGl/%2BDCP/AOKpf%2BE58E/9DhpX/gwj/wDiq8t/4Tj/AIKF/wDRr/wZ/wDD8at/8y9H/Ccf8FC/%2BjX/AIM/%2BH41b/5l6ZB6l/wnPgn/AKHDSv8AwYR//FUf8Jz4J/6HDSv/AAYR/wDxVeW/8Jx/wUL/AOjX/gz/AOH41b/5l6P%2BE4/4KF/9Gv8AwZ/8Pxq3/wAy9AGpffAz9ijVPhxpPwd1P4O/C248I6Be/bNC8Kz%2BHtNfTdNud0jedBbFPKhk3Syneig5kc5%2BY50NP%2BHH7KOk2trZaV4D%2BHttDZWmk2llDb6XYotvBpc8lxpkSAKAiWk8sstuowIJJHeMKzEnzP4I/tHft2/Hj4MeEPjj4V/ZQ%2BElrpfjPwvp%2Bu6bbah8ddUWeGC7to7iNJAnhhlDhZAGCswyDgkc11H/AAnH/BQv/o1/4M/%2BH41b/wCZegDVsfgf%2BxVpfinW/HOmfCD4XW%2Bt%2BJYLqHxHrEHh/TUutVjusfaUuZQm%2BdZdq%2BYHJD4G7OK6DxvpXwA%2BJngi5%2BGXxI03wd4g8N3kKRXfh7XIbS7sZ40ZWRHglDRsqsqkArgFQR0FcV/wnH/BQv8A6Nf%2BDP8A4fjVv/mXo/4Tj/goX/0a/wDBn/w/Grf/ADL0AdUPBP7MI8PW/hEeEfAY0m08Nz%2BHrXS/sFl9nh0icRrNpyR7dq2sghiDwAeWwiQFTtGMO6/Z8/YYvvhba/A69%2BCHwnm8FWV%2Bb6z8Hy%2BGtMbS4Lo78zpaGPyUk/eP84UN87c8muJ%2BN37R37dvwH%2BDHi/44%2BKv2UPhJdaX4M8L6hrupW2n/HXVGnmgtLaS4kSMP4YVS5WMhQzKMkZIHNdR/wAJx/wUL/6Nf%2BDP/h%2BNW/8AmXoA3fEHwm/ZA8WWPhjS/FXw0%2BG2p23gmWOXwZb6ho2nzR6A6BAjWSuhFqVEaYMW0jYuOgrpdSv/AIRazrWm%2BJNXvPDd3qOjvK%2BkX9zJbyTWLSRmORoXbLRF0JRipG5SQcivPf8AhOP%2BChf/AEa/8Gf/AA/Grf8AzL0f8Jx/wUL/AOjX/gz/AOH41b/5l6APUf8AhOfBP/Q4aX/4MI//AIqjwYd%2BhmdQdk19dyxEjG5HuZGVvoVII9jXl3/Ccf8ABQv/AKNf%2BDP/AIfjVv8A5l65f4u/tHft2/BrwpaeL/Ef7KHwkube88UaJoUcdl8ddUZxPqmq2umQOd3hhRsWa7jZznIRWIDHCkA%2BjqK8Z/4Tj/goX/0a/wDBn/w/Grf/ADL0f8Jx/wAFC/8Ao1/4M/8Ah%2BNW/wDmXoA9morxn/hOP%2BChf/Rr/wAGf/D8at/8y9H/AAnH/BQv/o1/4M/%2BH41b/wCZegD2aivnHx9%2B0d%2B3b8O/FfgjwhrH7KHwkmuPHniiXQtKktvjrqhSCePStQ1MvLu8MAhPJ06ZQVDHe6DGCWXqP%2BE4/wCChf8A0a/8Gf8Aw/Grf/MvQB7NRXjP/Ccf8FC/%2BjX/AIM/%2BH41b/5l6P8AhOP%2BChf/AEa/8Gf/AA/Grf8AzL0AezUV4z/wnH/BQv8A6Nf%2BDP8A4fjVv/mXrl9W/aO/bt0f4z6B8Drj9lD4SNqniLwvq%2Bu2dynx11TyI4NOudNt5kcnwxuDs2qQFQFIISTJUhQwB9HUV4z/AMJx/wAFC/8Ao1/4M/8Ah%2BNW/wDmXo/4Tj/goX/0a/8ABn/w/Grf/MvQB7NRXjP/AAnH/BQv/o1/4M/%2BH41b/wCZej/hOP8AgoX/ANGv/Bn/AMPxq3/zL0AezUV846T%2B0d%2B3brHxn1/4HW/7KHwkXVPDvhfSNdvLl/jrqnkSQajc6lbwohHhjcXVtLnLAqAA8eCxLBeo/wCE4/4KF/8ARr/wZ/8AD8at/wDMvQB7NRXjP/Ccf8FC/wDo1/4M/wDh%2BNW/%2BZej/hOP%2BChf/Rr/AMGf/D8at/8AMvQB7NRXjP8AwnH/AAUL/wCjX/gz/wCH41b/AOZeuX8A/tHft2/ETxX438IaP%2Byh8JIbjwH4oi0LVZLn466oEnnk0rT9TDxbfDBJTydRhUlgp3o4xgBmAPo6ivGf%2BE4/4KF/9Gv/AAZ/8Pxq3/zL0f8ACcf8FC/%2BjX/gz/4fjVv/AJl6APZq8Z/Zf/5Lf%2B0d/wBlmsf/AFCvC9H/AAnH/BQv/o1/4M/%2BH41b/wCZerf7K3w5%2BNPg/WPih47%2BOmgeF9J1Tx98Qotcs9K8J%2BJbnVre1tYtB0fTFV7i4srNmkaTTpXKiLaFkQbmOcAHrdFFFABRRRQAUUUUAFFFFABRRRQAUUUUAFFFFABRRRQAUUUUAFFFFABRRRQAV8r/ALT37Wnxc%2BGHxj8Wa14B8O%2BD5PDHwf8AD/h%2B98anWtIuJtV1S31e/lS5gsLiO4jSy8i2s47jMkU4uZCkZEPl%2BafqivGfjP8AsQ/Dj43fFI/EzXPHPirS4tRtdItfF/hrRrq1TTvFMGl3sl7YxXyy28kwWOaaXP2eWAyxyGKYyxhUAB7NRRRQAUUUUAfMfhz9pX4mQ/t/%2BKPg/wDEbWPD3hPw2viC00TwZFqPwi1lLrxjANAg1HEHiNrtdOaWO7udQAtBC8nl2kwCgs0i/TleV%2BLP2WoPH/xk0j4p%2BPfjf411fSvD2ux61oHgC4OmRaNY6hHbvBHOGhskvZdnmSSKk11JGJH3bPkQL6pQAUUUUAeL/wDBQX4u/HD9n79kfxp8evgFe%2BFI9Y8E6Fd65dQeMNFub62u7S1tpZnt0S2urZkldkRRIXKoCxKPwK8/8eftafFzwX8ePFup%2BFPDvhCL4eeEPjH4R%2BH3jKzm0i4Ot6rquuwaKkeoQ3aXCwxxwf25pMZikt5XkSGfEse1BXsP7WP7ONl%2B1p8CNe/Z91r4q%2BKfCOk%2BJ7KWx1y/8ILp32u5spYnimtt1/aXUaI6vyyIsgKja6854uD9gHwdP8RbP4i%2BKvjj4%2B11jrOk654m0bUJdKisfE%2BuaYkaWOrXsdtYRMtxEILTC2zQQMbG2LxMY8kA97ooooAK8X/bJ%2BLvxw%2BCVr4B8Y/Cy98Kf2NqHxM8OeHvF9j4g0W5ubq5tdV1mx00GzlhuoUtpI1uZZN8iTqSiLs5Jr2ivKv2rv2W3/aq8N6F4Xn%2BPvjfwNb6F4ksNdRvBcOjs93e2N5BeWbSnUtPvBtiuLeNwsYQNysm9TtAB5x%2Bzz%2B0r8TNb/aq8W/BH4oav4e8J6dD4p1u38E%2BEpPhFrOmXOvW0LpKb%2B31q4u/sGoOxkmllitoC/JdiuGJ%2BnK8l0n9lEP8ZNF%2BMvxH/aA8d%2BNZvC93eXfhPQvEI0mGw0e6ubeS1kuIlsNPtpZX%2BzzTwr58kqos77QCQR61QAUUUUAeH/t3fFz48fs/fBrV/jr8KPGPgWx0/wALaLc3l7ovizwze39z4hvcotnplnJbXsH2ea4lIt0byrpmlniCwsflbz/4I/tffGfXPiX4K/tbwZ4S0j4aeN/if4o%2BG3hXw1p2lzR6vol/oEOrb557kXDW80EjeH9TRYY7eIxq1sfMkywHp/7Sv7IMH7SXjzwR8QJv2gfHfhC58A3dze6LY%2BGItGns5L2VBGt5NBqenXiPPDH5iwyAKYxPKR8zZFXwH%2Bw18PfAfxlt/i7D8RfF2pQadrup69onhDUrmy/snStb1GN49Q1SBIrVJ/PnE92WV5nhRr65McUfmcAHtdFFFABXy/8Atc/Hj9pf4LfETT/CmlQ%2BAPGuj%2BOYdattF%2BHMXg%2B%2Bk1hLW00O6u5L%2B4nF68V1bC6it7aSEWsQP2%2BFBMZGRJPqCvDpv2JriP8AaP8AFf7TWiftV/EvTtX8W6bDp1zpcMHh%2Be00%2BzhgaOG2s2udJlubeJZXe62LNtedy7hwdtADP2EP2g/G/wAe/h7eXXxX8faNfeLtOFm2v%2BG7L4Xav4RvNAee2WUQXNlq91PcOC2/y7gBI5FQ7Q20mvdK83%2BB37N2nfBnxP4k%2BIesfFLxT448VeK4rG31jxP4uawW5e0sxN9ltUi0%2B1tbaOKNrm5cbYQzNcSFmbIx6RQAUUUUAfHP/BQT9uP4qfsYeOf7T1zRdA8Y%2BEX0bUdbt/Csvw51Oylt003Rr7Ukk/4SKa6fTJ7v7Xpo2WKwJdCOZZQNsLSN69%2BzR8Xfjnq3xU8b/s9ftHXPhTUPE/hHSdD1qPWvBWkXNhY3NjqgvI0iMFzc3LrLFcaddqX83EiGJtkZJUVvjr%2Bwl4I/ac1q6tfj/wDFvxr4o8F3MlxIvwyvJNNh0WKSaxmsmbfb2Ud9IBHcTMElunQO%2B7b8iBen/Z8/Zm0j4B3mveIrv4oeLPHHiPxIbOPVvFXjW4s3vpba0iMVraj7HbW8KxRB5WGI97PPK7s7OTQB6VRRRQAV8R/tT/tlftZ/Bv41eIPhR4O8N%2BHPGup2Gi3Gu%2BGAnwP8QRyaKBqOmWqGFvtzjxNILHVLjzv7L8p4WhKyiMTCOvtyvD9e/Yt1PxL49PxO1r9rn4oza3p8F5F4NvCmgAeFVupoZJ/skY0nZOzRwLb7r1bpliZwpV3ZyAdV%2Byx8WH%2BMnwjg8WXvxM0bxVfw6jdWWqX2jeDL7w6La4ilZWtZtN1C4nurOeMYV45nD5%2BbaoYCvRq4b4B/AXw98APDOp6NpXinW/EGo6/r1xrfiTxJ4jmga91W/mCI08ot4oYExHFDEqQxRxqkSAKMEnuaACiiigAooooAKKKKACiiigCj4o8Q2HhLw1qPivVQ5tdMsZru5ES5by40LtgdzhTXzn%2BxN%2B0n8a/H/inR/Bnxs8PeDLMeOvhbZfEbwzD4M0q4tBpkd5cE3en3ZmuJRdzRvc2z/bEEAnaWYmCPaC/0td2lrf2stje26TQzRtHNFKoZXUjBUg8EEcYryH9mb9ivwF%2BzBqr6voHxB8W%2BJZbbwxY%2BGfDo8WXtrMNA0KzeR7fTbU29vCWjUyfNLOZriQRxeZM/lrgA9iooooAK4X9qDx58RfhZ%2BzR8RPid8H/Ci694t8OeBdX1TwtobWM10NR1G3s5Zba2MMDLLMJJURPLjYO27CkEg13VZ3i3RL/xL4Y1Dw/pfivUdCub20kht9a0hYGurF2UgTRC4iliLqeQJI3TI%2BZWGQQDy79in4tT/FD4Z31lq3xC8P6zqfh3VV0680zRPhhqfg59DQW0EkVncaVqlzPcwuEcSK7eWjxSxbEwN7%2BxV558B/2dtJ%2BB154l8R3PxE8SeMfEni/UYbzxF4p8VvZi7ujDbpbwRCOxtra2iijjQBVjhTJZ2YszMx9DoAKKKKAPlz9qj9rH4ofs4fF7xxZfErRvCXiL4X2H7O/i/wAe22hW%2BiXCaq7aINLWe2uLmS5e3minW%2BnAQWyFQiZd8sK7f9mf4v8Ax81T4ueMv2df2ln8JXnijwx4Y8PeJY9V8FaTc2NlJZas%2BpW62xhubm5cyw3GkXYMokCyI8TeXGdy1B8Y/wBhXw78dPjq3xl8efHbxzLps3grU/CN98PYYNF/sS70bUltvt9pIX01r0idrSB2cXQdShCMiMyHpP2d/wBl3Q/2fb7WvEc/xQ8W%2BN/EOv2thZX/AIn8bXNpJemwsUkWzsx9ktrePyojPcOCUMjvcyu7uzZoA9PooooAK%2BRPjX%2B0v%2B1t4M139oDwJb%2BFfBniy98BeH/CniT4bWOk/D/U7%2BdY9R1XUoQl5axXjy6jPAumxzqbYW5LkhV%2BVWr67rwuX9ijxDF8dPG3x/0L9tD4raVq3jfSLHTLmxsrPww1ppttZXFzPZpbCXRXk/dG8ulBmeUus5EnmFUKgHV/sqfFub4y/CkeJtR%2BJ2jeKdRtdVubHVrrR/BF/wCGzZ3ETfNaz6ZqNxPdWk6KV3JMwYhlbaqsK9JrhPgH8A9A%2BAOhazY6f4t1zxHqvibxBLrnifxN4klt2vdVv5IYYPNkFtDDBGFgt7eFUiijRUhQBc5J7ugAooooA%2BNv2lv2u/2lv2ePjNB8NtZT4Z%2BNb7W4IJvCMOneFr20l8F3mpeIdM8PaRNqcr30wuop21ecFols5HFjdLGGXzDF7j%2Byr8X/AIkfEYeP/h98Yjok/ir4aePG8NazqvhrTprOw1PzNL07Vre4ht5p55LfNrqlujxtNLiSOTDEEY4W2/4Jq%2BEmuviG/iH9pf4nazb/ABJ1465rFvqR0LzLPUoriGfT7m2uotLS6U2D29uLSN5pIolhQMj859Y%2BAfwF0P4B%2BHtW02y8X654k1bxFr02teJ/FHiV7Y3%2Br30kcUPnTC1gggXZBBbwIkUUaLHBGoXgkgHdUUUUAMuftP2aT7Hs87YfK83O3djjOOcZr4g%2BK37XP7afw0%2BImufDa3tvAfjPXvDF74at9W8deCPgrr%2BrR%2BHLfVmvHvbCXSrPUp7u5mjhsrG6JinT93dQtLAgMTSfb13DJcWstvDdSQPJGyrPEFLxkjAZdwK5HUZBHqDXz38GP2AvEHwE%2BG1x8NPh3%2B3V8Yoo7rVn1ObWbyy8Jz6hLdyvLJczzTPoR%2B0yTvLukknEj5jTYUAwQD1n4CfEOy%2BK3wd8P/EKw%2BIGjeKk1PTxI%2Bv%2BH9JmsLS7kBKyFLWeaaW2KurI0MkjvGysrHcpA6%2BuS%2BBfwX8Jfs%2B/C/TvhT4Kub%2B4srCW6uJr7VbkTXV9d3VzLdXV1M4VQ0s1xPNK%2B1VXdIdqquFHW0AFUfE8PiS58N6hb%2BDdTsbLV5LKVdLvNTsHuraC4KERySwxyxNNGrYLIskZYAgOpO4XqzfGOg3/AIo8LX/h3S/FupaDc3lq8UGtaOIDdWLkcTRC4iliLqeQJI3Q4%2BZWGRQB8PfDf9uz9rX4wfFPW/gl8LNN%2BHyeM9NtddvpPGfiv4Xa1oa6ppmkWuiypYy6JeXyahp8r3fiHYk08zx%2BVDJcJC6zoD9jfAL4tab8fPgT4K%2BOujabLZ2fjXwlpuvWlnM%2B54Iry1juFjYgDJUSAE%2BorxbV/wDgmR4H1rXL74i3f7SnxTT4gasl5a618Sba90iHVr/TLq2tbabTCiaaLOG2KWVow8i2ilWSBZVlDlmP0H4L8H%2BGvh54O0nwB4M0mLT9H0PTINP0mwhzstraGNY4o1zzhUVVH0oA06KKKAOX%2BNOo%2BONG%2BFuta38OfENjperWFmbqG%2B1Dwfe%2BIESOMh5QNOsZ4Lm8kaJXVIoZA5dlwrn5G%2BLfhL/wUR%2BP3iTxpoep%2BN7jwj4E8GalPOviDxxefAzxFNbaxfw6/daQiXMq30aeGZ5LW0tf3GqNJLA8qxvnYEr7b%2BJngzXfHvhKbw54b%2BKWv%2BDbySWN4tf8MxWL3cG1gSqrf21zAwYAqQ8TcE4wcEeK3X/BObwpqHg%2B4%2BG2rftIfE278Ma5qE1/480Ca40cReMLue8a6uJr6VdNFxF5pZYWjs5bWIQxJGqKN24A%2BiaKKKACiiigAooooAKKKKACiiigAooooAKKKKACiiigAooooAKKKKACiiigAooooAKKKKACiiigAooooAKKKKACiiigAooooAKKKKACiiigAooooAKKKKACiiigAooooAKKKKACiiigAooooAKKKKACiiigAooooAKKKKACiiigAooooAKKKKACiiigAooooAKKKKACiiigAooooAKKKKACiiigAooooAKKKKACiiigAooooAKKKKACiiigAooooAKKKKACiiigAooooAKKKKACiiigAooooAKKKKACiiigAooooAKKKKACiiigAooooAKKKKAP/9k%3D\">"
            ]
          },
          "metadata": {
            "tags": []
          }
        }
      ]
    },
    {
      "cell_type": "markdown",
      "metadata": {
        "id": "-eXekyac_bMR",
        "colab_type": "text"
      },
      "source": [
        "# Submit a linear model"
      ]
    },
    {
      "cell_type": "code",
      "metadata": {
        "id": "2ZX7KP3p_bMS",
        "colab_type": "code",
        "colab": {}
      },
      "source": [
        "## GRADED PART, DO NOT CHANGE!\n",
        "# Testing shapes \n",
        "grader.set_answer(\"9XaAS\", grading_utils.get_tensors_shapes_string([W, b, input_X, input_y, logits, probas, classes]))\n",
        "# Validation loss\n",
        "grader.set_answer(\"vmogZ\", s.run(loss, {input_X: X_val_flat, input_y: y_val_oh}))\n",
        "# Validation accuracy\n",
        "grader.set_answer(\"RMv95\", accuracy_score(y_val, s.run(classes, {input_X: X_val_flat})))"
      ],
      "execution_count": 0,
      "outputs": []
    },
    {
      "cell_type": "code",
      "metadata": {
        "id": "Wu64MZ4u_bMW",
        "colab_type": "code",
        "colab": {
          "base_uri": "https://localhost:8080/",
          "height": 35
        },
        "outputId": "d02eb5f0-025b-43bd-c312-9b923cff2a52"
      },
      "source": [
        "# you can make submission with answers so far to check yourself at this stage\n",
        "grader.submit(COURSERA_EMAIL, COURSERA_TOKEN)"
      ],
      "execution_count": 24,
      "outputs": [
        {
          "output_type": "stream",
          "text": [
            "Submitted to Coursera platform. See results on assignment page!\n"
          ],
          "name": "stdout"
        }
      ]
    },
    {
      "cell_type": "markdown",
      "metadata": {
        "id": "alcR7YkW_bMb",
        "colab_type": "text"
      },
      "source": [
        "# MLP with hidden layers"
      ]
    },
    {
      "cell_type": "markdown",
      "metadata": {
        "id": "wgA1ocoB_bMd",
        "colab_type": "text"
      },
      "source": [
        "Previously we've coded a dense layer with matrix multiplication by hand. \n",
        "But this is not convenient, you have to create a lot of variables and your code becomes a mess. \n",
        "In TensorFlow there's an easier way to make a dense layer:\n",
        "```python\n",
        "hidden1 = tf.layers.dense(inputs, 256, activation=tf.nn.sigmoid)\n",
        "```\n",
        "\n",
        "That will create all the necessary variables automatically.\n",
        "Here you can also choose an activation function (remember that we need it for a hidden layer!).\n",
        "\n",
        "Now define the MLP with 2 hidden layers and restart training with the cell above.\n",
        "\n",
        "You're aiming for ~0.97 validation accuracy here."
      ]
    },
    {
      "cell_type": "code",
      "metadata": {
        "id": "0Bk3zvoU_bMe",
        "colab_type": "code",
        "colab": {
          "base_uri": "https://localhost:8080/",
          "height": 308
        },
        "outputId": "116916c2-e65c-46c9-d6fa-703d77753aa4"
      },
      "source": [
        "# write the code here to get a new `step` operation and then run the cell with training loop above.\n",
        "# name your variables in the same way (e.g. logits, probas, classes, etc) for safety.\n",
        "hidden1 = tf.layers.dense(input_X, 256, activation=tf.nn.sigmoid)\n",
        "hidden2 = tf.layers.dense(hidden1, 256, activation=tf.nn.sigmoid)\n",
        "logits = tf.layers.dense(hidden2, 10) ### logits for input_X, resulting shape should be [input_X.shape[0], 10]\n",
        "probas = tf.nn.softmax(logits) ### apply tf.nn.softmax to logits\n",
        "classes = tf.argmax(probas,1)\n",
        "\n",
        "loss = tf.reduce_mean(tf.nn.softmax_cross_entropy_with_logits(labels=input_y, logits=logits)) ### cross-entropy loss\n",
        "\n",
        "# Use a default tf.train.AdamOptimizer to get an SGD step\n",
        "step = tf.train.AdamOptimizer(learning_rate=0.001, beta1=0.9, beta2=0.999, epsilon=1e-08).minimize(loss)### optimizer step that minimizes the loss\n",
        "\n",
        "s.run(tf.global_variables_initializer())\n",
        "\n",
        "BATCH_SIZE = 512\n",
        "EPOCHS = 40\n",
        "\n",
        "# for logging the progress right here in Jupyter (for those who don't have TensorBoard)\n",
        "simpleTrainingCurves = matplotlib_utils.SimpleTrainingCurves(\"cross-entropy\", \"accuracy\")\n",
        "\n",
        "for epoch in range(EPOCHS):  # we finish an epoch when we've looked at all training samples\n",
        "    \n",
        "    batch_losses = []\n",
        "    for batch_start in range(0, X_train_flat.shape[0], BATCH_SIZE):  # data is already shuffled\n",
        "        _, batch_loss = s.run([step, loss], {input_X: X_train_flat[batch_start:batch_start+BATCH_SIZE], \n",
        "                                             input_y: y_train_oh[batch_start:batch_start+BATCH_SIZE]})\n",
        "        # collect batch losses, this is almost free as we need a forward pass for backprop anyway\n",
        "        batch_losses.append(batch_loss)\n",
        "\n",
        "    train_loss = np.mean(batch_losses)\n",
        "    val_loss = s.run(loss, {input_X: X_val_flat, input_y: y_val_oh})  # this part is usually small\n",
        "    train_accuracy = accuracy_score(y_train, s.run(classes, {input_X: X_train_flat}))  # this is slow and usually skipped\n",
        "    valid_accuracy = accuracy_score(y_val, s.run(classes, {input_X: X_val_flat}))  \n",
        "    simpleTrainingCurves.add(train_loss, val_loss, train_accuracy, valid_accuracy)"
      ],
      "execution_count": 25,
      "outputs": [
        {
          "output_type": "display_data",
          "data": {
            "text/html": [
              "<img src=\"data:image/jpeg;base64,/9j/4AAQSkZJRgABAQEASABIAAD/2wBDAAIBAQEBAQIBAQECAgICAgQDAgICAgUEBAMEBgUGBgYFBgYGBwkIBgcJBwYGCAsICQoKCgoKBggLDAsKDAkKCgr/2wBDAQICAgICAgUDAwUKBwYHCgoKCgoKCgoKCgoKCgoKCgoKCgoKCgoKCgoKCgoKCgoKCgoKCgoKCgoKCgoKCgoKCgr/wAARCAEgA2ADASIAAhEBAxEB/8QAHwAAAQUBAQEBAQEAAAAAAAAAAAECAwQFBgcICQoL/8QAtRAAAgEDAwIEAwUFBAQAAAF9AQIDAAQRBRIhMUEGE1FhByJxFDKBkaEII0KxwRVS0fAkM2JyggkKFhcYGRolJicoKSo0NTY3ODk6Q0RFRkdISUpTVFVWV1hZWmNkZWZnaGlqc3R1dnd4eXqDhIWGh4iJipKTlJWWl5iZmqKjpKWmp6ipqrKztLW2t7i5usLDxMXGx8jJytLT1NXW19jZ2uHi4%2BTl5ufo6erx8vP09fb3%2BPn6/8QAHwEAAwEBAQEBAQEBAQAAAAAAAAECAwQFBgcICQoL/8QAtREAAgECBAQDBAcFBAQAAQJ3AAECAxEEBSExBhJBUQdhcRMiMoEIFEKRobHBCSMzUvAVYnLRChYkNOEl8RcYGRomJygpKjU2Nzg5OkNERUZHSElKU1RVVldYWVpjZGVmZ2hpanN0dXZ3eHl6goOEhYaHiImKkpOUlZaXmJmaoqOkpaanqKmqsrO0tba3uLm6wsPExcbHyMnK0tPU1dbX2Nna4uPk5ebn6Onq8vP09fb3%2BPn6/9oADAMBAAIRAxEAPwD9/KKKKACiiigAooooAKKKKACiiigAooooAKKKKACiiigAooooAKKKKACiiigAooooAKKKKACiiigAooooAKKKKACiiigAooooAKKKKACiiigAooooAKKKKACiiigAooooAKKKKACiiigAooooAKKKKACiiigAooooAKKKKACiiigAooooAKKKKACiiigAooooAKKKKACiiigAooooAKKKKACiiigAooooAKKKKACiiigAooooAKKKKACiiigAooooAKKKKACiiigAooooAKKKKACiiigAooooAKKKKACiiigAooooAKKKKACiiigAooooAKKKKACiiigAooooAKKKKACiiigAooooAKKKKACuN%2BOP7QHwm/Zx8JW/jT4veJ5dPtL7U4dN0u2stLub%2B91K9lDGO1tLO0jluLudlR2EUMbvtR2xhWI7KvFv2u/gP8VPiX4h%2BGfxl%2BBd14fl8X/CrxjPrWmaJ4tu57bTdYhudLvdMubaW4ghmktH8q9aSOdYZtrR7TGyu2ACjpH/AAUr/Y71rxm3w8tvHviCDW7fSodU1bTtR%2BHOvWkmi2EhuAt3qXn2SDTIAbWcNLdmFEKYYqWUGbwn/wAFH/2NfGfg/wAQ%2BOtM%2BLFza6f4Y0e11fVBrnhPVdMuJNPuXMdreWtvd2sU19bzyAxwy2ySpM5CRlmIB86vP2GPjP8AHW0/aRP7Qt74V8My/tB/CPTvBskfgrWLrUzo7RWusWsr%2BbcWtqZ1VNRiZDsXeyygogxuy9Y/Y2/at%2BM%2Btaz8UP2lPh38G9X1e0%2BE6eBtB8E6d4n1QaRrSy6jaXt5fXd2bBJ9PYmyg%2BzxQw3BtnDP50hIwAeyX/7fP7N2k%2BAbH4h6tdeOLSHVPED6Jpeh3Xwj8SR67e3yW5uXjh0dtPGoShYAZTIluUCKzFsA49P8JeOfDfjbwTY/EPRbi5i0rULBbyCTVNPnsZY4iu7MsFykcsDAfeSRVZSCGAIIr41tv2Gf2tJfgpJ4W8feGPCnjS%2Bh%2BIcut%2BC9B1n9ofxXb3fgOxOmxWoi0/xbHp7atcSGUXcreZDGBHeGENsjGfUvB/7Bmq%2BKfgJo3hb9pz46%2BOPEfj5PhtdeFtf8Q6T8Q9at9Muhc2tzbyTPpa3SWN5MiXTBbq4tmmdoopWKuibADc8Mf8FJP2MvF/h7xJ4s0b4tXK6Z4W8GXni6/vr7wlqtpFe6BaruuNU09p7VBqtogK5nsvPQmSMAkyIG4n40f8FdP2YfAf7M/wATf2gfhW%2Bs%2BM7v4b%2BDYfEjeGW8L6xps2r2Nw7R2t3avNYFrixlkRh9vgjmtkVWdnCqSPHfC/8AwSh%2BNC/BPxf8LPFnh3w9J4h/4UL4j8A%2BC/Hmo/tD%2BNvECSXGpWEdp5h0jVUkttGtpDDE8scEl0yeVGqFggz6P%2B1L/wAE5vih%2B0BYeKtE0Pxj4d0q2179le%2B%2BGlrLM87GDVpLiOWGdo1iANqNhBIbzBnhO9AHqkv/AAUU/ZZt/E3hrwJeav41tvEni7TpdQ0HwpefCTxLDq8tnFd/Y5LmSwk08XNvCkxG6SaNEVGWUkRsrmXwN/wUT/Y7%2BJGqarpXhD4tyXB0rQ9Q1lbufw1qVvaapp1iwS8u9NuZrdYdVhhYqHeyedVLqCfmGcXwR8APjz4x/apsf2oPjn4f8HeH5JPg5f8Ag/VNE8J%2BK7vVTBcy6tHcpJDcz6fZl4mgiUsTGjJIdoV1USHwGb9hz9pf4bfs8%2BF/Cnxo1rwIPCP7N3wP8SaB4L1PwrfXcmpeKd2hHTLe4vbeW2ii04JZozSQxS3QknZXDxqgQgH0D4U/4Kl/sL%2BNPBus/ELQ/jLdrouheDj4tutRv/BmsWcdzoIKB9Vs/PtEN/ZxmRBJPbCWOLcPMZc167a/GD4c3vxcuPgVZ%2BIxN4qtPDUGv3emRWsrCHTp55beGd5QnlL5ksE6ohfe3kyEKQjEfFX7I/7P3xC8WfBL4Q/Hb9t/Uvhlovww%2BG/7L9z4fgk07W5wmr6bqmnaWby%2B1X7VBDDpkEVppyq0CS3CZleRplWNVrsP%2BCK3wr8d6P8As76n8evit4tbxFrHjW%2Bg03w54hlgaOS%2B8I6JF/ZWiXBD8/6VDDNqhPd9WcgKCFAB9lUUUUAFFFFABRRRQAUUUUAFFFFABRRRQAUUUUAFFFFABRRRQAUUUUAFFFFABRRRQAUUUUAFFFFABRRRQAUUUUAFFFFABRRRQAV4jpH/AAUY/Y91K716z1P4pXnh5vDnhy58QahJ418I6roMc2k27pHPf2smpWsC31ujyRK0tsZUBljGcuufab2K5ms5YbO6EEzxMsUxj3%2BWxHDbT1wecd6/MTV/%2BCOX7cvxf1bwvrnxu%2BOOhvrfhrwfqFnqHijUPit4m8TjxDrf2zSr611E6XfRQ2Wk20lzpi%2BfYWQCiOTassgVAoB9sv8At/8A7MNr8NG%2BLGseIPFWlaW2uQaNY2eufDLX7DVNTv5kMkMFlptxYpe37SIGdfs8MgZUdgSEYjovAf7VnwP%2BI%2Bv2XhPw54h1SHV7/wAKT%2BJIdI1rwrqWmXaabDd/ZJZZYby3ikgdZ/kMMirL32bea8m%2BJ3wc/bd%2BMTfD342654N%2BFWh/EP4UeOptY8P%2BGbXxxqV/ouuWdxpN3plzHcXz6VDNYzFL2SSN0tbgRmIKfMEjYq/En4Dftwa/8ZfDv7TXgfRvhXaeLL74Yar4L8Y6FqXivUpLDSFuL%2BG6tb%2ByuE04SagYhG6yW8sVoJS4xLFjkA7jSf8Ago3%2ByB4j17wL4W8K/EbVdZ1P4k%2BDdK8W%2BDdO0TwPrN7PeaHqL7LXUZEgtGa1t92PMknEa24ZTN5QYE7Hw1/bc/Zu%2BK/xGufhP4Z8X6tZ6/b6Xc6nDZeJ/BmraIt/Y28iRz3dlLqNrBHfwRvLEHltmkRfMQkgMpPlH7Cn7CXxY/Zh1/4caz488QeGrs%2BDv2UvCPwxv30i5nlZtW0t5muZovMgj3Wrb02MxV22/NGmBXjXw0/4JV/tjeJ/ij4X8TftTfGGz1SLT/AHivwv408TQfF/xJrV54il1exS2/tO10y%2Bhj0/QjlSxtLRSi5UCZxGq0AfUvhP/gov%2ByP410WPxVoPjvXP7DuNV0vT9P8AEt78P9btdK1GXUr2OyspLS%2Bns0tryCW5mijFxBI8IMqFnCsCfS/C3xd%2BHnjX4geKfhd4X8Q/a9c8FyWcfie0S0mC2Ml1B9ogjMrII3doSshRGZkWSMsFEibvmHxx4E%2BIvhX/AIJ7eNPgR/wUM8T/AAq8EeAtB%2BGkWgW3xM8O%2BLbsM06RpbWupPaXVnAmmzLMLeSGCO4umM5REcnaG7X/AIJX/D74seG/2RNK%2BKv7RVglv8TvixfS%2BOviJCtu0X2e/v1jMNpsb5k%2By2MdlZ7TkgWuDQB9G0UUUAFFFFABRRRQAUUUUAFFFFABRRRQAUUUUAFFFFABRRRQAUUUUAFFFFABRRRQAUUUUAFFFFABRRRQAUUUUAFFFFABRRRQAUVzXxik%2BJsPwy1if4Oa1oOneJYrXfpl74m0qa%2BsYirAuZYIJ7eSUeWHwqyx/MVy2M1xXwE%2BKPxg/aG/Yj%2BH/wAa/D9z4a0fxr44%2BHGia40t5pVxcaXZ3l5ZQXEp%2BzLcJNJEpkfbH56sQFBk6tQB61Xi/wAevH/7Rf8Aw0X4F%2BBHwF8Z%2BCvD6a/4K8S69q%2Bp%2BL/Bd3rRJ0670O3hhhjt9SsfLDf2pKzMzPny0AC8kz/safG74i/G3wp4vk%2BIt14f1SXwr4%2BvvDun%2BLfCemz2emeI4raKAy3VvBPPcPEIrmS5snXz5QZrCUq2CFHGa18cvhT4u/4KpfD74W%2BDPiT4e1nWtD%2BDPj6PxJpOla1BcXekTHVvB5ijuYo3L25dVlIEgUny2xnBpNpblwhKo7R7N/dqzrv%2BEH/4KF/9HQfBn/ww%2Brf/ADUUf8IP/wAFC/8Ao6D4M/8Ahh9W/wDmor2aimQeM/8ACD/8FC/%2BjoPgz/4YfVv/AJqKP%2BEH/wCChf8A0dB8Gf8Aww%2Brf/NRXs1FAHjP/CD/APBQv/o6D4M/%2BGH1b/5qKP8AhB/%2BChf/AEdB8Gf/AAw%2Brf8AzUV7NRQB4z/wg/8AwUL/AOjoPgz/AOGH1b/5qKP%2BEH/4KF/9HQfBn/ww%2Brf/ADUV7NRQB4z/AMIP/wAFC/8Ao6D4M/8Ahh9W/wDmoo/4Qf8A4KF/9HQfBn/ww%2Brf/NRXs1FAHjP/AAg//BQv/o6D4M/%2BGH1b/wCaij/hB/8AgoX/ANHQfBn/AMMPq3/zUV7NRQB4z/wg/wDwUL/6Og%2BDP/hh9W/%2Baij/AIQf/goX/wBHQfBn/wAMPq3/AM1FezV598QPH/wM%2BGg1Pxh8ffHHhTw/p51qLT7LUvGGqW1pB5htI5VgjkuWVd5AlfaDkhWOODiZzhTi5TaSXVuy%2B92Rth8PiMXXjRoQlOcnZRinKTfZRipSb0eiTemxzX/CD/8ABQv/AKOg%2BDP/AIYfVv8A5qKP%2BEH/AOChf/R0HwZ/8MPq3/zUVX/4a/8A%2BCcH/R0XwR/8LbR//jtH/DX/APwTg/6Oi%2BCP/hbaP/8AHa5vr%2BA/5/Q/8Dh/8ke1/qlxZ/0LsR/4T1//AJQWP%2BEH/wCChf8A0dB8Gf8Aww%2Brf/NRR/wg/wDwUL/6Og%2BDP/hh9W/%2Baiuw%2BGniT9nL40aFL4p%2BDuv%2BCfFmmW921rPqPhq6s7%2BCOdVV2iaSAsocK6MVJyA6nGCK8n%2BIP7bP7J3wh%2BNfxE%2BEXxY8D6hodp8NPA2neKfEPi2T4f39xpUVlci%2BZi1zBaPFH5aWROWf94ztHHueGVV6YThUipQaafVO6%2B9XR4uIw%2BIwleVGvCUJxdnGScZJ9nGSjJPVaNJ67HUf8IP/AMFC/wDo6D4M/wDhh9W/%2Baij/hB/%2BChf/R0HwZ/8MPq3/wA1FRN%2B03%2ByhbTeG49Y8J69pUPiu4ht9Iv9c%2BD%2Bt2Fos0169lbx3NzcWCQ2TzXChIluHiaXzYWQMs0TPzOu/t0/sU%2BArQn4kzWNvdte%2BK1htfDfgfVtYIs/D%2BqnTdRupRb6bvhSCVohMzL5SF2KSzRKJ2oxOr/4Qf8A4KF/9HQfBn/ww%2Brf/NRR/wAIP/wUL/6Og%2BDP/hh9W/8AmorvtAj%2BDHiu4ntPC8fhjUZraGCa5hsVt5XhjnTzIXdVyVEifMpONy8jIrw/9n79qrRPjR8UtG8L65%2Bzdomh%2BGPHOm67qHwz8SQ6ql3Pq1vpV7DazG7tTaRixaZJ47mBUluN0IfzDC6iMgHZf8IP/wAFC/8Ao6D4M/8Ahh9W/wDmoo/4Qf8A4KF/9HQfBn/ww%2Brf/NRXG%2BLP2qtE8NfHjUfA9v8As3aHc%2BBPD3xE0XwH4n8atqqR3lpr%2Bq2lncWiRaf9kKz2udS02F5zcoyyXRAicRO1bfwh%2BK/i34k6/wDGDwFrH7LPhLS/Enw11OO10LT7bxOtzBron09Ly0aac2Ef2Jn8xEdQk4jySGkxigDX/wCEH/4KF/8AR0HwZ/8ADD6t/wDNRR/wg/8AwUL/AOjoPgz/AOGH1b/5qK80179rfxRYf8E6Ne/bj0T9j/wfe634UsPEN74i8ES%2BMvJtYodGuL6G7MOo/wBmM8xYWLGMG1TcZFDbAC1Rftx/t2eAv2NNf0XQpPgR4Q1OTVPClzrkEPiDxNFo8%2BtPDLDGNI0SP7HP/a2ryGUeXZ7oN26L94N%2BVAPUP%2BEH/wCChf8A0dB8Gf8Aww%2Brf/NRR/wg/wDwUL/6Og%2BDP/hh9W/%2Baiuf%2BIHxb%2BIvgD9qrwF8Brj9lr4eX3h/x/q1/DYa9Z%2BNZv7UsbCz097q4v59ObRxEI1m%2Bz221btjvvIDnBbbwWqf8FDPhrBr/wAYLXRP2atPvNH%2BHVh4Wl8J6/JqMEMHiuXWta1LQ1c5tz9itIdQ02VWuiZQ8O6dUKBPMAPXf%2BEH/wCChf8A0dB8Gf8Aww%2Brf/NRR/wg/wDwUL/6Og%2BDP/hh9W/%2BaivIPFn/AAUJ%2BGngPwlqOk%2BNvhP8M9H8faP8UJPAusadq3j%2BC18NWF9Ho8WtNcza1LYqyWwsbiAFjaeZ9plW38vOXGrr/wC2Hp2i/tE%2BAP2dH%2BF3wPttR8Y%2BCtN8QS32sfFtbWO6N1dSQNbaMBpLnWGVYjIh/wBH8xXThN2QAelf8IP/AMFC/wDo6D4M/wDhh9W/%2Baij/hB/%2BChf/R0HwZ/8MPq3/wA1FcH4b/bE8Gav%2B0BYfDTWPgN4Y0/wtrnxO1b4e%2BHvED67E%2BqXGvadYXN7MJtM%2ByBYLVo7O5EcwuXkb9wxhVJgw5D4A/8ABQ3wv8aP2PJ/2s5Pgf8ACm4a9Tw5a%2BHfCHgb4mR65errGtXMFpaaXqrNpluulzC5vLSNv9eV3ysR%2B7AcA9r/AOEH/wCChf8A0dB8Gf8Aww%2Brf/NRR/wg/wDwUL/6Og%2BDP/hh9W/%2BaivEvih/wUQ8OfB7wq1t8S/gB8NPCvijSviDe%2BEvF03jL4hppnhTR7qHSYNXhJ1t9MZnNzZ3do8Eb2kbO0kiHaY/m6jxN%2B3B4C0mH4HWukfsutJqvxbTw/d%2BIdF1UQ2dx4JsNW2xwPeAQyb7g3DNClv8nmfZbtg6/ZyGAPRf%2BEH/AOChf/R0HwZ/8MPq3/zUUf8ACD/8FC/%2BjoPgz/4YfVv/AJqK8/8AAX7bnwX8d/Ef4gWUHhX4YWvg/wCHS69/bl3J42hk8TKujzy217dtoUdmTHZC4t7iNJ2uQziNXEW2RSbv7Pfx/wDF/wC038JtX%2BIfwp%2BBHwSv9Rt57RdO0G2%2BL63bWvmgvLbatLZ6PMNNvYkKbreNbpS5ZfNAUOwB2f8Awg//AAUL/wCjoPgz/wCGH1b/AOaiqHgfxx%2B1Z4O/as8OfBH43fEf4e%2BJtG8TfD3xDrkM3hX4eX2i3VpdabfaJborPcavfJLG6apKSoRGDRIQ2Mgs/Ze%2BK0n7SP7K/wDw0BrnwX0DwheXkmr/ANkRaDq51GGa2tLu4t7bUILprS1cx3CQLcx5iU%2BXMmeSQNLxx/ykL%2BF//ZGfHn/p28IUAezUUUUAFcL%2B0T%2B0j8If2U/hrP8AF74463qWm%2BHrWXZd32m%2BG7/VGtwI3kaSSKxgmkSJUjdnlZRGgUlmUV3VeFf8FLfDPxU%2BIP7DXxL%2BE/wW%2BDus%2BN/EnjLwhqOg6XpGi6hptq0Ut1ayxrPLJqN3bRLCrFQ212k%2BYbUbnAB6d8XvjH8PPgT4Kk%2BIHxN1mez05Lu3tIlstMub66urmeVYYLe3tbWOSe5mkkdVWKJHdieAa8/8Uf8ABQX9kjwb4G0D4ka98ULhdI8SWd/eWM1r4X1O4ltrWxlWG/ub2GG2aXToLSV1iuZbtYUtpGCTNG3FYP7RFp8aPi/4O8B/E3wt%2Bzf4ot9X%2BH3xA0rxRN4I1fVtFS91WA211a3NrDJFqElqLiBLtpQJZ44nkhVVlwd48Bn/AGWP2uPA3hvXvHGg/s8S%2BIdX%2BKXhD4iaXfeFY/EemRHwlda94gm1TTzdyTXKxS24iuWW8a0a4dZYgYY7hW3AA/QJHSRBJG4ZWGVYHII9a%2BcvhN4q/bv%2BOuj69478L/G/4SaBpdv8QvFWh6XpV/8AB/VL%2B4itdL16/wBMhaW4TxFAssjx2auzLFGu5yAoAFewaP8ADPWNG%2BCOm/CPSPiPquk3uneHrXTIvFGkwWrXkTQxJH58aXcM8JY7M4kjkX5jweteSfsOaPf6J%2Byle%2BHNX8UX%2BtzxfGnxxaXur6kkCXOoZ8eatHJLKLaKKIPICxYRxxpliFVRgAA6P/hB/wDgoX/0dB8Gf/DD6t/81FH/AAg//BQv/o6D4M/%2BGH1b/wCain6/%2B1B/wT98Ka7e%2BFvFP7RHwc03U9Nu5LXUdO1DxdpUM9rPGxSSKSN5QyOrAqysAQQQRkVU/wCGv/8AgnB/0dF8Ef8AwttH/wDjtcrx2BTs6sP/AAOP/wAke9DhXimpBThl%2BIaaTTVCu009U01QaaaaaabTTTTaaZY/4Qf/AIKF/wDR0HwZ/wDDD6t/81FH/CD/APBQv/o6D4M/%2BGH1b/5qKfoH7UH/AAT98V67ZeFvC37RHwc1LU9Su47XTtO0/wAW6VNPdTyMEjijjSUs7sxCqqgkkgAZNXv2q/iX8Kv2UP2b/Gv7SXin4XLq2n%2BCvD1xqt1pukaIJri5WJc7EWONiMnGXI2ouXcqqsw1pV6FdN05qVuzT/Js8/HZXmeVzjDG4epScldKpCdNtbXSnCDavpdJq%2Bl76Gd/wg//AAUL/wCjoPgz/wCGH1b/AOaij/hB/wDgoX/0dB8Gf/DD6t/81FUNJ/az/Y/1zxvL8NdL8Na/L4htvDi69qGi/wDCmtdW60%2BweO7eKW6jbTw1q0v2G5WKOYJJM8YjjV3dFZ2mftOfsweJpPDv/CK6ZYIdZ8dTeFb2w8S%2BEtR0fUbG%2Bj0a61cwtZXNgJklNrbrMq3C28bwyeYsrMYo5tThLv8Awg//AAUL/wCjoPgz/wCGH1b/AOaij/hB/wDgoX/0dB8Gf/DD6t/81FUPgp%2B1/wDsL/tBaNN4j%2BG3ibS/7Oi8P6frqX/iLwjd6LBc6XfMy2t7BJqNtAtzbyOpQSxF1D4QkMQKu/tG/ERvhXr/AIP%2BGnwg%2BAHhrxd4z8bXt4mlaXrWqrpFjBa2dq1xc3M90lndOgH7mJVWFy0lxHnYgd1AHf8ACD/8FC/%2BjoPgz/4YfVv/AJqKP%2BEH/wCChf8A0dB8Gf8Aww%2Brf/NRXPa/%2B1J8LYP2LfDX7X/hP4KWV4PF48O2%2BjeHdUMFn5F/rF/aafBBd3IjkW3jiubxFmlVZNqxyFFkO1W4q1/bcXxFfWXws8E/szeArz4lJ4u8QaB4i0a%2B8crbaFp0%2Bj2tvd3OzVBpryTs0F5aOkZtI2%2BabzPKEDmgD1b/AIQf/goX/wBHQfBn/wAMPq3/AM1FH/CD/wDBQv8A6Og%2BDP8A4YfVv/mory7xb%2B2Nq938H/hP%2B0Z8C/2WvAPinwT8XJPC0GgjVvGsmnayJ9ZmiUotpFpFzBIttBI1xI32lfkt58AbAWveD/2y/Dfin4y2fw/l/Z28LWujeJvG/ivwb4Evz4jibVNT1zQBeG7judPNmq2du4068aKcTzEoIGeOPz0oA9D/AOEH/wCChf8A0dB8Gf8Aww%2Brf/NRR/wg/wDwUL/6Og%2BDP/hh9W/%2BaiqX7P8A8T9S%2BInxZ8Z/Af4zfs7%2BEfDHijwdoui6vcf8Iv4gGt6fNaam9%2BkKefLY2bx3KNp0xkhMWAksDq7iTC%2BveDBs0MwKTshvruKIE52olzIqr9AoAHsKAPLv%2BEH/AOChf/R0HwZ/8MPq3/zUUf8ACD/8FC/%2BjoPgz/4YfVv/AJqK9mooA8Z/4Qf/AIKF/wDR0HwZ/wDDD6t/81FH/CD/APBQv/o6D4M/%2BGH1b/5qK9mooA8Z/wCEH/4KF/8AR0HwZ/8ADD6t/wDNRR/wg/8AwUL/AOjoPgz/AOGH1b/5qK9mooA8Z/4Qf/goX/0dB8Gf/DD6t/8ANRR/wg//AAUL/wCjoPgz/wCGH1b/AOaivZqKAPGf%2BEH/AOChf/R0HwZ/8MPq3/zUUf8ACD/8FC/%2BjoPgz/4YfVv/AJqK9mooA8Z/4Qf/AIKF/wDR0HwZ/wDDD6t/81FH/CD/APBQv/o6D4M/%2BGH1b/5qK9mooA8Z/wCEH/4KF/8AR0HwZ/8ADD6t/wDNRR/wg/8AwUL/AOjoPgz/AOGH1b/5qK9mooA8Z/4Qf/goX/0dB8Gf/DD6t/8ANRR/wg//AAUL/wCjoPgz/wCGH1b/AOaivZqKAPGf%2BEH/AOChf/R0HwZ/8MPq3/zUUf8ACD/8FC/%2BjoPgz/4YfVv/AJqK9mqO5urayge6vLiOGJBl5JXCqo9STwKBpNuyPHf%2BEH/4KF/9HQfBn/ww%2Brf/ADUUf8IP/wAFC/8Ao6D4M/8Ahh9W/wDmorpvFX7WH7LXgUuvjX9pTwDpDJ99dT8YWUBH4PKDXmfjP/grf/wTf8CKza1%2B1t4YuNvUaL5%2Bok/T7JHJmuOrmOX0P4taEfWUV/7cfR5fwbxhmzSwWW4irfbkoVpX%2BapW/E6b/hB/%2BChf/R0HwZ/8MPq3/wA1FH/CD/8ABQv/AKOg%2BDP/AIYfVv8A5qK8x/4fKfsya3z8LvhX8YPHCt/qm8J/DG8mEv8Au%2Bd5f9KB/wAFKvjj4k5%2BG/8AwS1%2BO11u/wBX/wAJNpVto2fr5sjba5f7cyp/DV5v8KlL/wBJg1%2BJ7n/ELOPofx8E6P8A19qUKP3qriISXzienf8ACD/8FC/%2BjoPgz/4YfVv/AJqKt/srfEb40%2BMNY%2BKHgT46a/4X1bVPAPxCi0Oz1Xwn4audJt7q1l0HR9TVnt7i9vGWRZNRlQsJdpWNDtU5z5N/w1f/AMFTPEnHhf8A4JYWWkRt/q7rxJ8ZdOOfrFDHvX866H/gnXrHxl17W/jzq/7QPg/SNA8XTfGaA6tpGhagbq1t8eEfDYiCSsAXJhEbN6MzAcCujDY%2Bji6jjCM1pe8oSivvklr8jx874RzLIMLGviq2Hld8vLSxNCtNaN3caM52Wlm3LRtLqfSdFFFdx8uFFFFABRRRQAUUUUAFFFFABRRRQAUUUUAFFFFABRRRQAUUUUAYXxM8Hap8QfAep%2BC9G%2BIOs%2BFbjUbfyU8QeH4bOS8swSCzRLe29xbkkAqfMhcYY4AOCPJfCX7DU/gz9ktP2PNJ/a3%2BK66Da%2BCE8K6Vr8M%2BiW2sabYxokUTwXFtpcarMkCCFZShO0lzmXEo93ooA4T9nL4Gx/s5fC2x%2BEen/EfWvEmmaSqQaK2tabpNodOs0ijiis4Y9KsrOBYUCZXMZfLtlyAqr41%2B0DrH9mf8FZf2arLfj%2B0fhf8AEy3x64l8Ly4/8hV9QV8bftiaudL/AOCxv7GUJbCXvhn4oW7n/tw0ZwPzQVzYyfs6PN5x/GUV%2Bp7nDuH%2Bt5n7L/p3Wf8A4DQrS/8AbT7JooorpPDCiiigAooooAKKKKACiiigAooooAK4nxX8IvhP8aINX8LfGL4YeHfFmmW/iCK6g07xNosF/BHOtlCiyrHOjKHCu6hgMgOwzgmu2ryf47/tW/AL9j7w1qPxL/aL8e/8I7ol94rh0y1vf7LurvfdPp6SrHstYpHGUhlO4qF%2BXGckA44ieHp0JSrtKCWvNa1vO%2BlvUax8sqf1uNZ0nT151Jwcel1JSi477qS331E/4YH/AGFf%2BjLPhL/4bnTP/jFH/DA/7Cv/AEZZ8Jf/AA3Omf8AxivJP%2BH5v/BLL/o6L/yydc/%2BQqP%2BH5v/AASy/wCjov8Ayydc/wDkKvF%2BvcK/8/KH/lP/ACNP%2BIpYn/oez/8ACyr/APNB9JfDT4RfCf4L6FL4W%2BDvww8O%2BE9MuLtrqfTvDWiwWEEk7KqNK0cCKpcqiKWIyQijOAK8V/aV/YX8V/Hjxd8StT8P/GfTdC0f4q/C%2Bw8IeJdOvfCEl9cQtZS6nJbXdtOt7CqDOpyCSJ4pN4iTa8ZLE%2Bk/s0ftW/AL9sHwJd/Ev9nTx7/wkWiWOryaZdXv9l3VpsukiilaPZdRRucJNEdwUr82M5BAx/iV%2B2X8MPhX4s8S%2BBfEug68%2BseHJfDEcen2trA0mrf2/fvp2ntabplDg3cU0TlzHs8l2PyAMfaw88PUoRlQacGtOW1reVtLehm8fLNX9blWdV1Nedyc3LpdycpOW27k9t9Dyr9r7/gmPL%2B1Z8erf4y3PxS8O2cUMvhia3j1/wCHaaxqWjyaPqx1AjSb17uMaal3kRXG2F3cKCHGAo2PDv8AwTsXQdd1XWz8XxN/aeg/EzTfL/4R7b5X/CXeIodZ35%2B0HP2TyvI28efu35ixsPNfHr/grH8O/B3hv49%2BBvhppVvH8S/hH8JfFvi/SdM1vWtJ1C01A6LD85mh0vUprq2TzpbXMN0tpM6THYMpJ5feat%2B3hoPh/wCI/iT4U6b8OvFfjXxLp/xAufD%2Bl%2BGfCejWcF0YbbRNM1S6uTLeagkMsMS6jCDKzQOzzxwpA7KJJdhHqnwZ%2BH3iP4WeBNI%2BHep%2BKbLVLDQfD%2BnaZpskGkvbTH7PbLDJJKxnkV97IGVVVNgO0mT71eOfB39hXxz8H/Gtn4gsvjppmoaZ4K0LxFpvwi0a68GOo0IatdxXLNqEi3wOpi3EEVvEsYsz5HmB2eRhMvZfsQftI6p%2B09%2BzL8PPi74s0c2eueLfAOm%2BItRisdEvLewjN0hOyKSYMoYFWzCZGlQFS4AZSfO/BP7Y3xs17486DLq2m%2BFh8NvGPxi8SfDbQdPt9NuV1qzv9HtNUlfUZ7prkwywyz6JfxC3W3RkWW3cyv8AOoANzxR%2Bw34g8R/HS/8AG6/GS2g8D%2BIPiFonjzxT4M/4Rgtd3niDSrSzt7WSG/8AtQW3tSdN02Z4DbyO0lqSJlErir/wl/Zw/aX%2BG/xs%2BLfxc1T9oLwLqUPxG2XGjaZb/C69t20a8t7WK0spJpTrUgvIkhiHmxKlu0rkskkA%2BSuU/aa/bG%2BNvwr%2BKfjF/h5pnhZvBvwm0Xw3qfju21nTbmbUdYj1S%2BuIpo7GaO5jjtGtrW388NJFcCeSURYhCmQu%2BJv7QX7YPwv/AGqb34baPd%2BCPHfh%2By%2BGniTxrd%2BF9D8CX1lrNtBbPHDpGn/bW1WeKa4u53mQOLRFYWM5CoSqgApWv7Bn7Sh/YA8efsR6p%2B1H4HlvPG0fiGzHi23%2BEl5HFZWGtS3ct5H9jOuMZJle9m8qXz1VFVA8UhBLWfjr%2BwR8avj1o1zD4j/aS8MWuoeKPhXd%2BAPiDLD8MpZbS60yeaR2n0uCbVHOmXWyVlZ5ZLyNzHCzRHylWvKNE/4KtfEm8%2BGvjVNC8afDfx14h0DR/A%2Bqx%2BIfA3hfUZdP02PXtXl066spNOW%2BmudRvrDyGl%2ByQTRXFy00UCwwy8Nc%2BJf/AAVF%2BOXhT/gn94r%2BNPgjwv4W1v4p6LZ%2BNb/TLS%2B0G/02xOleHPPkudS1DS5rj7dpm5I4IPsc0vnpc3turlVZigB9Qx/s12N1%2B0Vc/HfxF4snv4IfhtH4P8O6MYnjk0uGW6e41G4%2B0iXfI915WmqcKhT%2Bz1O5i/yeVfDr/glz8M/gT428ceLfgX4tvorLxR8JdE8C6P4S%2BIesa54s0bTbawutSmPnWl/qpW6tnjvooUtQYhbrDP5TqLycFfiv%2B2N8bPCPxt8ST%2BGNN8LH4d%2BAPiX4O8DeKrC%2B025fWNRvtek01PtdtcrcrDbxWw1rT3MTwTNMEuAHjITPkul/8FXfjlpWrfEC/wDFfgjw/eW3h/wZ4y1bStATwxqWlG3vdI1aDT7K1j1a4nktfEEVx526e40%2BNVsmVVlG6VFIB6Z4Q/4JhWPw18M6Fr/wy8X%2BCtE%2BIWg/Ey48bWmrWfwyEXhyG7n0U6G9rBo0F7G1vbLp4iRFS78wTQiVpH3yI93V/wDgnx8Qbr9nLQf2P9I%2BPegW/wAPYdHtbTxWtx8PGl1m%2BmS%2Be8mlsLtdQSDTVZmCwobWc2wUFGJCleU%2BIn7cn7SPwZ1O/wDg18WfGHwu0jXdM8f6Tpes/Fq88M3tv4X0bR9Q0W9v4b27spNS8yJzeWL6cN98kZe5t5S6l/IOn4R/bm%2BOPxN%2BFHwH%2BO/gVvBkXh/xx8RZPB/jqxvNAvnuLm4jvbyxe506Q3Uf2SPzbGWRVnjnbZIinBBYgHd63%2Bw5beL/ANr/AE/9qjxZe%2BAlk8O30uoeHToXwzSy1ya6bT5rCP8AtPVmu5G1CCKK5uDHAsNuAxiZixhUnn/En/BP/wCI3xVvvFPjr41fH3Qbjxhqmi%2BHrHwzqngz4evpNjpEuiav/bOn3U1rPqF3Jeul8sTFTPGnlo0aLGZHct1L9sb422v7QF3LBpnhb/hWOn/Gaz%2BGlzYPptydblvLjTYJxqa3X2nyFiW8uYrb7KbcsY1efzwcQ15r8Nf%2BCp3jn4m/sy%2BMP2mvDHiXwddzSfDxvF3gf4fXPgTV9NurXT3mREuJNRu7lYNdESSxidLCKILcEWwkLujMAekp%2BwL8YNO8QW/xo0P9pDw%2Bfidc%2BLtW17xHq%2Bq/DmW60DUHvtLstK2R6UNTSWAwWWm2UUUhvJGAWfdvE7KMaX/gjh8ALbwf8OdF8P8AxB8dafq3gW48Kfb9YtPHmt2seuQaHFHFCkljZ38FpDIyJhZUizFuO0HJqX4RftX/ALSXxh%2BBXjz4gD4ufDPwevw48Z3llrXjHxt8LNZ02CXSoNKs71p7nQrzVLe90eRZLmRD9qnJeGBLlIzHcx453Vv%2BCmfj%2BbV/h74T8UTaB8J9Tv8A4PeHvH3xEPi7wDrOvRaauqzTwJZk2ctsNLiiksroTX18wjhLwK0eWbaAdjD/AMExNAvPGV1pviT4hafP8Ov%2BEj8Za/YeFdP8K/ZdTN94njvU1NbrU/tLC5t86leNHEtvEy/6MGkkFumbvwy/YM%2BKfw98F%2BObdf2kNLh8WeIfhLpvw%2B8KeJPDvgD%2BzoNBsdOiv1sbyS1%2B2yfa7tH1CR2ZZYIiI0WOKEb92p40%2BLn7VXhH9uDwX8EdM8afD7WvCniTSte8Qaxo0fga9tdU0nRrGGGGJjqJ1aSB5ZL%2B9s4wTaIHjW4KgGMkcd/wTe/bt%2BMv7Wnie%2B0T4q6XocCt8P8ARvEsUVh4O1LQ5NPuLyW5SWxiN/cSjXLaPyV26vZhLSYn5M7htAPofSPhx4S%2BDv7P9t8I/AOmCy0Lwt4OTSNFs16QWltaiGFPwRFH4VxXjj/lIX8L/wDsjPjz/wBO3hCvUvHP/Ik6x/2Crj/0W1eW%2BOP%2BUhfwv/7Iz48/9O3hCgD2aiiigAooooAKKKKACvBf2P8A/k3rV/8Asvfjn/1YGq171Xgv7H//ACb1q/8A2Xvxz/6sDVaAOs1/9ib9jLxXrt74p8U/sj/DHUtT1K7kutR1HUPAOnTT3U8jF5JZJHhLO7MSzMxJJJJOTVT/AIYH/YV/6Ms%2BEv8A4bnTP/jFed%2BP/wDgsp/wTc%2BF/jvW/hp46/aO%2Bw634d1e50zWLL/hENYl%2Bz3VvK0Use%2BO0ZH2ujDcrFTjIJHNZH/D83/gll/0dF/5ZOuf/IVeDPG8MKbUp0b3d7%2BzvfrfTe97mn/ETcTQ/dLPJx5dLfW6qtbS1vrCta1rWVrWsrWXs2gfsTfsZeFNdsvFPhb9kf4Y6bqem3cd1p2o6f4B06Ge1njYPHLHIkIZHVgGVlIIIBByK1v2mvgnZftJ/s6eO/2e9Q1%2BXSYfG/hHUNDfVYIBK9n9qt3hEwQkByhcNtJAbbjIzmvGvAP/AAWU/wCCbnxQ8d6L8NPAv7R327W/EWr22maPZf8ACIaxF9ouriVYoo98loqJud1G5mCjOSQOa9x%2BOvxh8Ofs%2B/B7xH8b/GWmajdaN4V0qXU9ZTSoUknis4hunmCu6BljjDysM52xttDNhT6GBrZbWhJ4OUGk9eTltfz5UtbdyZcSVOJP3s8a8TyaXdWVXlvra8qlS197Jq%2B9up5H4i/Ym%2BIXj/Qfi7L49%2BPtrF4k%2BLfw703wzfa14T8KzabDpslmNRC3MUUl9PIyOL8BojMDiJsSDzBs4b4I/wDBKaL4ReIofE0PxJ8IWG34uDxy%2Bg%2BAvhfHoGkQMPCN54cNnbWqXkphDfahdtKzyMzoykfOHT0X4z/8FEPg78FtL8Xa5qnhvU9QsfBXi2z8N6xqI8QaDpVo9/cabFqISG41fUrOGTZBPAGAffvmCor7JCnI2v8AwUd0nxT4%2Bjv/AATcWlx4C1zwZ8JNd8I6rFoUk95df8Jh4g1bTSsyPdwrHGIrOzKsAXgaSZ2S5wsFdxJ1fwN/Yo8Q/AKPwJd%2BEfi5ZXN/4G%2BBulfDq3l1Dwu7Q3f2OSBjfNGl2rLvWFgIQ52FwfMbbtbrP2jfgF44%2BKniDwf8TPg/8T9O8I%2BM/BN7ePpWqa14afV7Ge1vLVre5tp7VLq1dwf3MqssyFZLePO9C6N5h4N/4KNH4mftFeD/AAR4Q%2BD/AImsvAPiPwV4s1%2B08WapoSzt4hh0m406GOfS47K5mnMb/apW8qe3SeYNA0KEE59J/ak%2BNHxA%2BHujeBfC3wcTSIfFHxJ8b2/h3QtQ8T6XPcWWm5srzUJ7me1jmt5ZttrYXAWISxEyMgLKM0AU/Dv7LGseAv2XbX9lbwZ4p8L6hoemeB7DQrH/AITvwS2sR3k8e4XdzqEC3kEd3HcJtzAgh2OZG3urqied2f8AwTXi8N/s8v8ABfwje/CR7zVvGU3iTxHP4m%2BB8Oo6Ml28CW8R0zSRfxR6cbeCG2igLyXG1IPnErOznodK/a6%2BKb/sE%2BNf2j3%2BHdlrHjjwL/wlemX2iaPDcCz1DU9D1K%2B02WaGMGSdbeWSyM4iBklWN9mXcZPJ/BH9sz4j/Hrwf8TNH8FftNfCC6v/AIYahZXeofFLS/A17feGdR0efTzdM0dsmsqySwyJPG8i3s0Y8g5UOzRxAHpHhX9ijwn4Kvfgbonh/wAV3H/CJ/AnQLm18P6BeWolmvdQOnx6ba6jLcbgN8VnJqKFfLPmPfl9yeXtfFvf2GJta/au/wCGqtY1f4e2%2Bq6NLfXnhCbQvhYtlqf2%2Bewm0%2BK41fUPtryaqsFtc3MaRItquJyTkqhXzbxn%2B07/AMFAtM/4J5eCP2qdP8Q/C3SvHfijRdMEHg3V/hlqc8epavrN7Db6RZrs1yN7L/j7tUuAxuSjCZwQq7au%2BM/%2BCh/jf4c/thD4J%2BNdf8E2enD4naN4MtfBL6TdL4k1WDUNOtpY/EcE32rylsBe3P2Up9ndAYJAboTEQAA9S/Yj/Zj%2BMH7MfhfW9G%2BL/wAafDXj3VNf1L%2B1dX8U6Z4EuNH1LVtScFZ7u%2Bkl1O8SYlFgiijiSCO3igSKNfLVET1zwf8A8gmb/sK33/pXLWpWX4P/AOQTN/2Fb7/0rloA1KKKKACiiigAoqtrGtaP4d0ybW/EGrW1jZWyF7i7vJ1iiiUfxM7EBR7k183/ABH/AOCuf7EXgnxA3grwd8QNQ%2BIviAZ26F8MdFm1qZ8cfLJCPIJzxjzM5rlxONweDSdeoo32u0r%2Bi3fyTPdyThjiPiSpKGVYOpXcd%2BSEmo%2BcpaQivOc4o%2BmaK%2BRx%2B21%2B398V/wDk3v8A4Jk67pllJ/q9a%2BLHim20Vo/TfYjdMfwbilPwq/4LIfFfjxr%2B1J8KPhbbS9Y/AHg2bWLlE/ultRYLux1K8A8iuP8AtenU/gUqk/SDS%2B%2BfIvwPpP8AiHeMwn/I1zDB4Xup4iFSa/7h4ZYmV/LmTPreuA%2BIX7V37L3wlu30/wCKH7Rngbw9dR53Wms%2BK7S2m47eXJIGJ9gK8H/4dL6F8QP337UP7Y/xn%2BJXmf8AHxpV94wbT9Lf1xa2oXZn2fpXoHw6/wCCYf8AwT6%2BFtoln4V/ZF8ES%2BXjZNrejrqkwI7%2BZe%2Ba%2BffNHt86q/BRhBf35uT%2B6Ef/AG4P7M8NMv8A95zLEYmXbD4eNKP/AIHiql38qSv5bHPeMv8AgsJ/wTn8G4t/%2BGlNN1m7dtlvYeGdOutSlnfsq/Z4mXJ9yB71gp/wVA%2BIHjn958A/%2BCcfxw8TWzcQalrOgxaLaT%2BjRyXDncvuQPpX0x4P%2BFnww%2BHv/Ig/DjQdD%2BXb/wASfR4Lb5fT92o4reo%2BrZxV%2BPERj/gh%2Bs5P8g/tnw5wP%2B65RVrvviMU0v8AwDC0qa%2B%2Boz5K/wCGj/8AgrX44%2BTwb/wTq8JeD0b/AFV341%2BKtveDHq0Vkgdfp1oHgb/gtT4y/e678dPgR4MV%2BkXhrwzqGotGPc3ZALfpX1rRR/ZU5/xcTVl/28o/%2BkQX5i/18w%2BH/wByybA0vN0J139%2BIr1P/ST5L/4Yy/4KSeI/n8b/APBWbUYUbra%2BG/hJpdmE9hLvLH6kUf8ADs34wat8/i7/AIKi/tATO33zo3iK308H6BImxX1pRR/YmAfxc0vWpUf/ALeg/wCIncWw/gOhS/694TBw/LDS/M%2BS/wDh0b4J1Hjxl%2B27%2B0p4hU/ej1j4tSMp9sJCvFPtv%2BCKP7AN3cJd%2BO/AfiXxbKhyknifx3qc%2BD64SdAfxBr6xop/2Fk/WhF%2Bt5f%2BlSkJ%2BKviOlanmlWn/wBe3Cl/6ZpUvzPCvCv/AATG/wCCfHg1VXR/2PfAUuz7p1TQIr4/nciQmvTPBvwO%2BCvw5ZW%2BHvwf8LaCU%2B6dG8P21rj6eUi11NFdlLBYKh/CpRj6RivyR85mHE/E2bJrHY6vVT3U61Wa%2B6VRr8AooorpPDCvGf2X/wDkt/7R3/ZZrH/1CvC9ezV4z%2By//wAlv/aO/wCyzWP/AKhXhegD2aiiigAooooAKKKKACiiigAooooAKKKKACiiigAooooAKKKKACiiigAornPi74j%2BIHhH4b6t4l%2BFngnTfEev2duJNP0bV9ebTLa5O5d3mXSW9w0Sqm5siGQnbgLzXm0f7Zlin7Bfh39tu8%2BHs/meJvA2ia3p3hG21FXd77VYrb7Jp4uGRVO64uoofOKKBneVA%2BWgD2yvhP8A4KNan/Yn/BWX9iDU92M3Xji1z/12i0WLH/j1fUH7N3x38UfGF/GPhH4k/D6x8L%2BL/APiddF8SaTpOvvqlkXlsLTUIJ7a6ktrZ5ont72HJeCNlkWVNpCBm%2BPf%2BCvGpnRf%2BCkP7DuqZwP%2BE61a3ZvQTX/h6L/2avNzeXJl85dnH/0umfbeHdD61xhh6P8APGuvvwuL/wAj9DqKKK9I%2BJCiiigAooooAKKKKACiiigAooooAKyvD/8AyFtc/wCwon/pJb1q1n3vhjSL%2B7e/kFzFLIAJHtb%2BaDfgYBYRuoYgcZPOKANCisv/AIQ/Sf8An71X/wAHl3/8do/4Q/Sf%2BfvVf/B5d/8Ax2gDUryn4q/sefCr4wftG/D39pzxRf6zFrnw5F5/Z%2Bn2N3GlhqhmjKxG%2BiaNmn%2BzM0ksG108uSRm%2BbjHoX/CH6T/AM/eq/8Ag8u//jtH/CH6T/z96r/4PLv/AOO0AfNWof8ABJL4IaxpfiHwzrHxo%2BJNzoet/D3xn4M07Qn1LTVttB0vxPNFNqX2TZYiR5hJChjmuXuGXkOZBgDtfFX7BPgHWfH2q/Fnwl8WPG/hLxZqnjO58RHxF4du7Az2zXOk2GlXNlGl1ZzRG1lg020dleN5FljDpIhChfYP%2BEP0n/n71X/weXf/AMdo/wCEP0n/AJ%2B9V/8AB5d//HaAOT/Zy/Z48P8A7MXwr8LfBXwH418QX3hvwh4TstB0ix1ua2mby7YMq3MkqQJJJO6lVclvLIjUqisWZuX0D9h74deHfjmvxqs/HviuS3tPEmo%2BJNE8FTXVodG0jXb%2B1ktbzVLdRbC58%2BWK4uwUkneFWvLhliVpCa9U/wCEP0n/AJ%2B9V/8AB5d//HaP%2BEP0n/n71X/weXf/AMdoA8h%2BJH7B/gT4q%2BNLPxr4t%2BLPjVnm0rRNP8b6fbT6fFa%2BNY9Ju3u7I6ki2eVKzyzM/wBjNqsqytFIGiCxr3nh34EeFvDPxY8b/Gqx1rVZNf8AHVhpthfXM80TDT7OwimW2t7UCMbI1kubqfDmQmW6lOdpVF6L/hD9J/5%2B9V/8Hl3/APHaP%2BEP0n/n71X/AMHl3/8AHaAPFr//AIJ%2BeDfEei61cePPjr8QfEPjHWNR0O8j%2BJOoz6XFq%2BnNo9y91psdtHbWEVisUM81y/lvaushupvNEgbAxviD/wAEnf2OvjH8C/E3wa%2BOXgWDxzqfiu31sah8SPFmh6Vd%2BI7a71SMx3F9aXBsxDZToBF5XkQpHGbeHEZ2c/QX/CH6T/z96r/4PLv/AOO0f8IfpP8Az96r/wCDy7/%2BO0AeP6r/AME%2B/gpc/Eiw8Y%2BHdZ1zw74etL3Qb68%2BGvh4WVt4e1C80Ty/7JuJIPspmiNr5FpsS3mhiIsrYOjiICsPTv8AgmB8Cl06/wDCfizx3418R%2BF38L694e8O%2BEtX1K0Wz8NafrEiPex2UltaxXJb92ixyXM08kKoBGyZOffP%2BEP0n/n71X/weXf/AMdo/wCEP0n/AJ%2B9V/8AB5d//HaAPKfC37G%2BoeC/DHiC38OftWfEyHxb4p1q21DX/iRJHoM2sXa29qtrDa%2BXJpTWKQJEgwqWqtvLyFi8js2R8Qv%2BCfHhfxV8OPh38LPAH7QnxE8A6X8NtWXVtLbwudGuZ9R1JWZxe3kmq6beNLN5kk8jFdgke4kaQOdu323/AIQ/Sf8An71X/wAHl3/8do/4Q/Sf%2BfvVf/B5d/8Ax2gDyy5/Yf8Ahzd/Hw/HOXx34r%2BzyeKofFN14GF1af2JceIItOXTo9UdPs32nzVt0j/dLOLcyRpMYTKPMrkYv%2BCXHwNbQp/C2q/EXxzfaXZeGJfD/gOwm1GyiTwNpz39nqCw6YYbRHOy503TXRrtrplFhCmSm9X%2Bgf8AhD9J/wCfvVf/AAeXf/x2j/hD9J/5%2B9V/8Hl3/wDHaAPn3xp/wTO8KePPC8ui67%2B1B8Um1PUfiFa%2BMvE3iPOgvceIdQtLSG1s47y2k0prFra3S2tnjgjto0823jlbfICx3/jJ%2BwP4K%2BOtq0Hjv4z%2BOjJq/glPCPxBubGTS4H8caKryubPUQthtjUm4uxushaOBeTBWUMAvsf/AAh%2Bk/8AP3qv/g8u/wD47R/wh%2Bk/8/eq/wDg8u//AI7QBzKfs8%2BApfjB4s%2BNWsS3%2Bo6n4v8ACdh4avrS9mQ21rptrJeSCG3VUVk8176ZpWLMXKxDIEagcp%2Bzb%2BxT4N/Zt12DxHafFTxn4uutM8IWvhXw0/jC7sn/ALD0S3ffHZQfZLW3MgJEe6a486d/Jj3SnBz6j/wh%2Bk/8/eq/%2BDy7/wDjtH/CH6T/AM/eq/8Ag8u//jtACeOf%2BRJ1j/sF3H/otq8u8cf8pC/hf/2Rnx5/6dvCFeonwZob4Wdr6ZMgmK41a5kRvZlaQqw9iCK8u8cf8pC/hf8A9kZ8ef8Ap28IUAezUUUUAFc78V/iv4B%2BCPgK9%2BJnxN1xtP0eweCOaaKzmuZZJZpkgggiggR5Z5pZpY4o4o0aSSSRERWZgD0VeQftr/Dfx98Q/hPpF98MvDLa7rHhPx/4d8Tw%2BHUu4YH1aLT9Tt7ie2jkndIlmMKSGLzXSMyrGHdFJdQDbsv2rfgJffAu6/aRTx00PhCxknhvr280i7t7m2uYbk2klpJZSxLdJdC5UwfZWiExlxGELkKca7/bn/ZssvA1j49k8TeIJI9R8QS6HaaFbeAdam11tSige4ltW0eOzOoJIkCNOwa3G2LbIcIysfLPCvwJ8d%2BJ/wBnb4oeHvjJ%2Bz94ztrvx343vPHGn6B4c1/Rl1LS7hL%2BCTTreGdr37MupRGwtb0lnNoJZNnnSgNnyBv2I/2im0o/E74kfDf4m%2BME8T/HS88ZeIPD%2BnfELS9I8dWNv/wiltoNpIup6deWFnA7NZ75obG6hTyLiOINKscqSgH3r8OviH4K%2BLfgLR/if8OPEUGraBr%2Bmw3%2BkalbZ2XNvKgdHAYAjIIyCAQcggEEV49%2Bx/8A8m9av/2Xrxz/AOrA1Wtf9ln4MfFLwL%2BxB4I%2BBfjTxRL4S8UaT4NtNNuNQ8Kw2Dy6S0aBUSIS20lpJJGgVGbyGjdgzKuCKyf%2BCe/hqS0/Zj1Hwr4j8Q3uvyW/xa%2BIUF1q2qJAlzfOnjTWgZ5BbRxRLIxG4%2BVHGoY/KqjAAB71RWV/wh%2Bk/wDP3qn/AIPLv/47S/8ACH6T/wA/eq/%2BDy7/APjtAGpVTXtC0fxRod74Z8RabFeafqNpJa31ncJujnhkUo8bDurKSCPQ1W/4Q/Sf%2BfvVf/B5d/8Ax2j/AIQ/Sf8An71X/wAHl3/8doA%2BfvBP/BMH4UfDT4R%2BA/hh8PPjV8R9K1D4fa3qeqaX45XU9PudbvJb9JoroXUlzZSQSbopvKV1hSWNIYhG6bSTY8Df8ExPgH8P/DXh7wroni3xhJbeGvDXw80Owa71K2eR7bwbqt3qmltI32cbpJZ7yVbhuA6KgjELAu3vP/CH6T/z96r/AODy7/8AjtH/AAh%2Bk/8AP3qv/g8u/wD47QB4h8Nv%2BCd3gX4U/ETS/iB4S%2BOvxEVfC/hvXdC8B6FcXmmyWHhaz1Wa2mmS0Q2O%2BUxPaQeSbp7jYqbDuT5a9I%2BOfwD0T47%2BDdL8Oav4013RNU0DWrXWPD3izQHtV1HTNQgDKtzEJ4Jbdi0ck0TpJC8bxzSKUweOn/4Q/Sf%2BfvVf/B5d/wDx2j/hD9J/5%2B9V/wDB5d//AB2gDi/ht%2BzbYfCL4YQ/Cv4e/FXxVYWqadq63Gok2E15dapqV015ca1I8toym9%2B0y3EwAUWxe5k3QOBGE5m5/YV8Aa78FfiD8HfHfxP8ZeI5viq23x/4u1S5sY9U1a38iK2Nofs1pFbQW5tYvs/lwwRjZLKwxLI8p9a/4Q/Sf%2BfvVf8AweXf/wAdo/4Q/Sf%2BfvVf/B5d/wDx2gDA%2BJvwL8H/ABX8ReBde8T3l%2BkXgDxR/b%2Bk6XaSRpa3V4tlc2kX2hShLpELp5UVWTEscTnOwCsfxf8As0WfxB%2BMuk/FTxz8XfF2qaVoGqRarofw/nOnpotnqMUDQx3f7uzW8mdd7yKk1zJEsrCQRhkjKdv/AMIfpP8Az96r/wCDy7/%2BO0f8IfpP/P3qv/g8u/8A47QBqVleD/8AkEzf9hS%2B/wDSuWs7xaPh54C8PXPi3x14zk0bSrKPfealqvime3t4F/vPJJMFUe5NfNmpf8FTPBfi7VZfhr%2BwJ%2Bz74q%2BN2qWTmKe%2B0GP%2Bz9BtH6kTandLsDEnOQrK3J3Vx4rH4PBWVaaTey1cn6RScn8l8z6PIuEuI%2BJVOeXYeU6cPjqNqFKH%2BOtUlClD/t6pd9Is%2BuaxvHXxE%2BH/AMLvD0vi34l%2BONI8PaXB/rtS1vUorWBPrJKyqPzr5dbwH/wWE%2BP42%2BM/jF8Ofgdo0/3rTwdpL67rCoeqPNckQK2OA8R4644rW8C/8EiP2VbHxDF4%2B%2BPdx4n%2BMnihOTrfxT1%2BXUlUk5KpbfLAI89EZHwABmuT69j8RphsO0v5qj5F/wCArmm/uifQf6rcJZR72c5vCcl/y6wcXiJ%2BjrT9jho%2BqlV9H1q%2BI/8Agrt8CvEOtT%2BC/wBkz4a%2BOPjdr0L%2BW8XgLw/KdPt37efezBY406fvF3ryKorpf/BYX9pA%2BbqfiLwB%2BzzoU3S20%2B3XxNr6Kequ74tBx0ZMMDn2r6v8OeGfDfg7RoPDnhHw9Y6Vp1qmy2sNNtEghhX0VEAVR7AVeo/s/GYjXFYh2/lp%2B4vv1m//AAKIf638OZRpkWUU1Jf8vcU/rVT1VNqnhoP0o1bd2fJukf8ABIL4EeKdTh8S/tWfFb4ifGjVIpBKo8d%2BK5jYQyf9MrS3MaIn%2BwS68mvpD4a/CL4VfBrQF8LfCT4b6F4Z01cf6FoOlRWkZI7lYlAY%2B5yTXRUV1YbLsDg5OVGmk3u95P1k7yf3nhZ3xlxVxHSjSzHGVKlOPw078tKP%2BGlBU6UflTv59QooortPmQoorP1zxb4U8MwG58SeJ9P0%2BNfvSX17HEo/FyKTairtilKMVduxoUV5Z4q/bl/Yu8Ebl8V/tZfDixkTrBN40sfN/BBLuP4CvP8AVP8AgsB/wTW0e6Nnd/taeHncdTa211On/fUcLKfzriqZnltF2nXgvWcf/kjz6ucZRQdqmIpx9Zw/%2BSPpOivl%2B6/4LP8A/BMi0j82X9q3SyPSLRNRc/ktsTWZJ/wXD/4JnyOYtI%2BPt9qTjgpYeB9Zc5/G0ArF53k0d8TT/wDA4/5nPLiPh%2BO%2BLpf%2BBx/zZ9Z0V8lD/gtx/wAE97ZhL4h%2BIXiXSLQnCahqfgHVUhb6Fbdj%2BldDYf8ABYH/AIJq6lard2/7Wnh9UboLi2u4m/FXhDD8RTjnWTz2xEP/AAJL82gjxFkE3ZYun/4HFfm0fSlFfNGpf8FiP%2BCaWlReddftZaEw9LayvJj%2BUcDGsKT/AILg/wDBNaVzHonxy1LVGBxt07wNrD5Ptm1ANEs7yaO%2BJh/4HH/NhLiLIIOzxdP/AMDj%2BjZ9aUV8lf8AD6H9j%2B6/5AHhz4m6r6f2d8Nr9s/99ItH/D2/wrrP7r4dfsOftHeJZDwrad8LXSJT/tPJMu0e%2BKn%2B3Mo6Vk/Tmf5RZP8ArJkT%2BHERfpzS/wDSYM%2BtaK%2BSv%2BHgn7YetfN4L/4JO/EudW/1Z1zxHp%2Bmk/USFttH/DZH/BTyT54P%2BCPlyUP3TJ8d9FVse4MXFH9s4J7Kb9KdR/8Atgf6wZc/hVR%2BlGs//cZ9a14z%2By//AMlv/aO/7LNY/wDqFeF68w/4bO/4KYQc33/BH/UFH/TD436NL/KMV0X/AATr8b/ET4j638efGfxY%2BENx4D8QXnxmg/tDwpdatDfSWOzwj4bjTM8ICPvjVJBjoJADyDXRhsww%2BKm4QUk9/ehOP4yil8tzqwmaYXG1HCmpppX96nUgvvlFL5XufSdFFFdp6IUUUUAFFFFABRRRQAUUUUAFFFFABRRRQAUUUUAFFFFABRRRQBgfFHRPHniX4faroHwy8U6Romu3lqYrDVde0KXU7S3JIDNJbRXNq8o2bgAJo8Eg5IBU%2BHeCf2H/AIoWn7Duj/sU/E3496Fqlv4c8FaZoug%2BJ/DvgObTbi2u9Ma3bTb9op9RukdomtYHePIWR1JBjU7B9IUUAeZfs3fAfxT8Hn8Y%2BLviV8QbHxR4v8feJ11rxJq2k6A%2Bl2KvFYWmnwQW1rJc3LwxJb2UOQ88jNI0r5AcKvwj/wAFkfhH8KPhv%2B2l%2Bz38aPBPwx8PaNrtzrl7qviXXNK0WC3u9UeHXvCyRvczRoHnK%2Bc%2BC5JG846mv07r85f%2BC9n%2Bg3ngrxZ0/sDwFrmobv7u3xX4HTP/AJEryc9/5E1d9ot/c4v9D9A8KdfEnKYfz1ow/wDBkatP/wByH6NUUUV6x%2BfhRRRQAUUUUAFFFFABRRRQAUUUUAFFFFABRRRQAUUUUAFFFFABRRRQAUUUUAFFFFABRRRQAUUUUAFFFFABRRRQAUUUUAFeM%2BOP%2BUhfwv8A%2ByM%2BPP8A07eEK9mrxnxx/wApC/hf/wBkZ8ef%2BnbwhQB7NRRRQAUUUUAFFFFABXjP7B//ACRDXP8Ass3xH/8AU11uvZq8Z/YP/wCSIa5/2Wb4j/8Aqa63QB7NRRRQAUUUUAFFFFABRRRQAUUV83ftO/8ABQjTPhz8QU/Zp/Zj8BTfFL4wXa/L4V0m4C2miocZuNTufuW0a5B2EhjlQdgdWrmxWLw%2BCpe0rSstl1bfRJLVt9Ek3%2Ba9rIeHs34lx31TLqXPJJyk21GEIL4p1JyahThH7U5yiltq2oy9/wDGHjPwh8PfDV34y8eeKNP0XSNPiMt9qeq3iW9vboP4nkchVH1NfKGsf8FGfi1%2B0xq9x4C/4JmfAx/GSxTNBe/FXxjHLp/hewcHDGMkCa%2BZT1SMAjhhvWpvB3/BN3xt8evE1n8Xf%2BCmXxYX4j6rbTC40v4c6OHtvCmiv2C2/DXjjp5k33gSrBwAa7z44f8ABQb9jX9ke5s/hLc%2BJ47/AMQRBbXS/h38P9L/ALQ1Fdo4hW1thtgwBwshQYHGa8nEYnF1aftK81hqXm17R/nGF%2ByU5%2BjPpsXjvDvgOl7StKGY4lfak5QwUJdor3K2Laf/AF5ovpGot%2BJ8I/8ABLaz%2BJviK1%2BJ/wDwUK%2BNesfGnxDbyedaaDe5svDWlv6QafEQr4B2lpMhwAWTNfU/hrwv4a8GaFbeF/B/h6x0nTLOMR2enabaJBBAg6KkaAKo9gK%2BU3/bj/b0%2BLqGD9mr/gmb4k023n4h1/4va9b6Ilvno8lkC07j1CNmmRfsPftyfH%2BQap%2B2J%2B37reiWr/N/whvwMi/sW1gP9030itcTp22uvbrzUYWthKF/qGHlOT3k04385VKlm/kn5JHw2f8AiPxDxa4Qn7StCHwQjFUMPTXanBxpUoL/AAUpSf2pyd2fXU9xBawtc3U6RxoMvJIwCqPUk9K4LxX%2B1j%2Byx4DmNv45/aW%2BH%2BjSA4MereMrG3bPpiSUV4ZB/wAEUv2EtSmW7%2BJnh/xj44nVt3n%2BLvH%2BpTsW9SI5owfyxXe%2BE/8AgmJ/wT28FxCHR/2O/AMwAxnVvD8V%2BfzuhIa7fa53PalTj6zlL/0mK/M%2Bd9txHU%2BGjSh/iqTl/wCkQX5l/VP%2BCi/7A2j2z3d3%2B2b8MnSMZYWvjWynY/RY5GZvoAa831n/AILRfsKtfPofwr8TeKviNqyHC6P4A8E397NI3ZVZ4442J9nr2DTP2JP2MdFuUvNG/ZG%2BGFpNE2Y5bbwDp0bIfUFYQRXo2kaLo/h%2BwTS9B0m2srWMYjtrSBYo0%2BiqABR7PPJ6OpTj6RnJ/wDk0kvzD2XEdTSVWlD/AAwnJ/8Ak84r8z5Pj/bO/wCCinxUb7T8B/8AgmXqGkaYRmPVPin4yttKmb0BslDSqe/3iO1P/tr/AILe%2BJ/lsPBX7OHhiJvvNqeo6zezIPbycIT9eK%2BtqKP7Nrz/AImKqP0cYr7owf5/MP7IxM9auMqt/wB1wgvujTdvvfqfJX/ChP8AgsD4q%2BbXv2%2B/h94ULdV8MfCyO%2BCfT7Y4z%2BNI3/BP79s3xaPs3xa/4Ky/Ea8t3/16%2BDvC%2Bn6BKf8Ackg3lPwFfW1FH9jYSXxynL1qVPyUooP9X8DL%2BJOpP/FVqv8ABSivwPklP%2BCK37GWun7T8YNR%2BI3xEvT9/UfGnxH1Cad/XJgkiHP0rR0T/git/wAExNAnW4sv2VrCRl/5/vEOqXIP1Wa6YH8q%2BpaKayPJk7/V4N93FN/e7v8AEceHOH4u/wBUpt93FN/fLmf3tnjvhX/gnr%2Bwp4L2t4d/ZA%2BHEcifcnn8IWk8q/R5Y2b9a9A0r4RfCfQrUWOifDDw7ZwL92G10WCNB%2BCoBXRUV2U8JhKKtTpxj6RivySPQpYHBYdWpUox9IxX5RRl23gfwVZSedZ%2BD9Lhf%2B9Fp8an8wtaccccSCOJAqjoqjAFLRW6jGOyOhRjHZWEZVdSjqCCMEEda5%2B%2B%2BEXwo1O5a91L4YeHriZ/vyz6LA7N9SUya6GilKEJ/Ek/UUqdOp8ST9Un%2BaZg6b8K/hho0vn6R8ONBtX/AL9to8CH81UVuxxxxII4kCqowqqMAUtFEYQh8KsOMIQVopL0SX5JBRRRVFBRRRQAV4z%2By/8A8lv/AGjv%2ByzWP/qFeF69mrxn9l//AJLf%2B0d/2Wax/wDUK8L0AezUUUUAFFFFABRRRQAUUUUAFFFFABRRRQAUUUUAFFFFABRRRQAUUUUAFFc78XPil4N%2BB/wt8RfGP4h372uheFtFudU1aeKFpZFt4ImkfYi5aRyFIVFBZmIABJFcR8O/2wPBHjDwT458W%2BNvAnijwHefDaJp/GnhvxbbWr3%2Bn2/2Jb5LgCwuLqGaN4G3KYpXO5JIyFkjdAAes1%2BfX/BdTR/7c8KzWWzOz4C%2BL7jH/XHxP4Glz/45X1Z%2BzT%2B114X/AGldU1jw5ZfDPxV4S1bRtG0nWJdL8VLYM8%2Bm6mtw1ldxyWF3dQlZPstwPLaRZU8vLxqHQt8%2B/wDBXHR/7cfUrLZu2fst/Ey4x/1y1HwjLn/xyvOzeHtMpxEe8J/%2BkyPsfDvE/U/EDKK/8uKw7/8AK9L/ADPsbwJrH/CQ%2BB9G1/fu%2B3aVb3G713xK2f1rVrgP2UNY/wCEh/Za%2BGuv7t327wBo1xu9d9jC39a7%2BuyhP2lCE%2B6T%2B9J/qfO5rhvqea4jD/yVKkf/AAGpOP8A7aFFFFanAFFFFABRRRQAUUUUAFFFFABRRRQAUUUUAFFFFABRRRQAUUUUAFFFFABRRRQAUUUUAFFFFABRRRQAUUUUAFFFFABXjPjj/lIX8L/%2ByM%2BPP/Tt4Qr2avGfHH/KQv4X/wDZGfHn/p28IUAezUUUUAFc78V/iv4B%2BCPgK9%2BJnxN1xtP0eweCOaaKzmuZZJZpkgggiggR5Z5pZpY4o4o0aSSSRERWZgD0VeQftr/Dfx98Q/hPpF98MvDLa7rHhPx/4d8Tw%2BHUu4YH1aLT9Tt7ie2jkndIlmMKSGLzXSMyrGHdFJdQDbsv2rfgJffAu6/aRTx00PhCxknhvr280i7t7m2uYbk2klpJZSxLdJdC5UwfZWiExlxGELkKc%2BT9tT9nWL4Zr8V5PFWrrYPr50JNKbwZqw1ttU2mT7CNI%2By/2gbnygZvJ%2Bz7/JHnY8v568j8K/Anx34n/Z2%2BKHh74yfs/eM7a78d%2BN7zxxp%2BgeHNf0ZdS0u4S/gk063hna9%2BzLqURsLW9JZzaCWTZ50oDZ8jh/YR/aLNva/HrxtpPxV8QX2ofH288Z6/4Ns/H2l6Z4tl0yXwhF4di3X%2Bn3VlYw3IltIJ2jtLmCNbaV4VkcoySgH334S8UaX428L6f4v0SK%2Bjs9Ts47m2j1PS7ixuVR1DAS29ykc0DgHmORFdTkMoIIryr9g//kiGuf8AZZviP/6mut1f/Z%2B8BfHz/hkjw74A%2BNPxK1jSPHh0IQ6l4i06eyvNRsX3kx7pbiCa2uLhIvLjklaJ0kkV3AO4GsL/AIJ06Tf6D%2BzdfaJqvie%2B1u5s/i38Q4bjWNTjgS5vnXxnrQM0q28UUIdyNxEcaJknaqjAAB7pRRRQAUUUUAFFFFABXCftF/tKfBr9lP4aXPxX%2BOHjGHSNKgcRQqVMk95O33IIIl%2BaWVsHCqOACxwoJHF/t1/t6/BT9gj4UP8AED4n34u9VvQ8fhrwvazqt3q04A4XOfLiXKl5SNqAj7zMqN%2BfXwH%2BD3/BSX/gpr8YbX9q/wAd2lt4IsVYnwr4q8T6YZbfw9aMQR/Yely8SzkBWN9P1JBRleNWPz%2Ba539WrLB4SLqV30Suor%2BaW1vJNq/Vpb/QZZh%2BH8HS%2Bv57VkqX2KFKzxOJa%2BzTi7xpUr6VMVW5aUFdQVeraEfdvjX%2B1d%2B1Z8dPCj%2BJ/FvjfTf2S/g9eKyr4n8a3Ef/AAmGuw45FnZ7v9ELKe2ZV4ZCw4qj%2BzB8dNK8DeB2%2BGP/AASK/YU8R%2BLrS9l8zVfi38QWbSNN1WfnN5NdTgXF%2B2SSY1EZXedigcV7z8GP%2BCVf7K3wz8Tr8TviLpmq/FPxwxDT%2BMvihqLatclxyDHHL%2B5iCknaQm5ePmOK%2Bko40iRYokCqoAVVGAB6CufDZTmdWr7fEVeWffSU0nuotpU6a8oQb7zZyZ3xdxTxBgP7Mw0KeWZfdP2GHvOc2vhlXr1LyrTXRyUoxbbpwhufIMn7E37eX7RaF/2xv277rQdJuB/pPgf4I2H9l2%2B0/ejbUJgbmVCPlKsvTPPNe4fs4fsafszfsl6KdI%2BAnwi0vQ5JU23mqiMzX953PnXUpaWTnnaW2gngCvT6K9jD5Xg8PU9qouU/5pNyl8nK9v8At1RPlsLk2X4Wr7ZRcqn8825y%2BTle3/bqigooor0D1AooooAKKKKACiiigAooooAKKKKACiiigAooooAKKKKACiiigAooooAKKKKACvGf2X/%2BS3/tHf8AZZrH/wBQrwvXs1eM/sv/APJb/wBo7/ss1j/6hXhegD2aiiigAooooAKKKKACiiigAooooAKKKKACiiigAooooAKKKKACiiigDz/9qv4K3X7Rn7N3jb4Hadr0elXnifw5dWOnanNCZY7S6ZCYJnQEF0WUIzICCygjIzmvK/Cn7Pn7Vutw/F3xf451Pwj4Q8X/ABZ0E6Vb3/g/xHd6jH4UW10w21hcQtcWNub2U3M91cPuWARr5MY80qzn6UooA%2BZv%2BCf/AOxx4t/Zb8ReLdd1D4Y/Dn4eaRr2g6Dp9t4D%2BFmoXFzpjX1iLwXOtSvNZ2mLu7S4tonAiZtmnxGSaZiNnC/twfBnw3p/xy8SarpGoeIZ7zxd%2Byp8VUvoNU8Xajf2kTCbwyqi1tbmeSCyHznK26RBsLuB2rj7Tr54/aV0f/hIf2s/C2gbN3279nf4k2%2B3133/AITXH61hiYe0w1SHeMl98Wv1PTyTE/U87wuI/kq0pf8AgNWnL/203v8AgnHrH9ufsC/Bq%2B37tnw10eAn3itI4v8A2Svaa%2Bbf%2BCQOsf25/wAE2PhLe787PD0lvn/rldTxY/8AHK%2Bkq58qn7TK6Eu8If8ApMT2uPsN9T47zah/LisQv/K9X/MKKKK7z5IKKKKACiiigAooooAKKKKACiiigAooooAKKKKACiiigAooooAKKKKACiiigAooooAKKKKACiiigAooooAKKKKACvGfHH/KQv4X/wDZGfHn/p28IV7NXjPjj/lIX8L/APsjPjz/ANO3hCgD2aiiigAooooAKKKKACvGf2D/APkiGuf9lm%2BI/wD6mut17NXjP7B//JENc/7LN8R//U11ugD2aiiigAoorP8AFnivwz4E8M3/AIz8Z69aaXpOlWkl1qWo304jhtoUUs8js3CqACSTSbUVd7ClKMYuUnZI0K%2BK/wBvL/grTpnwc8bR/sp/sd%2BFl%2BJHxn1a5%2BxW%2Bl2Cme00eY9fPKEeZKuCTEGAQKzSsgXDeCftt/8ABTz9pb9q6%2B0n9n7/AIJ/%2BHdX0TSvG94%2Bn%2BH/ABO0TW%2Br%2BKVBKzTWSNhrKwjw2%2B8fax2sFKGOUD6u/wCCbf8AwTB%2BFH7Avgr%2B1ZPI1/4h6vbAeI/FssWSucM1ta7uY4A3U/flIDP0VU%2BWqZpi85xDwuWPlgvjq22v0pp7ya2k9EtbPRvuwuU1cXlNPNcXKVHB1b%2BytpVxPK%2BWTopp%2BzoKV4yxU4tSknDDQqzUqlLmv2S/%2BCXcNp4pi/an/wCCgHiNfir8Y9QVJWl1jbNpfh4Alkt7S3wIiUZid%2B0Krf6pU5Z/sYAAYAoor3sFgcLl9L2dGNurb1lJ95N6tvu36WWh5lPDYXDyk6NNQ5nd2u/S8pOUpWWl5Sb/ACCiiiuw2CiiigAooooAKKKKACiiigAooooAKKKKACiiigAooooAKKKKACiiigAooooAKKKKACiiigArxn9l/wD5Lf8AtHf9lmsf/UK8L17NXjP7L/8AyW/9o7/ss1j/AOoV4XoA9mooooAKKKKACiiigAooooAKKKKACiiigAooooAKKKKACiiigAooooAKK534ufFLwb8D/hb4i%2BMfxDv3tdC8LaLc6pq08ULSyLbwRNI%2BxFy0jkKQqKCzMQACSK5L4P8A7VPhD4oaH4tv/FXgvxB8P9R8ByqPF%2BgeOPsUd1pkL2iXkdy72dzcW7wvA%2B4OkzAFJEba8bqoB6fXi/j6KOf/AIKDfDGCVQyP8F/Hqsp7g6t4QzXUfs%2B/Hi9/aA8OP4xj%2BB/jTwjpFxbW91oN94vi0%2BI6zaTqzx3EMNtdzzQDaFYx3UcEy%2BYoMYO4LzPjj/lIX8L/APsjPjz/ANO3hCgE7M8z/wCCIcskP/BNzwT4enctLo2p65YyE9cpq922PyYV9ZV8l/8ABG//AEH9m3xh4T6f2B8ZfFGn7f7u2834/wDIlfWleTkX/Imw67QS%2B66/Q/QPFbXxLzef8%2BIqT/8ABnJU/wDcgUUUV6x%2BfhRRRQAUUUUAFFFFABRRRQAUUUUAFFFFABRRRQAUUUUAFFFFABRRRQAUUUUAFFFFABRRRQAUUUUAFFFFABRRRQAV4z44/wCUhfwv/wCyM%2BPP/Tt4Qr2avGfHH/KQv4X/APZGfHn/AKdvCFAHs1FFFABXHfHj42eGv2fvh1L8RPE2kanqm7UrHTNM0XRIY5L3VNQvbqK0tLSBZZI4/MknmjXdI6RoCXd0RWYdjXl/7W/wb8Z/Gf4YWFj8NbzTIvE3hrxhoviXQI9bnkisrq40%2B/huTazyRRyPEk0aSQ%2BaschiMgkCSbNjAGbD%2B2x8Ml/Z31X9oXVvCfiXT10TX28P6r4PurO3bWINb/tBNOj0zZFO8DTS3UsMcbrMYHE8cgl8tt9UtV/by%2BFvhf4DeNfjh458FeKdDuvh/q50bxL4FvLezm1uLVmhtp7bT41trmW2lmuIr2ykiKXBjK3UbO6AOU5zwd%2BzB8V1%2BBPxF8D/ABc%2BGfgLxPqfxG1zUPE2q6KPGd/b6emoz3CeRYpdJp/nxRwW9vaFdQSMTfaEaRbeLC4810L/AIJOeJr/AOGHiK7vvjdr/gbxpr/jPV/FUdn4T8SJr9jb311oNtocUdxfeIdPurm/ZbS1Ja7aOKfde3ITapRQAfYHwy8faP8AFb4beHvij4dtrmHT/Emh2mq2MN6irNHDcQpMiyBWZQ4VwCAxGc4J615r%2Bwf/AMkQ1z/ss3xH/wDU11utb4G/s%2B6n4I/ZF8I/s1/FDx3rGsXmj%2BDbHR9Y1zS9ak026lkhhRGMFzpy2kkSqV2o8Yicoq7ssWJ5v/gnT4esPCX7N194W0q4vpbbTvi38Q7a3l1PVJ725dE8Z60oMtxcO807kDmSR2djksxJJoA90ooooAh1DULDSbCfVdVvYba1toWlubm4kCRxRqCWdmPCqACSTwAK/Lz9tT9sOz/bHePXLnS9UvPgTpviIab4J8H6aXi1H4z%2BJI5AI7eJVG9dLhl2l5Mc8AZlZFi9I/4Kq/tY6R8QL/Xv2SfD3i640zwN4S0uPV/2gvFemSASwWLEfZvD9sx4N5euVj29lcZyomUd3/wTu/Y51%2BfVNN/bO/aQ8IWml%2BJZtDisPhl4At0P2P4feH9mIbWJGHF08ZzLIRv%2BZgcFnFfIZlia%2BcYx5fhX7i%2BN9NHZ37xi9OX7c/dfuQnf2OG8iy3O4Vs5zy/9k4WfI6abjLHYlJS%2BqwktVRprlli6q%2BGLVKN5zSOv/YE/Yq174Ki//aI/aHlsdU%2BL3jC0jj1aWyiVbPw3p6geRo2novyxW8KqinZwxQcsFUn6Xoor6bCYSjgsOqNJaL723u2%2Brb1b/JJJPP8APsw4kzSeOxjXM7JRilGFOEVywp04LSFOnFKMIrRJdW5SkUUUV0njBRRRQAUUUUAFFFFABRRRQAUUUUAFFFFABRRRQAUUUUAFFFFABRRRQAUUUUAFFFFABRRRQAUUUUAFeM/sv/8AJb/2jv8Ass1j/wCoV4Xr2avGf2X/APkt/wC0d/2Wax/9QrwvQB7NRRRQAUUUUAFFFFABRRRQAUUUUAFFFFABRRRQAUUUUAFFFFABRRRQB5/%2B1X8Fbr9oz9m7xt8DtO16PSrzxP4curHTtTmhMsdpdMhMEzoCC6LKEZkBBZQRkZzXlfhT9mD45/EKH4u3n7RWmeEdKufjToJ0HWrbwd4nu76PQ9Oh0w2cHkyXFhbm8lklub2VyywCJWhQCYqzn6UooA%2BZP2AP2OfiN%2BzD4g17WvFnhrwP4Xsb/wAJaDoq%2BHfh/qt1d2uqX9gbz7Tr90bi2tyl7drcwo67ZX22qeZcznb5epf/AAx8N%2BDv%2BCm3gvxnpOpeIZrzxD8HvHEl/Dqvi7Ub60iKat4SwLa1uZ5ILIHccrbpGGwNwO1cfQ9eM%2BOP%2BUhfwv8A%2ByM%2BPP8A07eEKAPMf%2BCUv/Esuf2jvCbcf2f%2B094oeFf7sMotnQfzr60r5L/4J3D%2Byf2pP2rPCfTyfi3BqG3/AK%2BrJHz%2BO2vrSvJyTTLIR7Oa%2B6pUP0DxR97jfEVf%2BfkMPP8A8DwmEf6MKKKK9Y/PwooooAKKKKACiiigAooooAKKKKACiiigAooooAKKKKACiiigAooooAKKKKACiiigAooooAKKKKACiiigAooooAK8Z8cf8pC/hf8A9kZ8ef8Ap28IV7NXjPjj/lIX8L/%2ByM%2BPP/Tt4QoA9mooooAKKKKACiiigArxn9g//kiGuf8AZZviP/6mut17NXjP7B//ACRDXP8Ass3xH/8AU11ugD2avBf%2BCgf7WGsfszfCmz0L4WaUusfE/wAe6gNC%2BGvh9QGa41CTANw6n/ljAGEjsflzsViofI9s8T%2BJdC8GeGtR8YeKNTistM0mxmvNRvJ2wkEESF5JGPYKqkn6V%2BXPjP4s/Fj4tNJ%2B3Jb6VNH8S/jXeSeA/wBlbwrcPiTw7osjFLrXHAz5crRs8jSjOwSLyY3G3w88zB4PD%2Bzptqck9VvGOibX95tqMF1nJdIsMJlmZ8TZ5heH8sko4jFStzvSNGlHWrXm%2BkacFKV31V/s67n7Gn7JeifHH45W/wAJhqreI/hz8GvEra18TfFc7GQfET4iyDdKXdv9bbWe4qFP/Ag4mLV%2BnFee/sq/s4%2BCf2TfgH4c%2BA3gKIG00OwVLm9KbZL%2B6b5p7qT/AG5JCzH0yFHAAr0Ktcmy5ZdhEpJKcrOVummkU%2BqitL9XzSesmfVcVZplmIq0MryaLhl2Ch7HDxejcU7zrTX/AD9xFTmrVG7tc0IXtTCiiivXPlQooooAKKKKACiiigAooooAKKKKACiiigAooooAKKKKACiiigAooooAKKKKACiiigAooooAKKKKACiiigArxn9l/wD5Lf8AtHf9lmsf/UK8L17NXjP7L/8AyW/9o7/ss1j/AOoV4XoA9mooooAKKKKACiiigAooooAKKKKACiiigAooooAKKKKACiiigAooooAKKzfGfjHwr8O/B%2BrfEDxzr9rpWiaFps%2Boaxql7KEhs7WGNpJZpGPCoiKzE9gDXOfBD9oT4VftEaJqGu/C3WNRmXSNQFjq1hrfh2%2B0i%2BsbgwxTqk9nfww3EW6GaGVC8YDpKjqSrA0AdrXhPxK8S6TpP/BSb4O%2BH7%2B5Edxqvwa%2BIK2IY/6149T8IOyD32Bm%2BiGvQfhJ%2B0T8GvjtrfjDw98JvG0es3XgHxNJ4e8ViC0nRLLUo4o5JLcSSIqTFVkUM0RdVcMhYOjqvxr/AMFX/iJqnwR/4KGfsh/Ha2LJp3hybxVB4kmDYWDTb%2B68O6fPK3qF%2B0p%2BOK5cbiVhMNKs9o2v6Xim/knf5HFmGLWAwcsQ9o2v6OUU38lK/wAj0v8AY6/4lH/BTf8Aa48OHhJp/BWoQD18zSZRIf8AvoCvrSvkv4I/8Sb/AILD/HDTOn9tfDPw1qGP73kl4M/rivrSuPJtMNOPapVX/lRv9T9N8SPfzvC1v58HgZf%2BWlOD/Gmwooor1j8/CiiigAooooAKKKKACiiigAooooAKKKKACiiigAooooAKKKKACiiigAooooAKKKKACiiigAooooAKKKKACiiigArxnxx/ykL%2BF/8A2Rnx5/6dvCFezV4z44/5SF/C/wD7Iz48/wDTt4QoA9mooooAK4748fGzw1%2Bz98OpfiJ4m0jU9U3alY6Zpmi6JDHJe6pqF7dRWlpaQLLJHH5kk80a7pHSNAS7uiKzDsa8v/a3%2BDfjP4z/AAwsLH4a3mmReJvDXjDRfEugR63PJFZXVxp9/Dcm1nkijkeJJo0kh81Y5DEZBIEk2bGAM2H9tj4ZL%2Bzvqv7QureE/Eunromvt4f1XwfdWdu2sQa3/aCadHpmyKd4GmlupYY43WYwOJ45BL5bb6g0z9se88R%2BEtQ1bwX%2Byz8Stb8Q6D4mk0LxZ4EsG0NdU0G7W0hvR9pkm1SOyZXtrq0mQw3MpdbqPAzuC8t4O/Zg%2BK6/An4i%2BB/i58M/AXifU/iNrmoeJtV0UeM7%2B309NRnuE8ixS6TT/Pijgt7e0K6gkYm%2B0I0i28WFx5tbfsN/tgfDP4BeKfA/wKn8I2Gt/Fr4nnX/AIoQ3nxV1szWWkf2Zaae1jp%2BuT6fdXk93NFp9uJL6eFJE%2B0XDRCNhC0YB9b/AAc%2BLHgz48fCXwz8bPh1ezXGgeLdBtNX0aa4t2ike2uIlljLxt8yNtYZU8g5B6V57%2Bwf/wAkQ1z/ALLN8R//AFNdbrsvC/wt024%2BAulfB7XfCUHhKzg8PW2mvoXgLxReW0OkxRRqi29lfW62lwkcaoESRFhbao%2BVelef/wDBOnw9YeEf2br7wtpVxfS2unfFv4h21vLqeqT3ty6J4z1pQZbi4d5p3wPmkkdnY5LMSSaAPO/%2BCrnjPWfHfhzwV%2BwX4B1o2eufGnXfsmt3sTgNpnhu1xPqV0T0UeWoTDYDKZBniud/4J6%2BCtJ/aZ%2BPesft0RaILTwD4R04%2BBP2fdJaMiO30e1/c3Ooop6GZlMatwwQOjZABr57%2BNnxZ8U/HvUfip%2B1Z4FkM%2BsfFbxDB8Df2e13HjTmmK6nqSEciOU%2BcRKMGMkgmv01%2BCPwl8MfAb4P%2BGfgx4Mh2aX4Y0S3020JUBpFijCmRv8Aacgux7sxNfIYJf2vnMsRLWELNednJU//AG%2Br84Poj6nhaX9icD4viHbEZrOeFoPrDBUGvbzj2%2BsVnGlfrTjNL4mdTRRRX158sFFFFABRRRQAUUUUAFFFFABRRRQAUUUUAFFFFABRRRQAUUUUAFFFFABRRRQAUUUUAFFFFABRRRQAUUUUAFFFFABXjP7L/wDyW/8AaO/7LNY/%2BoV4Xr2avGf2X/8Akt/7R3/ZZrH/ANQrwvQB7NRRRQAUUUUAFFFFABRRRQAUUUUAFFFFABRRRQAUUUUAFFFFABRRRQB5h%2B2p8IfFXx8/ZM%2BIfwd8CvajW/EHhS8tdHjvpSlvNdGMmKKVgCVidwqO2DhWY4OMHzD4a%2BBP2lvHPiX4zfEWb4f678Ita%2BKmk2%2Bl%2BFL7U5NI1WfwvJY6WYYtTu4bS/eKZ3urmUxwxSSBo7NDK0Jk2r9PUUAfLf8AwTq/ZV/aD/Za8cfFnRvirrHhC68M6nrOhjwZJ4W8LT6aLqG10GwspJys%2Bq38oG638orKRI8kMsxdlmVV84/4KLfsteJfjb8YtU8B33xR8ReJD4n/AGd/H9z4a8Oapaactro97a6t4RubeO1a2tIrhg80cQY3Es7DaNpX5t33XXjPjj/lIX8L/wDsjPjz/wBO3hCscRQhicPOjPaSafo01%2BphisNTxmFqUKnwzi4v0aa/U%2BS/hH%2B0BPoXxt/Z3/4KH69eLceF/jb8N7X4c%2BN79/u6Xr8UrPDMW/uy3UU0JJ4UIzHsK/Rqvz3/AGeP2bvD3xY%2BD/7T/wDwSx8UyLaf8In49uNQ8FyuCDplnqSi/wBLlTHP7uZGZtuMhyvG6voz/gm/%2B0j4h/aM/Zrsz8S43t/H3gu/m8L/ABDsJyPNh1azIjkdh/01XZLkcZdgPu187kVepSkqVX/l4nJf9fIe5Vj98VNeUmfcQrz4u8M8vzl64nAKODxK7wi6iw1X741sPJ/zKk3rLX3yiiivqD44KKKKACiiigAooooAKKKKACiiigAooooAKKKKACiiigAooooAKKKKACiiigAooooAKKKKACiiigAooooAKKKKACvGfHH/ACkL%2BF//AGRnx5/6dvCFezV4z44/5SF/C/8A7Iz48/8ATt4QoA9mooooAKKKKACiiigAr5b%2BHXxF/wCFRf8ABPX4v/FFJ/Lk8P8AjH4tX8DZwfNi8V6%2B6Ae5cKB7mvqSvzq/bC8aS%2BE/%2BCPPxR0exuRFe%2BKPjj400OyZjgE3HxD1XzB/35WWuHM8Q8Lltasvswk/nZ2/Fo8/Nq88NlderDWShK3e9mopebk4pedjmv8Agk98O/8AhcXxb%2BGsElvv8Kfs5/Cm1FqhH7t/Fevob26Ydi0MEpjYdUkUHPIr9Oq%2BTv8Agij8N7bwR/wT78LeLbi0C6x46vr/AMSa9cBcG4nuLl1jb2H2eOAAe3vX1jXBw3hvq%2BUU5P4ppSfzSUV8oqK%2B8/ReO40suzinkFD%2BDllKng4W2boLlrT/AO4uIdepfqnDtoUUUV7p8UFFFFABRRRQAUUUUAFFFFABRRRQAUUUUAFFFFABRRRQAUUUUAFFFFABRRRQAUUUUAFFFFABRRRQAUUUUAFFFFABXjP7L/8AyW/9o7/ss1j/AOoV4Xr2avGf2X/%2BS3/tHf8AZZrH/wBQrwvQB7NRRRQAUUUUAFFFFABRRRQAUUUUAFFFFABRRRQAUUUUAFFFFABRRRQAUVHe3tnp1nLqGoXcUFvBE0k880gVI0UZZmY8AAAkk9K5nwD8dPgj8VvAU/xU%2BF3xj8K%2BJPC9sZhc%2BJNA8Q215YReSMy7riF2jXYOWy3yjrigDqq8Z8cf8pC/hf8A9kZ8ef8Ap28IV33wn%2BOHwW%2BPWgTeK/gZ8X/C/jTS7e6Ntcal4T8QW2o28UwVWMTSW7uquFZTtJzhge4rgfHH/KQv4X/9kZ8ef%2BnbwhQB5l%2B2H8FPjz8EfjqP%2BCh/7IulnxDq8GhxaX8S/hs6j/iptJhYustqwBZLyIH5RzvVQACQY5fNrPxj4oPiW/8A%2BCp3/BNpV8deGfGdvbR/GT4RNGIdQlntU2Ge3UZMWoQoxDwkHzQSy%2BZ5imvvyvln43/8E/PG%2Bg/FPVf2n/2CfjCfhr4%2B1d1m8R6Dd2/n%2BG/FMi55vLYDMUrZOZ4wWG5mC72Zz85mOW1oTdXD3ab5motKUZ/z076NvadN%2B7NbWe95BneacD5rVxmBoxxOGxCccThp/DVhJxcuXVNSvGMvdlGUakY1aUozUo1PZv2af2nvg3%2B1r8MLX4sfBTxSmoafM3lXlrKvl3WnXAA321zETmKVc8g8EYZSykMfQK/Kv4h%2BNdO8F/GuTx78Sv7b/Y/%2BP19KEuvE8UDXvgHx065Obh1DQkPyxZ8GPdudpHHH0Z8MP%2BCqUnw5l03wV/wUE%2BHqeArzUCqaN8SfD0jaj4O8Qg/dlt72Pf5G7rskJ2jlmXOAsFxDQf7vFtRktHLVR/7eT96m32mrX%2BGclY%2B3pcOZNxlCeL4JrvEW1ng5%2B7jaHVp0nyvEQjrapRTk4pOdGLuz7Ioql4d8SeHfGGh2vifwlr1lqmm30IlstQ066SeC4jPR0kQlXU%2BoJFXa%2BjTUldHw84TpTcJppp2aaaaa3TTSaa6ppNdUFFFFMkKKKKACiiigAooooAKKKKACiiigAooooAKKKKACiiigAooooAKKKKACiiigAooooAKKKKACiiigArxnxx/ykL%2BF/wD2Rnx5/wCnbwhXs1eM%2BOP%2BUhfwv/7Iz48/9O3hCgD2aiiigArjvjx8bPDX7P3w6l%2BInibSNT1TdqVjpmmaLokMcl7qmoXt1FaWlpAsskcfmSTzRrukdI0BLu6IrMOxry/9rf4N%2BM/jP8MLCx%2BGt5pkXibw14w0XxLoEetzyRWV1caffw3JtZ5Io5HiSaNJIfNWOQxGQSBJNmxgDNh/bY%2BGS/s76r%2B0Lq3hPxLp66Jr7eH9V8H3VnbtrEGt/wBoJp0embIp3gaaW6lhjjdZjA4njkEvltvrHuf2/fB8ehw2ll8DvHt545k8azeFZfhXappJ1y21KLTV1WRZHbUBYLGNPeG6837WUKXEKhjLIsZx/B37MHxXX4E/EXwP8XPhn4C8T6n8Rtc1DxNquijxnf2%2BnpqM9wnkWKXSaf58UcFvb2hXUEjE32hGkW3iwuPPvhl/wT7%2BOvwLnsvjx8MbLwjc/EOT4o6l4p1jwnr/AI/1e70yS1vNBt9FNr/bdzaXF9cTqljZXRuprYmSTz49kaOjRgH1f8Hvit4O%2BOnwr8PfGP4fXc02i%2BJtIg1HTWuYDFKscqBgkkbcxyLkq6HlWVlPINflD/wVK8crafsO%2BF/hWuoG3l1b9oz4r62hRsM39m%2BJPEJUe48y5j/HFfpb8Av2aIvhj%2ByV4d/Zp8a%2BKL29mstBW213V/Duq3ekyT3bsZbmW2mtpY7i2UzPIU2SB1QgFjyT%2BPX7YGiaX42%2BIfg/9lLSbnULm10nxf4z0/TZtQ1W4vbkXWpfFHU7bbJcXDvNNM1vasWkkdncElmJJNfM8X1ZU8gqxjvPlivm1/ketw3gaebcX5RgKnwVsZhYy6%2B5GvCtU07Knh5t%2BSd9D9lP2P8AwL/wrH9lD4afD1ofLk0bwHpNpOpGD5qWcQcn3L7ifc16NTYoo4IlhhjCIihUVRgADoBTq%2Bio0o0aMacdopL7kl%2BhzZljauZ5jXxlT4qs5zfrOcpv8ZsKKKK0OIKKKKACiiigAooooAKKKKACiiigAooooAKKKKACiiigAooooAKKKKACiiigAooooAKKKKACiiigAooooAKKKKACvGf2X/8Akt/7R3/ZZrH/ANQrwvXs1eM/sv8A/Jb/ANo7/ss1j/6hXhegD2aiiigAooooAKKKKACiiigAooooAKKKKACiiigAooooAKKKKACiiigDyL9vv4feNPit%2BxR8U/hx8PNGl1PWdZ8Daja2WkQOFfUy0DbrNSxCgzruhG4hf3nJAya84/Z38a6VN8UvjX8cZvhD4703wZ4vjsJdH0bVPhjq1rd6q%2BmaPHHfXBsJbVZkaRGt7OJJUR7k2JWFZFVCfqSigD5j/wCCeXiPUPjH4k%2BIf7UPjfwH4t8J%2BKfHEulx3PhDxL8P9W0P%2BwtKtI7hNPtGk1C1gW/vMS3ElzLAZI43mSFWaOKKSXVv9N%2BK9p/wU28F3njbxp4e1DQrj4PeOD4a07SvDE9nd2CDVvCXmLc3Ml7Ml2TlMFIbcLtOQ24bfoevGfHH/KQv4X/9kZ8ef%2BnbwhQB7NRRRQBmeMfBPg34ieHLrwf4/wDCem65pN6my80zV7GO5t519HjkBVh9RXyX8Q/%2BCPfgPSbfU5v2PfjV4h%2BFaarubUvCDxprfhbUGPJE%2BlXu6Ns4x12qDwnavseiuLF5dgscv30E2tns16SVmvS9u6Zx4nL8JiqsKs42qQ1jOLcZxe6cZwcZxaeuklqfkVrH7I//AAVE/YU1y58XfAPwRqFja%2BeZ7yf4Lap/aejX3ctN4c1E7/OccFoHVI%2BQijiu1%2BC3/Bw7P4N1cfD79tr4DXemalalIr3WPC0EsMkbtxiXTb7y5kIxlijuOflXtX6gVzHxN%2BCvwe%2BNWkf2D8X/AIWeHvFFntIW21/RobtUz3USq20%2B4wRXgrh7G4CXNluKcF/LNKcPu0t8kj6%2BXGXEuKpKlm7p5lFKyliotYhJaJLGYf2WIlZaL28cT6s4v9n39u79kT9qSCL/AIUh8etA1e8lXI0aS7%2Bzagvrm1nCTDHTO3HoTXrdfFvxd/4IG/8ABPD4mzyaj4Y8F694HvnbeLnwjr8iqr9iIrkTRoOnCKvtjrXP6P8A8E4f%2BClX7OVv5X7Jv/BTq91XT4iBa%2BGvihohvLdIx/yz89jcMi/9coo/brXXTxufYfTFYVTX81KSf/kk%2BV/dJnz%2BLx2Ak%2Balha1Py56dePykvYVLf4qbfrufeVFfElz%2B1R/wWQ%2BBq3Unxm/4J9%2BE/iRp9qAo1b4WeLjbPIP7621wZriUnrgRJ%2BFZQ/4L7/s9%2BCdSj8N/tH/s3/Fz4caq3Etvr3hdPLQ9wN0qSnH/AFyrV8Q5XS0rylSf9%2BEo/i04/wDkxw08YqqbVKrZb/uqrS0vq4wqJW6t2S6tH3hRXy14I/4LS/8ABM/x2ESx/aesNPmbG6HXNHvrLYfQvNCqfkxFeueD/wBsr9kX4gbB4I/ai%2BHuqu%2BMQ2PjGykkHsUEu4H2IzXbRzPLcR/Crwl6Sj/mY0c3ynEO1LEQb7Kcb/dzJ/gek0VDYajp%2Bq2q32l38NzC4%2BSa3lDq30IODU1dyaZ6KaaugooooAKKKKACiiigAooooAKKKKACiiigAooooAKKKKACiiigAooooAKKKKACvGfHH/KQv4X/APZGfHn/AKdvCFezV4z44/5SF/C//sjPjz/07eEKAPZqKKKACiiigAooooAK/D39n3Q734p/8Far3w9qcYmii/a58RPo/Gdsei6prmpXA/CS8jb8a/cKvyb/AOCbPw4muf8AgrH4me6tm/4lvj/4weNEd1%2B6Lrxdc6IuD7i0YgehJ7183xHReIjhafR1oX/r5M%2Bu4DwzlxTHH9MHh8bX9JRwdalTf/gzFRP1kooor6Q%2BRCiiigAooooAKKKKACiiigAooooAKKKKACiiigAooooAKKKKACiiigAooooAKKKKACiiigAooooAKKKKACiiigAooooAK8Z/Zf8A%2BS3/ALR3/ZZrH/1CvC9ezV4z%2By//AMlv/aO/7LNY/wDqFeF6APZqKKKACiiigAooooAKKKKACiiigAooooAKKKKACiiigAooooAKKKKACiiigArxnxx/ykL%2BF/8A2Rnx5/6dvCFezV4z44/5SF/C/wD7Iz48/wDTt4QoA9mooooAKKKKACiiigAooooAKp694d8P%2BKtLl0PxRoVnqVlMMTWd/apNFIPRkcEH8RVyik0mrMqE505qcG01qmm016NWa%2BTR86fFL/gkv/wTt%2BLryXPiL9lrw7p9y5LC78MrLpLq/wDexZvGpOefmBB75r578d/8G5P7Lt7cT6l8J/i/4r8P3M/Pl63Y2GtW6em1JoUk/OQn3r9D6K8jE8PZHi3eph4X7pWf3xsfTR4z4mcOTEYj28duXEQpYmNu1sTSru3kpI/Ju/8A%2BCAv7Qfw1uH1D4WeMPhh4pmBy13qsmu%2BHrqQD%2B6NPunhRvTjbUB/Y/8A%2BChHwm4vfhP%2B0LBbxdb/AOE/7T8EsPHYWV3btK49twr9a6K8x8H5XDWhKUPR3X42f4kvOOF8U/8Ab%2BHcBUb3dOjUwkvvweIoxv8A9w7eTPyV/wCFy/Hf4cjy/Gf7Tn7aHw78r79547%2BEVrrNovuJkY%2BYB67RW74O/bf8b6xKLbwr/wAF8vCVzIrbTZ%2BO/gLDpJjP915HVM/XNfqbWF4x%2BF3wy%2BIcRt/H/wAOtC12MjBTWNIhugR6YkU0f6vY2l/CxDfr7SP/AKRVa/AX1XwkxX8TK8Xh33w%2BY1JJf9uYmnP7uf5nxV4N%2BMv/AAUL8VbB8Lf%2BCin7KHjct9xZA4Z/Yi0mYg%2B1d5Frn/BcDTY1luPCn7MetxkZRtM1HXYC49cy5H9K77xl/wAEwP8Agnt483/27%2ByB4GiL/ebSdFTTyffNr5Zz71wkn/BFT9hjSpGn%2BGWj%2BNPBEhO4SeE/iDqUBU%2Bo82aQD8qP7OzqntJv0rzX4TpS/MP9VvCzEfwM4zLD%2BVSnRrL5ulVi/uiN/wCFz/8ABY7Sv%2BP/APYs%2BFmrY6/2X8Rng3fTzk4o/wCGrv8Agq1pn/IQ/wCCUGnagB95tN%2BOelR/iBJHmj/h11448Nnd8Lv%2BCln7Q%2BlY/wBXBrPjOPVYI/YRywrx7Zo/4Y//AOCm3hf5vBH/AAVZe/iX7tl4o%2BEWmz5%2Bs6OH/SjkziHxKv8AKdCf5xiH/EPeG63%2B6cXJf9fqFen/AO69dfjYP%2BG5f%2BCgNj/yHf8AgkZ4pjx1/s/4naVdfltUZo/4eJ/tSWf/ACGf%2BCU3xcTHX7Fe2Vz/AOgsM0v/AAhn/BbDwvzovxn/AGfvFAXp/wAJF4d1SyZx/wBupIBo/wCFpf8ABZvw3/yGv2WPgx4l29f%2BEd8b3Vnv%2Bn2tTj8aPb46PxVMQvWjTl/6Tf8AIP8AiFmbVP8AdeJMHU/7j0YP7quGo/ixP%2BHnXxUtf%2BQt/wAEvP2h0x1%2Bx%2BFYJ/5TDNH/AA9bv7Y41L/gmj%2B1VH6mD4TiUD8Rc0v/AA2T/wAFLNB48X/8ElbyaNetzoHxh0q63fSLYGH4mj/h5T8ctF/5Hb/glr8doMff/sLSrbU8fTy5FzR9eqR3xc4/4sO1/wC2h/xCLxFl/u%2BNoVf8FbLp/li4P8hP%2BHuHhWL/AI//ANg39p619ftHwhcY/Kc0v/D3/wCE8f8Ax%2Bfsm/tC2/r53wnnGPykNH/D3f4eaf8A8jj%2Bxl%2B0d4ex946z8JpUC/8AfErUf8PrP2GLD/kbdW8baBj739s/DzU02/XZC1H9pxW%2BYwXrSS/PlD/iDvjG/wCHh6k/8FCjU/8ATWJqfgJ/w%2BK%2BAyf8fH7PXxzi/wCunwsuh/JqP%2BHyH7Oa/wCs%2BCvxoT/e%2BF93WhpX/Bar/gmLrBC237U1lEc4K3nhzVIMH38y1Wul0r/gqn/wTr1jH2T9r3wYmen2rUTB/wCjFXFaQx/P8OY0n/27T/8Alhx4jwr8YsL/ABsFiY%2BuBq/omcV/w%2BT/AGaR1%2BEfxjH1%2BGF5S/8AD5P9mj/oknxj/wDDYXlerab/AMFA/wBhPV8Cx/bK%2BFxJ6JJ47sI2P4NKDW/pv7WH7LOsY/sj9pXwBdZ6fZvGVi%2Bf%2B%2BZTXRGpip/Djqb/AO3Yf/LTx63BniJhv41OrH1wVVfnFHhP/D5T9mfv8JfjF/4bC8o/4fLfswD7/wAL/i8vu3wxvf8ACvpLT/jD8JNWx/ZfxS8OXOen2fW7d8/k9bVjrWjamM6bq1tcZ6eROr/yNbxpZpL4cVB/9w4//LDy6uU8U0P4tfl9cO1%2BckfKf/D5v9lBf9d4F%2BK0f%2B/8M77/AOJo/wCH0f7HK/67RfiTH/v/AA31D/43X1rRV/V84/6CI/8Agr/7c5/qmf8A/QVD/wAEr/5YfJR/4LU/sSrxM3j6P/f%2BHOpf/GqP%2BH137DA%2B/qnjhf8Ae%2BHep/8AxmvrWij6vnP/AEEQ/wDBX/3QPqvEH/QVD/wT/wDdT5K/4fYfsI99f8Zj6/DzU/8A4zVT4KftsfAf9sT/AIKF%2BC/%2BFJajrNx/wjvwZ8Zf2n/a/h66sNv2jVvCvl7PPRfM/wBRJnbnGBnqK%2BwK8Z8cf8pC/hf/ANkZ8ef%2BnbwhWtCjmcaqdWtGUeqULP7%2Bd/kb4ahnEKydevCUeqVPlb%2BftJW18mezUUUV6B6gVx3x4%2BNnhr9n74dS/ETxNpGp6pu1Kx0zTNF0SGOS91TUL26itLS0gWWSOPzJJ5o13SOkaAl3dEVmHY15f%2B1v8G/Gfxn%2BGFhY/DW80yLxN4a8YaL4l0CPW55IrK6uNPv4bk2s8kUcjxJNGkkPmrHIYjIJAkmzYwBmf8NufC61/Zs179pXXvC/iPS7bwxqdxpOv%2BFb21t/7WstVhvBZmwZY52tzI07RqkgnMDLKkvm%2BW2%2Bub/4eMeC5bSHRrH4A/EO48ayeOLzwpJ8OUGjLqcN/a6YmqzFrh9SXTmjWylhl3JdsT5gQDzFdE5rUf2QP2jPE/7L/wASvhVr0vgq28RfE3xLP4m1uKDXLufTJZJdQhaTQZC1mkjWUum2sVnLeBRIxuJ3W2TCqfO5P%2BCZXxN/4QiDRr34CfA3VvCo%2BJ2o%2BJE/Zz1HU7geC9NtrjRrewjS3n/sl8yJdRXV/s/s9ITLqU%2BFWRFnYA%2Byvgt8WvB/x8%2BEHhb44fD6W5fQvGHh%2Bz1nR3vLYwym2uYVmj3oeVba4yOx7nrXwb/wSGtrjxj%2B31%2B1L40uojs8I%2BONb8OWUjdCtz4s12/kA%2Bjbc/UV9kfA39n7WPBX7JHhT9m74r%2BPdU1q%2B0jwhZ6RrOvaNrt9p9zPJFEqs0N3DMl1GAVwsnmiUqBuYksT81f8EPvhbZ%2BAtG/aQ1i1N68d1%2B1R4202zn1PUp725ltbHVJoo2luLh3mnfc8u6SR2diCzMSSa83HU3VxOGXRTcn8oSt%2BLPtOF8bTwOSZ1N/FPDQpR/7iYqhzffCm0/Jn3LRRRXpHxYUUUUAFFFFABRRRQAUUUUAFFFFABRRRQAUUUUAFFFFABRRRQAUUUUAFFFFABRRRQAUUUUAFFFFABRRRQAUUUUAFFFFABXjP7L//ACW/9o7/ALLNY/8AqFeF69mrxn9l/wD5Lf8AtHf9lmsf/UK8L0AezUUUUAFFFFABRRRQAUUUUAFFFFABRRRQAUUUUAFFFFABRRRQAUUUUAePf8FBz45H7DnxYPw3/tP%2B2P8AhAtT%2Bz/2Jv8At2z7O/m/ZvL%2Bfz/K8zy9nz79u35sV82fCLxL8PNO%2BGP7T3hr/gnJr/hqDw7qXhaZ/grYeBbq3WwuvEsXh3N4dJSE%2BW4SV9NMpgBVblpd%2BJTLX3pRQB8b/wDBMs/s%2BH4x%2BPf%2BGLTpH/Cp/wDhW/grzP8AhHNv2H/hKt%2Bs/wBpeZs4/tH7H/ZH2vd%2B93eT5n7zfXoN/qXxXu/%2BCm3guz8beC/D2n6Fb/B7xwPDWo6V4nnvLu/Q6t4S8xrm2ksoUtCMJgJNcBtxyV2jd9D184ftH6v8a9H/AG8PhPP8Dvh/4W8Rak3wj8drd2nivxhc6LBHB/anhIl0lt9PvWd920bDGowSd%2BQFIB9H0V4z/wAJx/wUL/6Nf%2BDP/h%2BNW/8AmXo/4Tj/AIKF/wDRr/wZ/wDD8at/8y9AHs1FeM/8Jx/wUL/6Nf8Agz/4fjVv/mXo/wCE4/4KF/8ARr/wZ/8AD8at/wDMvQB7NRXzjpP7R37dusfGfX/gdb/sofCRdU8O%2BF9I128uX%2BOuqeRJBqNzqVvCiEeGNxdW0ucsCoADx4LEsF6j/hOP%2BChf/Rr/AMGf/D8at/8AMvQB7NRXjP8AwnH/AAUL/wCjX/gz/wCH41b/AOZej/hOP%2BChf/Rr/wAGf/D8at/8y9AHs1FeM/8ACcf8FC/%2BjX/gz/4fjVv/AJl65fwD%2B0d%2B3b8RPFfjfwho/wCyh8JIbjwH4oi0LVZLn466oEnnk0rT9TDxbfDBJTydRhUlgp3o4xgBmAPo6ivGf%2BE4/wCChf8A0a/8Gf8Aw/Grf/MvR/wnH/BQv/o1/wCDP/h%2BNW/%2BZegD2aivGf8AhOP%2BChf/AEa/8Gf/AA/Grf8AzL0f8Jx/wUL/AOjX/gz/AOH41b/5l6APZqK%2BcfhF%2B0d%2B3b8ZfCl34v8ADn7KHwktrez8Ua3oUkd78ddUVzPpeq3WmTuNvhhhsaa0kZDnJRlJCnKjqP8AhOP%2BChf/AEa/8Gf/AA/Grf8AzL0AezUV4z/wnH/BQv8A6Nf%2BDP8A4fjVv/mXo/4Tj/goX/0a/wDBn/w/Grf/ADL0AezUV4z/AMJx/wAFC/8Ao1/4M/8Ah%2BNW/wDmXrl/gj%2B0d%2B3b8ePgx4Q%2BOPhX9lD4SWul%2BM/C%2Bn67pttqHx11RZ4YLu2juI0kCeGGUOFkAYKzDIOCRzQB9HUV4z/wnH/BQv8A6Nf%2BDP8A4fjVv/mXo/4Tj/goX/0a/wDBn/w/Grf/ADL0AezUV4z/AMJx/wAFC/8Ao1/4M/8Ah%2BNW/wDmXrl/jd%2B0d%2B3b8B/gx4v%2BOPir9lD4SXWl%2BDPC%2Boa7qVtp/wAddUaeaC0tpLiRIw/hhVLlYyFDMoyRkgc0AfR1FeM/8Jx/wUL/AOjX/gz/AOH41b/5l6P%2BE4/4KF/9Gv8AwZ/8Pxq3/wAy9AHrGq%2BF/DOvArrnh2xvQeou7RJP/Qga5rVP2cf2edcz/bfwH8GXmev2rwvaSZ/76jNcZ/wnH/BQv/o1/wCDP/h%2BNW/%2BZej/AITj/goX/wBGv/Bn/wAPxq3/AMy9Zzo0qnxRT9Un%2BaZ2YfMMwwn8CtOH%2BGc4/wDpM4mjqf7Cf7Ees5Oqfse/C6dj/HJ4B04t%2Bfk5rA1H/gmR/wAE%2BNUz9p/Y78ALn/n28PRQ/wDosCsX4u/tHft2/BrwpaeL/Ef7KHwkube88UaJoUcdl8ddUZxPqmq2umQOd3hhRsWa7jZznIRWIDHCnqP%2BE4/4KF/9Gv8AwZ/8Pxq3/wAy9c8suy%2BfxUYP/tyP/wAiexR4y4xw38LMsTH0xFf/AOXHKah/wSF/4Js6nn7T%2ByX4dXP/AD7zXMX/AKBKKxr7/giR/wAEvtQyZv2WrdCe8HirV4v/AEC7Feif8Jx/wUL/AOjX/gz/AOH41b/5l6P%2BE4/4KF/9Gv8AwZ/8Pxq3/wAy9YSyXJpb4an/AOAR/wAj1KXib4kUP4edYtemJrf/ACxnmP8Aw5E/4J02/wDyB/hPrun%2Bn2Lx7q64/wC%2Brk0f8OXv2N4P%2BQVqvxHsMdPsfxI1AY/76kNenf8ACcf8FC/%2BjX/gz/4fjVv/AJl65fx9%2B0d%2B3b8O/FfgjwhrH7KHwkmuPHniiXQtKktvjrqhSCePStQ1MvLu8MAhPJ06ZQVDHe6DGCWWP7CyXph4L0jb8mjo/wCIr%2BJj%2BLOMS/8AFVcv/SoyOa/4c6/s%2Bw/8gz47fG2y9PsvxRuxj8waP%2BHRPw7i/wCQd%2B2Z%2B0fZ%2Bn2b4tSjH5xGvTf%2BE4/4KF/9Gv8AwZ/8Pxq3/wAy9H/Ccf8ABQv/AKNf%2BDP/AIfjVv8A5l6P7Cyj/nyvvkvymg/4ip4iPfMpv1jRl/6Vh5HmP/Dpuyi/48P%2BCi/7Vdt6CH4wHH62xqn8Ff2Vbz9mT/goX4LW5/aY%2BKfxFXWvgz4y2D4meKhqZ0/ydW8K5%2BzkRp5fmeaN/Xd5UfTbz61/wnH/AAUL/wCjX/gz/wCH41b/AOZeqHgfwP8AtWeMf2rPDnxu%2BN3w4%2BHvhnRvDPw98Q6HDD4V%2BId9rV1d3WpX2iXCMyXGkWKRRomlygsHdi0qALjJG1DKsvw1VVKULSX96f5ObX4Hn5px9xfneBng8diuenO117PDq9mmvehhqc1qltNdndXT91ooor0D48KKKKACiiigArwb/gnZ4V0vwx8FfF02nBt%2Bq/Hn4lX12zY%2BaVvGesJ27BUUfhXvNfJX7JXiz9s7T/h74os/hj8A/hhq%2BhJ8afiL/Z%2Bo698XdR027mX/AITPWSxktotAuUiIbcABM%2BQAcgnaE4ptN9C41KkISgnpK113s7r7nqfWtFeM/wDCcf8ABQv/AKNf%2BDP/AIfjVv8A5l6P%2BE4/4KF/9Gv/AAZ/8Pxq3/zL0yD2aivGf%2BE4/wCChf8A0a/8Gf8Aw/Grf/MvR/wnH/BQv/o1/wCDP/h%2BNW/%2BZegD2aivnH4I/tHft2/Hj4MeEPjj4V/ZQ%2BElrpfjPwvp%2Bu6bbah8ddUWeGC7to7iNJAnhhlDhZAGCswyDgkc11H/AAnH/BQv/o1/4M/%2BH41b/wCZegD2aivGf%2BE4/wCChf8A0a/8Gf8Aw/Grf/MvR/wnH/BQv/o1/wCDP/h%2BNW/%2BZegD2aivnH43ftHft2/Af4MeL/jj4q/ZQ%2BEl1pfgzwvqGu6lbaf8ddUaeaC0tpLiRIw/hhVLlYyFDMoyRkgc11H/AAnH/BQv/o1/4M/%2BH41b/wCZegD2aivGf%2BE4/wCChf8A0a/8Gf8Aw/Grf/MvR/wnH/BQv/o1/wCDP/h%2BNW/%2BZegD2aivGf8AhOP%2BChf/AEa/8Gf/AA/Grf8AzL1y/wAXf2jv27fg14UtPF/iP9lD4SXNveeKNE0KOOy%2BOuqM4n1TVbXTIHO7wwo2LNdxs5zkIrEBjhSAfR1FeM/8Jx/wUL/6Nf8Agz/4fjVv/mXo/wCE4/4KF/8ARr/wZ/8AD8at/wDMvQB7NRXjP/Ccf8FC/wDo1/4M/wDh%2BNW/%2BZej/hOP%2BChf/Rr/AMGf/D8at/8AMvQB7NRXzj4%2B/aO/bt%2BHfivwR4Q1j9lD4STXHjzxRLoWlSW3x11QpBPHpWoamXl3eGAQnk6dMoKhjvdBjBLL1H/Ccf8ABQv/AKNf%2BDP/AIfjVv8A5l6APZqK8Z/4Tj/goX/0a/8ABn/w/Grf/MvR/wAJx/wUL/6Nf%2BDP/h%2BNW/8AmXoA9morxn/hOP8AgoX/ANGv/Bn/AMPxq3/zL1y%2BrftHft26P8Z9A%2BB1x%2Byh8JG1TxF4X1fXbO5T466p5EcGnXOm28yOT4Y3B2bVICoCkEJJkqQoYA%2BjqK8Z/wCE4/4KF/8ARr/wZ/8AD8at/wDMvR/wnH/BQv8A6Nf%2BDP8A4fjVv/mXoA9morxn/hOP%2BChf/Rr/AMGf/D8at/8AMvR/wnH/AAUL/wCjX/gz/wCH41b/AOZegD2aivnHSf2jv27dY%2BM%2Bv/A63/ZQ%2BEi6p4d8L6Rrt5cv8ddU8iSDUbnUreFEI8Mbi6tpc5YFQAHjwWJYL1H/AAnH/BQv/o1/4M/%2BH41b/wCZegD2aivGf%2BE4/wCChf8A0a/8Gf8Aw/Grf/MvR/wnH/BQv/o1/wCDP/h%2BNW/%2BZegD2aivGf8AhOP%2BChf/AEa/8Gf/AA/Grf8AzL1y/gH9o79u34ieK/G/hDR/2UPhJDceA/FEWharJc/HXVAk88mlafqYeLb4YJKeTqMKksFO9HGMAMwB9HUV4z/wnH/BQv8A6Nf%2BDP8A4fjVv/mXo/4Tj/goX/0a/wDBn/w/Grf/ADL0AezV4z%2By/wD8lv8A2jv%2ByzWP/qFeF6P%2BE4/4KF/9Gv8AwZ/8Pxq3/wAy9W/2Vvhz8afB%2BsfFDx38dNA8L6Tqnj74hRa5Z6V4T8S3OrW9raxaDo%2BmKr3FxZWbNI0mnSuVEW0LIg3Mc4APW6KKKACiiigAooooAKKKKACiiigAooooAKKKKACiiigAooooAKKKKACiiigAr5X/AGnv2tPi58MPjH4s1rwD4d8HyeGPg/4f8P3vjU61pFxNquqW%2Br38qXMFhcR3EaWXkW1nHcZkinFzIUjIh8vzT9UV4z8Z/wBiH4cfG74pH4ma5458VaXFqNrpFr4v8NaNdWqad4pg0u9kvbGK%2BWW3kmCxzTS5%2BzywGWOQxTGWMKgAPZqKKKACiiigD5j8OftK/EyH9v8A8UfB/wCI2seHvCfhtfEFpongyLUfhFrKXXjGAaBBqOIPEbXa6c0sd3c6gBaCF5PLtJgFBZpF%2BnK8r8WfstQeP/jJpHxT8e/G/wAa6vpXh7XY9a0DwBcHTItGsdQjt3gjnDQ2SXsuzzJJFSa6kjEj7tnyIF9UoAKKKKAPF/8AgoL8Xfjh%2Bz9%2ByP40%2BPXwCvfCkeseCdCu9cuoPGGi3N9bXdpa20sz26JbXVsySuyIokLlUBYlH4Fef%2BPP2tPi54L%2BPHi3U/Cnh3whF8PPCHxj8I/D7xlZzaRcHW9V1XXYNFSPUIbtLhYY44P7c0mMxSW8ryJDPiWPagr2H9rH9nGy/a0%2BBGvfs%2B618VfFPhHSfE9lLY65f%2BEF077Xc2UsTxTW26/tLqNEdX5ZEWQFRtdec8XB%2BwD4On%2BItn8RfFXxx8fa6x1nSdc8TaNqEulRWPifXNMSNLHVr2O2sImW4iEFphbZoIGNjbF4mMeSAe90UUUAFeL/ALZPxd%2BOHwStfAPjH4WXvhT%2BxtQ%2BJnhzw94vsfEGi3NzdXNrqus2Omg2csN1CltJGtzLJvkSdSURdnJNe0V5V%2B1d%2By2/7VXhvQvC8/x98b%2BBrfQvElhrqN4Lh0dnu72xvILyzaU6lp94NsVxbxuFjCBuVk3qdoAPOP2ef2lfiZrf7VXi34I/FDV/D3hPTofFOt2/gnwlJ8ItZ0y5162hdJTf2%2BtXF39g1B2Mk0ssVtAX5LsVwxP05Xkuk/soh/jJovxl%2BI/7QHjvxrN4Xu7y78J6F4hGkw2Gj3VzbyWslxEthp9tLK/2eaeFfPklVFnfaASCPWqACiiigDw/9u74ufHj9n74Nav8dfhR4x8C2On%2BFtFuby90XxZ4Zvb%2B58Q3uUWz0yzktr2D7PNcSkW6N5V0zSzxBYWPyt5/8Ef2vvjPrnxL8Ff2t4M8JaR8NPG/xP8AFHw28K%2BGtO0uaPV9Ev8AQIdW3zz3IuGt5oJG8P6miwx28RjVrY%2BZJlgPT/2lf2QYP2kvHngj4gTftA%2BO/CFz4Bu7m90Wx8MRaNPZyXsqCNbyaDU9OvEeeGPzFhkAUxieUj5myKvgP9hr4e%2BA/jLb/F2H4i%2BLtSg07XdT17RPCGpXNl/ZOla3qMbx6hqkCRWqT%2BfOJ7ssrzPCjX1yY4o/M4APa6KKKACvl/8Aa5%2BPH7S/wW%2BImn%2BFNKh8AeNdH8cw61baL8OYvB99JrCWtpod1dyX9xOL14rq2F1Fb20kItYgft8KCYyMiSfUFeHTfsTXEf7R/iv9prRP2q/iXp2r%2BLdNh0650uGDw/PaafZwwNHDbWbXOky3NvEsrvdbFm2vO5dw4O2gBn7CH7Qfjf49/D28uviv4%2B0a%2B8XacLNtf8N2Xwu1fwjeaA89ssogubLV7qe4cFt/l3ACRyKh2htpNe6V5v8AA79m7Tvgz4n8SfEPWPil4p8ceKvFcVjb6x4n8XNYLcvaWYm%2By2qRafa2ttHFG1zcuNsIZmuJCzNkY9IoAKKKKAPjn/goJ%2B3H8VP2MPHP9p65ougeMfCL6NqOt2/hWX4c6nZS26abo19qSSf8JFNdPpk939r00bLFYEuhHMsoG2FpG9e/Zo%2BLvxz1b4qeN/2ev2jrnwpqHifwjpOh61HrXgrSLmwsbmx1QXkaRGC5ubl1liuNOu1L%2BbiRDE2yMkqK3x1/YS8EftOa1dWvx/8Ai3418UeC7mS4kX4ZXkmmw6LFJNYzWTNvt7KO%2BkAjuJmCS3ToHfdt%2BRAvT/s%2BfszaR8A7zXvEV38UPFnjjxH4kNnHq3irxrcWb30ttaRGK1tR9jtreFYog8rDEe9nnld2dnJoA9KooooAK%2BI/2p/2yv2s/g38avEHwo8HeG/DnjXU7DRbjXfDAT4H%2BII5NFA1HTLVDC325x4mkFjqlx539l%2BU8LQlZRGJhHX25Xh%2BvfsW6n4l8en4na1%2B1z8UZtb0%2BC8i8G3hTQAPCq3U0Mk/2SMaTsnZo4Ft916t0yxM4Uq7s5AOq/ZY%2BLD/ABk%2BEcHiy9%2BJmjeKr%2BHUbqy1S%2B0bwZfeHRbXEUrK1rNpuoXE91ZzxjCvHM4fPzbVDAV6NXDfAP4C%2BHvgB4Z1PRtK8U634g1HX9euNb8SeJPEc0DXuq38wRGnlFvFDAmI4oYlSGKONUiQBRgk9zQAUUUUAFFFFABRRRQAUUUUAUfFHiGw8JeGtR8V6qHNrpljNd3IiXLeXGhdsDucKa%2Bc/wBib9pP41%2BP/FOj%2BDPjZ4e8GWY8dfC2y%2BI3hmHwZpVxaDTI7y4Ju9PuzNcSi7mje5tn%2B2IIBO0sxMEe0F/pa7tLW/tZbG9t0mhmjaOaKVQyupGCpB4II4xXkP7M37FfgL9mDVX1fQPiD4t8Sy23hix8M%2BHR4svbWYaBoVm8j2%2Bm2pt7eEtGpk%2BaWczXEgji8yZ/LXAB7FRRRQAVwv7UHjz4i/Cz9mj4ifE74P8AhRde8W%2BHPAur6p4W0NrGa6Go6jb2csttbGGBllmEkqInlxsHbdhSCQa7qs7xbol/4l8Mah4f0vxXqOhXN7aSQ2%2BtaQsDXVi7KQJohcRSxF1PIEkbpkfMrDIIB5d%2BxT8Wp/ih8M76y1b4heH9Z1Pw7qq6deaZonww1Pwc%2BhoLaCSKzuNK1S5nuYXCOJFdvLR4pYtiYG9/Yq88%2BA/7O2k/A688S%2BI7n4ieJPGPiTxfqMN54i8U%2BK3sxd3Rht0t4IhHY21tbRRRxoAqxwpks7MWZmY%2Bh0AFFFFAHy5%2B1R%2B1j8UP2cPi944sviVo3hLxF8L7D9nfxf49ttCt9EuE1V20QaWs9tcXMly9vNFOt9OAgtkKhEy75YV2/wCzP8X/AI%2Bap8XPGX7Ov7Sz%2BErzxR4Y8MeHvEseq%2BCtJubGykstWfUrdbYw3NzcuZYbjSLsGUSBZEeJvLjO5ag%2BMf7Cvh346fHVvjL48%2BO3jmXTZvBWp%2BEb74ewwaL/AGJd6NqS232%2B0kL6a16RO1pA7OLoOpQhGRGZD0n7O/7Luh/s%2B32teI5/ih4t8b%2BIdftbCyv/ABP42ubSS9NhYpItnZj7JbW8flRGe4cEoZHe5ld3dmzQB6fRRRQAV8ifGv8AaX/a28Ga7%2B0B4Et/CvgzxZe%2BAvD/AIU8SfDax0n4f6nfzrHqOq6lCEvLWK8eXUZ4F02OdTbC3JckKvyq1fXdeFy/sUeIYvjp42%2BP%2BhftofFbStW8b6RY6Zc2NlZ%2BGGtNNtrK4uZ7NLYS6K8n7o3l0oMzyl1nIk8wqhUA6v8AZU%2BLc3xl%2BFI8Taj8TtG8U6ja6rc2OrXWj%2BCL/wANmzuIm%2Ba1n0zUbie6tJ0UruSZgxDK21VYV6TXCfAP4B6B8AdC1mx0/wAW654j1XxN4gl1zxP4m8SS27Xuq38kMMHmyC2hhgjCwW9vCqRRRoqQoAuck93QAUUUUAfG37S37Xf7S37PHxmg%2BG2sp8M/Gt9rcEE3hGHTvC17aS%2BC7zUvEOmeHtIm1OV76YXUU7avOC0S2cjixuljDL5hi9x/ZV%2BL/wASPiMPH/w%2B%2BMR0SfxV8NPHjeGtZ1Xw1p01nYan5ml6dq1vcQ28088lvm11S3R42mlxJHJhiCMcLbf8E1fCTXXxDfxD%2B0v8TtZt/iTrx1zWLfUjoXmWepRXEM%2Bn3NtdRaWl0psHt7cWkbzSRRLCgZH5z6x8A/gLofwD8Patptl4v1zxJq3iLXpta8T%2BKPEr2xv9XvpI4ofOmFrBBAuyCC3gRIoo0WOCNQvBJAO6ooooAZc/afs0n2PZ52w%2BV5udu7HGcc4zXxB8Vv2uf20/hp8RNc%2BG1vbeA/GeveGL3w1b6t468EfBXX9Wj8OW%2BrNePe2EulWepT3dzNHDZWN0TFOn7u6haWBAYmk%2B3ruGS4tZbeG6kgeSNlWeIKXjJGAy7gVyOoyCPUGvnv4MfsBeIPgJ8Nrj4afDv9ur4xRR3WrPqc2s3ll4Tn1CW7leWS5nmmfQj9pkneXdJJOJHzGmwoBggHrPwE%2BIdl8Vvg74f%2BIVh8QNG8VJqeniR9f8P6TNYWl3ICVkKWs800tsVdWRoZJHeNlZWO5SB19cl8C/gv4S/Z9%2BF%2BnfCnwVc39xZWEt1cTX2q3Imur67urmW6urqZwqhpZrieaV9qqu6Q7VVcKOtoAKo%2BJ4fElz4b1C38G6nY2WryWUq6XeanYPdW0FwUIjklhjliaaNWwWRZIywBAdSdwvVm%2BMdBv/ABR4Wv8Aw7pfi3UtBuby1eKDWtHEBurFyOJohcRSxF1PIEkbocfMrDIoA%2BHvhv8At2fta/GD4p638EvhZpvw%2BTxnptrrt9J4z8V/C7WtDXVNM0i10WVLGXRLy%2BTUNPle78Q7EmnmePyoZLhIXWdAfsb4BfFrTfj58CfBXx10bTZbOz8a%2BEtN160s5n3PBFeWsdwsbEAZKiQAn1FeLav/AMEyPA%2Bta5ffEW7/AGlPimnxA1ZLy11r4k217pEOrX%2BmXVta202mFE00WcNsUsrRh5FtFKskCyrKHLMfoPwX4P8ADXw88HaT4A8GaTFp%2Bj6HpkGn6TYQ52W1tDGscUa55wqKqj6UAadFFFAHL/GnUfHGjfC3Wtb%2BHPiGx0vVrCzN1Dfah4PvfECJHGQ8oGnWM8FzeSNErqkUMgcuy4Vz8jfFvwl/4KI/H7xJ400PU/G9x4R8CeDNSnnXxB44vPgZ4imttYv4dfutIRLmVb6NPDM8lraWv7jVGklgeVY3zsCV9t/EzwZrvj3wlN4c8N/FLX/Bt5JLG8Wv%2BGYrF7uDawJVVv7a5gYMAVIeJuCcYOCPFbr/AIJzeFNQ8H3Hw21b9pD4m3fhjXNQmv8Ax5oE1xo4i8YXc9411cTX0q6aLiLzSywtHZy2sQhiSNUUbtwB9E0UUUAFFFFABRRRQAUUUUAFFFFABRRRQAUUUUAFFFFABRRRQAUUUUAFFFFABRRRQAUUUUAFFFFABRRRQAUUUUAFFFFABRRRQAUUUUAFFFFABRRRQAUUUUAFFFFABRRRQAUUUUAFFFFABRRRQAUUUUAFFFFABRRRQAUUUUAFFFFABRRRQAUUUUAFFFFABRRRQAUUUUAFFFFABRRRQAUUUUAFFFFABRRRQAUUUUAFFFFABRRRQAUUUUAFFFFABRRRQAUUUUAFFFFABRRRQAUUUUAFFFFABRRRQAUUUUAFFFFABRRRQAUUUUAFFFFABRRRQAUUUUAf/9k%3D\">"
            ]
          },
          "metadata": {
            "tags": []
          }
        }
      ]
    },
    {
      "cell_type": "markdown",
      "metadata": {
        "id": "7Aj_W0kv_bMj",
        "colab_type": "text"
      },
      "source": [
        "# Submit the MLP with 2 hidden layers\n",
        "Run these cells after training the MLP with 2 hidden layers"
      ]
    },
    {
      "cell_type": "code",
      "metadata": {
        "id": "PwDf5fPO_bMk",
        "colab_type": "code",
        "colab": {}
      },
      "source": [
        "## GRADED PART, DO NOT CHANGE!\n",
        "# Validation loss for MLP\n",
        "grader.set_answer(\"i8bgs\", s.run(loss, {input_X: X_val_flat, input_y: y_val_oh}))\n",
        "# Validation accuracy for MLP\n",
        "grader.set_answer(\"rE763\", accuracy_score(y_val, s.run(classes, {input_X: X_val_flat})))"
      ],
      "execution_count": 0,
      "outputs": []
    },
    {
      "cell_type": "code",
      "metadata": {
        "id": "j2Qdwcw__bMo",
        "colab_type": "code",
        "colab": {
          "base_uri": "https://localhost:8080/",
          "height": 35
        },
        "outputId": "c169afed-112e-472a-e4bf-2b73ec28348d"
      },
      "source": [
        "# you can make submission with answers so far to check yourself at this stage\n",
        "grader.submit(COURSERA_EMAIL, COURSERA_TOKEN)"
      ],
      "execution_count": 27,
      "outputs": [
        {
          "output_type": "stream",
          "text": [
            "Submitted to Coursera platform. See results on assignment page!\n"
          ],
          "name": "stdout"
        }
      ]
    },
    {
      "cell_type": "code",
      "metadata": {
        "id": "_xoK2Cqr_bMs",
        "colab_type": "code",
        "colab": {}
      },
      "source": [
        ""
      ],
      "execution_count": 0,
      "outputs": []
    }
  ]
}