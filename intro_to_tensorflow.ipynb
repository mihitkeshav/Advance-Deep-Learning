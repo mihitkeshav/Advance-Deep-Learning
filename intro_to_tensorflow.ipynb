{
  "nbformat": 4,
  "nbformat_minor": 0,
  "metadata": {
    "kernelspec": {
      "name": "python3",
      "display_name": "Python 3"
    },
    "language_info": {
      "codemirror_mode": {
        "name": "ipython",
        "version": 3
      },
      "file_extension": ".py",
      "mimetype": "text/x-python",
      "name": "python",
      "nbconvert_exporter": "python",
      "pygments_lexer": "ipython3",
      "version": "3.6.5"
    },
    "colab": {
      "name": "intro_to_tensorflow.ipynb",
      "provenance": [],
      "include_colab_link": true
    },
    "accelerator": "GPU"
  },
  "cells": [
    {
      "cell_type": "markdown",
      "metadata": {
        "id": "view-in-github",
        "colab_type": "text"
      },
      "source": [
        "<a href=\"https://colab.research.google.com/github/mihitkeshav/Advance-Deep-Learning/blob/master/intro_to_tensorflow.ipynb\" target=\"_parent\"><img src=\"https://colab.research.google.com/assets/colab-badge.svg\" alt=\"Open In Colab\"/></a>"
      ]
    },
    {
      "cell_type": "code",
      "metadata": {
        "id": "YmUQKQVUUPe6",
        "colab_type": "code",
        "colab": {}
      },
      "source": [
        "# set tf 1.x for colab\n",
        "%tensorflow_version 1.x"
      ],
      "execution_count": 0,
      "outputs": []
    },
    {
      "cell_type": "markdown",
      "metadata": {
        "id": "gDLVTKjfUPfH",
        "colab_type": "text"
      },
      "source": [
        "# Intro to TensorFlow\n",
        "\n",
        "This notebook covers the basics of TF and shows you an animation with gradient descent trajectory.\n",
        "<img src=\"https://github.com/hse-aml/intro-to-dl/blob/master/week2/v2/images/gradient_descent.png?raw=1\" style=\"width:50%\">"
      ]
    },
    {
      "cell_type": "markdown",
      "metadata": {
        "id": "X8bUveqrUPfJ",
        "colab_type": "text"
      },
      "source": [
        "# TensorBoard"
      ]
    },
    {
      "cell_type": "markdown",
      "metadata": {
        "id": "6SvesgnRUPfL",
        "colab_type": "text"
      },
      "source": [
        "**Plase note that if you are running on the Coursera platform, you won't be able to access the tensorboard instance due to the network setup there.**\n",
        "\n",
        "Run `tensorboard --logdir=./tensorboard_logs --port=7007` in bash.\n",
        "\n",
        "If you run the notebook locally, you should be able to access TensorBoard on http://127.0.0.1:7007/"
      ]
    },
    {
      "cell_type": "code",
      "metadata": {
        "id": "cslWCHFTXe3Y",
        "colab_type": "code",
        "colab": {}
      },
      "source": [
        "import keras\n",
        "from keras import backend as K\n",
        "import tensorflow as tf\n",
        "def reset_tf_session():\n",
        "    curr_session = tf.get_default_session()\n",
        "    # close current session\n",
        "    if curr_session is not None:\n",
        "        curr_session.close()\n",
        "    # reset graph\n",
        "    K.clear_session()\n",
        "    # create new session\n",
        "    config = tf.ConfigProto()\n",
        "    config.gpu_options.allow_growth = True\n",
        "    s = tf.InteractiveSession(config=config)\n",
        "    K.set_session(s)\n",
        "    return s"
      ],
      "execution_count": 0,
      "outputs": []
    },
    {
      "cell_type": "code",
      "metadata": {
        "id": "Xc01lJIxUPfO",
        "colab_type": "code",
        "colab": {
          "base_uri": "https://localhost:8080/",
          "height": 143
        },
        "outputId": "b2a9962e-f075-472d-8e05-3b912defca4c"
      },
      "source": [
        "import tensorflow as tf\n",
        "import sys\n",
        "sys.path.append(\"../..\")\n",
        "s = reset_tf_session()\n",
        "print(\"We're using TF\", tf.__version__)"
      ],
      "execution_count": 11,
      "outputs": [
        {
          "output_type": "stream",
          "text": [
            "WARNING:tensorflow:From /usr/local/lib/python3.6/dist-packages/keras/backend/tensorflow_backend.py:107: The name tf.reset_default_graph is deprecated. Please use tf.compat.v1.reset_default_graph instead.\n",
            "\n",
            "WARNING:tensorflow:From /usr/local/lib/python3.6/dist-packages/keras/backend/tensorflow_backend.py:111: The name tf.placeholder_with_default is deprecated. Please use tf.compat.v1.placeholder_with_default instead.\n",
            "\n",
            "WARNING:tensorflow:From /usr/local/lib/python3.6/dist-packages/keras/backend/tensorflow_backend.py:66: The name tf.get_default_graph is deprecated. Please use tf.compat.v1.get_default_graph instead.\n",
            "\n",
            "We're using TF 1.15.0\n"
          ],
          "name": "stdout"
        }
      ]
    },
    {
      "cell_type": "markdown",
      "metadata": {
        "id": "0rAL9BPYUPfV",
        "colab_type": "text"
      },
      "source": [
        "# Warming up\n",
        "For starters, let's implement a python function that computes the sum of squares of numbers from 0 to N-1."
      ]
    },
    {
      "cell_type": "code",
      "metadata": {
        "id": "lMYapr1YUPfX",
        "colab_type": "code",
        "colab": {}
      },
      "source": [
        "import numpy as np\n",
        "\n",
        "def sum_python(N):\n",
        "    return np.sum(np.arange(N)**2)"
      ],
      "execution_count": 0,
      "outputs": []
    },
    {
      "cell_type": "code",
      "metadata": {
        "id": "AZYn9GJsUPfd",
        "colab_type": "code",
        "colab": {
          "base_uri": "https://localhost:8080/",
          "height": 71
        },
        "outputId": "0a294bce-23c1-4b0e-81f0-c717a8a49484"
      },
      "source": [
        "%%time\n",
        "sum_python(10**5)"
      ],
      "execution_count": 13,
      "outputs": [
        {
          "output_type": "stream",
          "text": [
            "CPU times: user 1.27 ms, sys: 57 µs, total: 1.33 ms\n",
            "Wall time: 8.02 ms\n"
          ],
          "name": "stdout"
        },
        {
          "output_type": "execute_result",
          "data": {
            "text/plain": [
              "333328333350000"
            ]
          },
          "metadata": {
            "tags": []
          },
          "execution_count": 13
        }
      ]
    },
    {
      "cell_type": "markdown",
      "metadata": {
        "id": "KB9E9786UPfm",
        "colab_type": "text"
      },
      "source": [
        "# Tensoflow teaser\n",
        "\n",
        "Doing the very same thing"
      ]
    },
    {
      "cell_type": "code",
      "metadata": {
        "id": "-bENa5LiUPfn",
        "colab_type": "code",
        "colab": {}
      },
      "source": [
        "# An integer parameter\n",
        "N = tf.placeholder('int64', name=\"input_to_your_function\")\n",
        "\n",
        "# A recipe on how to produce the same result\n",
        "result = tf.reduce_sum(tf.range(N)**2)"
      ],
      "execution_count": 0,
      "outputs": []
    },
    {
      "cell_type": "code",
      "metadata": {
        "id": "9Pt-YxC9UPfw",
        "colab_type": "code",
        "colab": {
          "base_uri": "https://localhost:8080/",
          "height": 35
        },
        "outputId": "ae6f3def-a2e1-4f63-d8f0-feb92c3cc5f4"
      },
      "source": [
        "# just a graph definition\n",
        "result"
      ],
      "execution_count": 15,
      "outputs": [
        {
          "output_type": "execute_result",
          "data": {
            "text/plain": [
              "<tf.Tensor 'Sum:0' shape=() dtype=int64>"
            ]
          },
          "metadata": {
            "tags": []
          },
          "execution_count": 15
        }
      ]
    },
    {
      "cell_type": "code",
      "metadata": {
        "id": "etMCcGPxUPf3",
        "colab_type": "code",
        "colab": {
          "base_uri": "https://localhost:8080/",
          "height": 71
        },
        "outputId": "85064cf3-5e30-46b4-9a09-0d252e48123e"
      },
      "source": [
        "%%time\n",
        "# actually executing\n",
        "result.eval({N: 10**5})"
      ],
      "execution_count": 16,
      "outputs": [
        {
          "output_type": "stream",
          "text": [
            "CPU times: user 417 ms, sys: 211 ms, total: 628 ms\n",
            "Wall time: 6.16 s\n"
          ],
          "name": "stdout"
        },
        {
          "output_type": "execute_result",
          "data": {
            "text/plain": [
              "333328333350000"
            ]
          },
          "metadata": {
            "tags": []
          },
          "execution_count": 16
        }
      ]
    },
    {
      "cell_type": "code",
      "metadata": {
        "id": "R6vh-nxmUPf9",
        "colab_type": "code",
        "colab": {}
      },
      "source": [
        "# logger for tensorboard\n",
        "writer = tf.summary.FileWriter(\"tensorboard_logs\", graph=s.graph)"
      ],
      "execution_count": 0,
      "outputs": []
    },
    {
      "cell_type": "markdown",
      "metadata": {
        "id": "iGETqI1pUPgD",
        "colab_type": "text"
      },
      "source": [
        "# How does it work?\n",
        "1. Define placeholders where you'll send inputs\n",
        "2. Make a symbolic graph: a recipe for mathematical transformation of those placeholders\n",
        "3. Compute outputs of your graph with particular values for each placeholder\n",
        "  * `output.eval({placeholder: value})`\n",
        "  * `s.run(output, {placeholder: value})`\n",
        "\n",
        "So far there are two main entities: \"placeholder\" and \"transformation\" (operation output)\n",
        "* Both can be numbers, vectors, matrices, tensors, etc.\n",
        "* Both can be int32/64, floats, booleans (uint8) of various size.\n",
        "\n",
        "* You can define new transformations as an arbitrary operation on placeholders and other transformations\n",
        " * `tf.reduce_sum(tf.arange(N)**2)` are 3 sequential transformations of placeholder `N`\n",
        " * There's a tensorflow symbolic version for every numpy function\n",
        "   * `a+b, a/b, a**b, ...` behave just like in numpy\n",
        "   * `np.mean` -> `tf.reduce_mean`\n",
        "   * `np.arange` -> `tf.range`\n",
        "   * `np.cumsum` -> `tf.cumsum`\n",
        "   * If you can't find the operation you need, see the [docs](https://www.tensorflow.org/versions/r1.3/api_docs/python).\n",
        "   \n",
        "`tf.contrib` has many high-level features, may be worth a look."
      ]
    },
    {
      "cell_type": "code",
      "metadata": {
        "id": "KjQhe6HyUPgF",
        "colab_type": "code",
        "colab": {}
      },
      "source": [
        "with tf.name_scope(\"Placeholders_examples\"):\n",
        "    # Default placeholder that can be arbitrary float32\n",
        "    # scalar, vertor, matrix, etc.\n",
        "    arbitrary_input = tf.placeholder('float32')\n",
        "\n",
        "    # Input vector of arbitrary length\n",
        "    input_vector = tf.placeholder('float32', shape=(None,))\n",
        "\n",
        "    # Input vector that _must_ have 10 elements and integer type\n",
        "    fixed_vector = tf.placeholder('int32', shape=(10,))\n",
        "\n",
        "    # Matrix of arbitrary n_rows and 15 columns\n",
        "    # (e.g. a minibatch of your data table)\n",
        "    input_matrix = tf.placeholder('float32', shape=(None, 15))\n",
        "    \n",
        "    # You can generally use None whenever you don't need a specific shape\n",
        "    input1 = tf.placeholder('float64', shape=(None, 100, None))\n",
        "    input2 = tf.placeholder('int32', shape=(None, None, 3, 224, 224))\n",
        "\n",
        "    # elementwise multiplication\n",
        "    double_the_vector = input_vector*2\n",
        "\n",
        "    # elementwise cosine\n",
        "    elementwise_cosine = tf.cos(input_vector)\n",
        "\n",
        "    # difference between squared vector and vector itself plus one\n",
        "    vector_squares = input_vector**2 - input_vector + 1"
      ],
      "execution_count": 0,
      "outputs": []
    },
    {
      "cell_type": "code",
      "metadata": {
        "id": "aC_Z5pn8UPgK",
        "colab_type": "code",
        "colab": {}
      },
      "source": [
        "my_vector =  tf.placeholder('float32', shape=(None,), name=\"VECTOR_1\")\n",
        "my_vector2 = tf.placeholder('float32', shape=(None,))\n",
        "my_transformation = my_vector * my_vector2 / (tf.sin(my_vector) + 1)"
      ],
      "execution_count": 0,
      "outputs": []
    },
    {
      "cell_type": "code",
      "metadata": {
        "id": "PaK3Ye57UPgQ",
        "colab_type": "code",
        "colab": {
          "base_uri": "https://localhost:8080/",
          "height": 35
        },
        "outputId": "cdc6fd76-63d6-4e50-9a0b-410df023c2ac"
      },
      "source": [
        "print(my_transformation)"
      ],
      "execution_count": 20,
      "outputs": [
        {
          "output_type": "stream",
          "text": [
            "Tensor(\"truediv:0\", shape=(?,), dtype=float32)\n"
          ],
          "name": "stdout"
        }
      ]
    },
    {
      "cell_type": "code",
      "metadata": {
        "id": "Mxmr-Tp-UPgW",
        "colab_type": "code",
        "colab": {
          "base_uri": "https://localhost:8080/",
          "height": 71
        },
        "outputId": "6c95cfa1-1ef6-48a0-e63c-882291dad44e"
      },
      "source": [
        "dummy = np.arange(5).astype('float32')\n",
        "print(dummy)\n",
        "my_transformation.eval({my_vector: dummy, my_vector2: dummy[::-1]})"
      ],
      "execution_count": 21,
      "outputs": [
        {
          "output_type": "stream",
          "text": [
            "[0. 1. 2. 3. 4.]\n"
          ],
          "name": "stdout"
        },
        {
          "output_type": "execute_result",
          "data": {
            "text/plain": [
              "array([0.       , 1.6291324, 2.0950115, 2.6289961, 0.       ],\n",
              "      dtype=float32)"
            ]
          },
          "metadata": {
            "tags": []
          },
          "execution_count": 21
        }
      ]
    },
    {
      "cell_type": "code",
      "metadata": {
        "id": "oDfYiyUcUPgb",
        "colab_type": "code",
        "colab": {}
      },
      "source": [
        "writer.add_graph(my_transformation.graph)\n",
        "writer.flush()"
      ],
      "execution_count": 0,
      "outputs": []
    },
    {
      "cell_type": "markdown",
      "metadata": {
        "id": "VQnndeRdUPgi",
        "colab_type": "text"
      },
      "source": [
        "TensorBoard allows writing scalars, images, audio, histogram. You can read more on tensorboard usage [here](https://www.tensorflow.org/get_started/graph_viz)."
      ]
    },
    {
      "cell_type": "markdown",
      "metadata": {
        "id": "phAR_qvYUPgl",
        "colab_type": "text"
      },
      "source": [
        "# Summary\n",
        "* Tensorflow is based on computation graphs\n",
        "* A graph consists of placeholders and transformations"
      ]
    },
    {
      "cell_type": "markdown",
      "metadata": {
        "id": "XqQHISrHUPgo",
        "colab_type": "text"
      },
      "source": [
        "# Loss function: Mean Squared Error\n",
        "\n",
        "Loss function must be a part of the graph as well, so that we can do backpropagation."
      ]
    },
    {
      "cell_type": "code",
      "metadata": {
        "id": "CEIuXyQiUPgp",
        "colab_type": "code",
        "colab": {}
      },
      "source": [
        "with tf.name_scope(\"MSE\"):\n",
        "    y_true = tf.placeholder(\"float32\", shape=(None,), name=\"y_true\")\n",
        "    y_predicted = tf.placeholder(\"float32\", shape=(None,), name=\"y_predicted\")\n",
        "    # Implement MSE(y_true, y_predicted), use tf.reduce_mean(...)\n",
        "    mse = tf.reduce_mean((y_true-y_predicted)**2)\n",
        "\n",
        "def compute_mse(vector1, vector2):\n",
        "    return mse.eval({y_true: vector1, y_predicted: vector2})"
      ],
      "execution_count": 0,
      "outputs": []
    },
    {
      "cell_type": "code",
      "metadata": {
        "id": "b9fUnThVUPgv",
        "colab_type": "code",
        "colab": {}
      },
      "source": [
        "writer.add_graph(mse.graph)\n",
        "writer.flush()"
      ],
      "execution_count": 0,
      "outputs": []
    },
    {
      "cell_type": "code",
      "metadata": {
        "id": "b70n0pnNUPg0",
        "colab_type": "code",
        "colab": {}
      },
      "source": [
        "# Rigorous local testing of MSE implementation\n",
        "import sklearn.metrics\n",
        "for n in [1, 5, 10, 10**3]:\n",
        "    elems = [np.arange(n), np.arange(n, 0, -1), np.zeros(n),\n",
        "             np.ones(n), np.random.random(n), np.random.randint(100, size=n)]\n",
        "    for el in elems:\n",
        "        for el_2 in elems:\n",
        "            true_mse = np.array(sklearn.metrics.mean_squared_error(el, el_2))\n",
        "            my_mse = compute_mse(el, el_2)\n",
        "            if not np.allclose(true_mse, my_mse):\n",
        "                print('mse(%s,%s)' % (el, el_2))\n",
        "                print(\"should be: %f, but your function returned %f\" % (true_mse, my_mse))\n",
        "                raise ValueError('Wrong result')"
      ],
      "execution_count": 0,
      "outputs": []
    },
    {
      "cell_type": "markdown",
      "metadata": {
        "id": "D1eEIYMOUPg6",
        "colab_type": "text"
      },
      "source": [
        "# Variables\n",
        "\n",
        "Placeholder and transformation values are not stored in the graph once the execution is finished. This isn't too comfortable if you want your model to have parameters (e.g. network weights) that are always present, but can change their value over time.\n",
        "\n",
        "Tensorflow solves this with `tf.Variable` objects.\n",
        "* You can assign variable a value at any time in your graph\n",
        "* Unlike placeholders, there's no need to explicitly pass values to variables when `s.run(...)`-ing\n",
        "* You can use variables the same way you use transformations \n",
        " "
      ]
    },
    {
      "cell_type": "code",
      "metadata": {
        "id": "DRbEZd2mUPg8",
        "colab_type": "code",
        "colab": {}
      },
      "source": [
        "# Creating a shared variable\n",
        "shared_vector_1 = tf.Variable(initial_value=np.ones(5),\n",
        "                              name=\"example_variable\")"
      ],
      "execution_count": 0,
      "outputs": []
    },
    {
      "cell_type": "code",
      "metadata": {
        "id": "YLeI1VSQUPhD",
        "colab_type": "code",
        "colab": {
          "base_uri": "https://localhost:8080/",
          "height": 35
        },
        "outputId": "506f91f4-cb44-4a12-af21-b00978c1147e"
      },
      "source": [
        "# Initialize variable(s) with initial values\n",
        "s.run(tf.global_variables_initializer())\n",
        "\n",
        "# Evaluating the shared variable\n",
        "print(\"Initial value\", s.run(shared_vector_1))"
      ],
      "execution_count": 32,
      "outputs": [
        {
          "output_type": "stream",
          "text": [
            "Initial value [1. 1. 1. 1. 1.]\n"
          ],
          "name": "stdout"
        }
      ]
    },
    {
      "cell_type": "code",
      "metadata": {
        "id": "YL0wDpgjUPhI",
        "colab_type": "code",
        "colab": {
          "base_uri": "https://localhost:8080/",
          "height": 35
        },
        "outputId": "fbdbc2f9-0191-4a9d-a504-5353f3ad80fa"
      },
      "source": [
        "# Setting a new value\n",
        "s.run(shared_vector_1.assign(np.arange(5)))\n",
        "\n",
        "# Getting that new value\n",
        "print(\"New value\", s.run(shared_vector_1))"
      ],
      "execution_count": 33,
      "outputs": [
        {
          "output_type": "stream",
          "text": [
            "New value [0. 1. 2. 3. 4.]\n"
          ],
          "name": "stdout"
        }
      ]
    },
    {
      "cell_type": "markdown",
      "metadata": {
        "id": "3irjaXqUUPhN",
        "colab_type": "text"
      },
      "source": [
        "# tf.gradients - why graphs matter\n",
        "* Tensorflow can compute derivatives and gradients automatically using the computation graph\n",
        "* True to its name it can manage matrix derivatives\n",
        "* Gradients are computed as a product of elementary derivatives via the chain rule:\n",
        "\n",
        "$$ {\\partial f(g(x)) \\over \\partial x} = {\\partial f(g(x)) \\over \\partial g(x)}\\cdot {\\partial g(x) \\over \\partial x} $$\n",
        "\n",
        "It can get you the derivative of any graph as long as it knows how to differentiate elementary operations"
      ]
    },
    {
      "cell_type": "code",
      "metadata": {
        "id": "B4nYemCrUPhP",
        "colab_type": "code",
        "colab": {
          "base_uri": "https://localhost:8080/",
          "height": 71
        },
        "outputId": "792830cd-3a7b-40bf-c861-f776e7e323a0"
      },
      "source": [
        "my_scalar = tf.placeholder('float32')\n",
        "\n",
        "scalar_squared = my_scalar**2\n",
        "\n",
        "# A derivative of scalar_squared by my_scalar\n",
        "derivative = tf.gradients(scalar_squared, [my_scalar, ])"
      ],
      "execution_count": 34,
      "outputs": [
        {
          "output_type": "stream",
          "text": [
            "WARNING:tensorflow:From /tensorflow-1.15.0/python3.6/tensorflow_core/python/ops/math_grad.py:1375: where (from tensorflow.python.ops.array_ops) is deprecated and will be removed in a future version.\n",
            "Instructions for updating:\n",
            "Use tf.where in 2.0, which has the same broadcast rule as np.where\n"
          ],
          "name": "stdout"
        }
      ]
    },
    {
      "cell_type": "code",
      "metadata": {
        "id": "UfC5TSv_UPhT",
        "colab_type": "code",
        "colab": {
          "base_uri": "https://localhost:8080/",
          "height": 35
        },
        "outputId": "aa56bdfd-adef-4de9-e386-9ec0ee892d0e"
      },
      "source": [
        "derivative"
      ],
      "execution_count": 35,
      "outputs": [
        {
          "output_type": "execute_result",
          "data": {
            "text/plain": [
              "[<tf.Tensor 'gradients/pow_1_grad/Reshape:0' shape=<unknown> dtype=float32>]"
            ]
          },
          "metadata": {
            "tags": []
          },
          "execution_count": 35
        }
      ]
    },
    {
      "cell_type": "code",
      "metadata": {
        "id": "Y3JPYBhCUPhX",
        "colab_type": "code",
        "colab": {
          "base_uri": "https://localhost:8080/",
          "height": 265
        },
        "outputId": "a42df947-55e4-4c90-e5a8-1839acfbac67"
      },
      "source": [
        "import matplotlib.pyplot as plt\n",
        "%matplotlib inline\n",
        "\n",
        "x = np.linspace(-3, 3)\n",
        "x_squared, x_squared_der = s.run([scalar_squared, derivative[0]],\n",
        "                                 {my_scalar:x})\n",
        "\n",
        "plt.plot(x, x_squared,label=\"$x^2$\")\n",
        "plt.plot(x, x_squared_der, label=r\"$\\frac{dx^2}{dx}$\")\n",
        "plt.legend();"
      ],
      "execution_count": 36,
      "outputs": [
        {
          "output_type": "display_data",
          "data": {
            "image/png": "[encoded data removed]",
            "text/plain": [
              "<Figure size 432x288 with 1 Axes>"
            ]
          },
          "metadata": {
            "tags": []
          }
        }
      ]
    },
    {
      "cell_type": "markdown",
      "metadata": {
        "id": "RUb0f_otUPhb",
        "colab_type": "text"
      },
      "source": [
        "# Why that rocks"
      ]
    },
    {
      "cell_type": "code",
      "metadata": {
        "id": "I6mqmRZ3UPhd",
        "colab_type": "code",
        "colab": {}
      },
      "source": [
        "my_vector = tf.placeholder('float32', [None])\n",
        "# Compute the gradient of the next weird function over my_scalar and my_vector\n",
        "# Warning! Trying to understand the meaning of that function may result in permanent brain damage\n",
        "weird_psychotic_function = tf.reduce_mean(\n",
        "    (my_vector+my_scalar)**(1+tf.nn.moments(my_vector,[0])[1]) + \n",
        "    1./ tf.atan(my_scalar))/(my_scalar**2 + 1) + 0.01*tf.sin(\n",
        "    2*my_scalar**1.5)*(tf.reduce_sum(my_vector)* my_scalar**2\n",
        "                      )*tf.exp((my_scalar-4)**2)/(\n",
        "    1+tf.exp((my_scalar-4)**2))*(1.-(tf.exp(-(my_scalar-4)**2)\n",
        "                                    )/(1+tf.exp(-(my_scalar-4)**2)))**2\n",
        "\n",
        "der_by_scalar = tf.gradients(weird_psychotic_function, my_scalar)\n",
        "der_by_vector = tf.gradients(weird_psychotic_function, my_vector)"
      ],
      "execution_count": 0,
      "outputs": []
    },
    {
      "cell_type": "code",
      "metadata": {
        "id": "8o_RQjNPUPhh",
        "colab_type": "code",
        "colab": {
          "base_uri": "https://localhost:8080/",
          "height": 265
        },
        "outputId": "dac6936e-d02a-4fd6-c3dc-efbd455ece19"
      },
      "source": [
        "# Plotting the derivative\n",
        "scalar_space = np.linspace(1, 7, 100)\n",
        "\n",
        "y = [s.run(weird_psychotic_function, {my_scalar:x, my_vector:[1, 2, 3]})\n",
        "     for x in scalar_space]\n",
        "\n",
        "plt.plot(scalar_space, y, label='function')\n",
        "\n",
        "y_der_by_scalar = [s.run(der_by_scalar,\n",
        "                         {my_scalar:x, my_vector:[1, 2, 3]})\n",
        "                   for x in scalar_space]\n",
        "\n",
        "plt.plot(scalar_space, y_der_by_scalar, label='derivative')\n",
        "plt.grid()\n",
        "plt.legend();"
      ],
      "execution_count": 39,
      "outputs": [
        {
          "output_type": "display_data",
          "data": {
            "image/png": "[encoded data removed]",
            "text/plain": [
              "<Figure size 432x288 with 1 Axes>"
            ]
          },
          "metadata": {
            "tags": []
          }
        }
      ]
    },
    {
      "cell_type": "markdown",
      "metadata": {
        "id": "WboPhrwsUPhm",
        "colab_type": "text"
      },
      "source": [
        "# Almost done - optimizers\n",
        "\n",
        "While you can perform gradient descent by hand with automatic gradients from above, tensorflow also has some optimization methods implemented for you. Recall momentum & rmsprop?"
      ]
    },
    {
      "cell_type": "code",
      "metadata": {
        "id": "ttiA3_3LUPho",
        "colab_type": "code",
        "colab": {}
      },
      "source": [
        "y_guess = tf.Variable(np.zeros(2, dtype='float32'))\n",
        "y_true = tf.range(1, 3, dtype='float32')\n",
        "\n",
        "loss = tf.reduce_mean((y_guess - y_true + 0.5*tf.random_normal([2]))**2) \n",
        "\n",
        "step = tf.train.MomentumOptimizer(0.03, 0.5).minimize(loss, var_list=y_guess)"
      ],
      "execution_count": 0,
      "outputs": []
    },
    {
      "cell_type": "markdown",
      "metadata": {
        "id": "oQZvdmh3UPhs",
        "colab_type": "text"
      },
      "source": [
        "Let's draw a trajectory of a gradient descent in 2D"
      ]
    },
    {
      "cell_type": "code",
      "metadata": {
        "id": "tnyJy_CEUPhu",
        "colab_type": "code",
        "colab": {
          "base_uri": "https://localhost:8080/",
          "height": 269
        },
        "outputId": "240e22da-0aa8-4c49-ae5d-6679a2d8ac47"
      },
      "source": [
        "from matplotlib import animation, rc\n",
        "from IPython.display import HTML, display_html\n",
        "\n",
        "# nice figure settings\n",
        "fig, ax = plt.subplots()\n",
        "y_true_value = s.run(y_true)\n",
        "level_x = np.arange(0, 2, 0.02)\n",
        "level_y = np.arange(0, 3, 0.02)\n",
        "X, Y = np.meshgrid(level_x, level_y)\n",
        "Z = (X - y_true_value[0])**2 + (Y - y_true_value[1])**2\n",
        "ax.set_xlim(-0.02, 2)\n",
        "ax.set_ylim(-0.02, 3)\n",
        "s.run(tf.global_variables_initializer())\n",
        "ax.scatter(*s.run(y_true), c='red')\n",
        "contour = ax.contour(X, Y, Z, 10)\n",
        "ax.clabel(contour, inline=1, fontsize=10)\n",
        "line, = ax.plot([], [], lw=2)\n",
        "\n",
        "# start animation with empty trajectory\n",
        "def init():\n",
        "    line.set_data([], [])\n",
        "    return (line,)\n",
        "\n",
        "trajectory = [s.run(y_guess)]\n",
        "\n",
        "# one animation step (make one GD step)\n",
        "def animate(i):\n",
        "    s.run(step)\n",
        "    trajectory.append(s.run(y_guess))\n",
        "    line.set_data(*zip(*trajectory))\n",
        "    return (line,)\n",
        "\n",
        "anim = animation.FuncAnimation(fig, animate, init_func=init,\n",
        "                               frames=100, interval=20, blit=True)"
      ],
      "execution_count": 45,
      "outputs": [
        {
          "output_type": "display_data",
          "data": {
            "image/png": "[encoded data removed]",
            "text/plain": [
              "<Figure size 432x288 with 1 Axes>"
            ]
          },
          "metadata": {
            "tags": []
          }
        }
      ]
    },
    {
      "cell_type": "code",
      "metadata": {
        "id": "DgL2pHxgUPhy",
        "colab_type": "code",
        "colab": {
          "base_uri": "https://localhost:8080/",
          "height": 308
        },
        "outputId": "032e8f60-d2f0-4e8e-8082-a5592145fa31"
      },
      "source": [
        "try:\n",
        "    display_html(HTML(anim.to_html5_video()))\n",
        "except (RuntimeError, KeyError):\n",
        "    # In case the build-in renderers are unaviable, fall back to\n",
        "    # a custom one, that doesn't require external libraries\n",
        "    anim.save(None, writer=matplotlib_utils.SimpleMovieWriter(0.001))"
      ],
      "execution_count": 44,
      "outputs": [
        {
          "output_type": "display_data",
          "data": {
            "text/html": [
              "<video width=\"432\" height=\"288\" controls autoplay loop>\n",
              "  <source type=\"video/mp4\" src=\"data:video/mp4;base64,AAAAHGZ0eXBNNFYgAAACAGlzb21pc28yYXZjMQAAAAhmcmVlAABPWW1kYXQAAAKuBgX//6rcRem9\n",
              "5tlIt5Ys2CDZI+7veDI2NCAtIGNvcmUgMTUyIHIyODU0IGU5YTU5MDMgLSBILjI2NC9NUEVHLTQg\n",
              "QVZDIGNvZGVjIC0gQ29weWxlZnQgMjAwMy0yMDE3IC0gaHR0cDovL3d3dy52aWRlb2xhbi5vcmcv\n",
              "eDI2NC5odG1sIC0gb3B0aW9uczogY2FiYWM9MSByZWY9MyBkZWJsb2NrPTE6MDowIGFuYWx5c2U9\n",
              "MHgzOjB4MTEzIG1lPWhleCBzdWJtZT03IHBzeT0xIHBzeV9yZD0xLjAwOjAuMDAgbWl4ZWRfcmVm\n",
              "PTEgbWVfcmFuZ2U9MTYgY2hyb21hX21lPTEgdHJlbGxpcz0xIDh4OGRjdD0xIGNxbT0wIGRlYWR6\n",
              "b25lPTIxLDExIGZhc3RfcHNraXA9MSBjaHJvbWFfcXBfb2Zmc2V0PS0yIHRocmVhZHM9MyBsb29r\n",
              "YWhlYWRfdGhyZWFkcz0xIHNsaWNlZF90aHJlYWRzPTAgbnI9MCBkZWNpbWF0ZT0xIGludGVybGFj\n",
              "ZWQ9MCBibHVyYXlfY29tcGF0PTAgY29uc3RyYWluZWRfaW50cmE9MCBiZnJhbWVzPTMgYl9weXJh\n",
              "bWlkPTIgYl9hZGFwdD0xIGJfYmlhcz0wIGRpcmVjdD0xIHdlaWdodGI9MSBvcGVuX2dvcD0wIHdl\n",
              "aWdodHA9MiBrZXlpbnQ9MjUwIGtleWludF9taW49MjUgc2NlbmVjdXQ9NDAgaW50cmFfcmVmcmVz\n",
              "aD0wIHJjX2xvb2thaGVhZD00MCByYz1jcmYgbWJ0cmVlPTEgY3JmPTIzLjAgcWNvbXA9MC42MCBx\n",
              "cG1pbj0wIHFwbWF4PTY5IHFwc3RlcD00IGlwX3JhdGlvPTEuNDAgYXE9MToxLjAwAIAAADJNZYiE\n",
              "AC///vau/MsrRwuVLh1Ze7NR8uhJcv2IMH1oAAADAADVayF8oYJVUBjg5Cl8UC950wnQObmxLpMS\n",
              "eTd2N1o7ZvU7nZLqidQWs9IRqH4qZFuUNOvgrgAArGB7WlESNB735J/CfrjEy3i5zjzWx5r7oD4b\n",
              "7vRGf5YZpSE2SfCltWRnqtLPBS3FxRjhpp/BEdar5txSfEu67R/ppgZwAi2i8ff512MwmU2ndVwZ\n",
              "0/IypwbXeLiexIGKwjGLSLtuFQ6Y/OKysfXRdbpNhUrKtfRj7PsZ4sEuP5y4zl61S+z6VZzYCdA7\n",
              "422O/g7ogLDysqUE24GpHGaJCX2wbS68ujTHQP6XxiSrNlnDwZHgbp5EeVkCuMJlhlbRejAAAW5E\n",
              "i95ObYO5PsuB/yXJXIr296w2R4KtEWts2QxCeaTyILNtSj0FAa6n+Sm+7xuX2JriZx97d2rE/cAU\n",
              "Qsh/+Ymis26EZW9S/cjgVqTEtyVS3CIlK2Ezdp99jK7/nX0GHUivuh8QdJ4bhVPEmo5B7TQYe9Nv\n",
              "n+ebyMRkTx7hvj05vOEfMTes/dwPLUI91WSm8NQ11fuo1LrBS7pJhE73vxY1JjcZWnegaFLpPjAo\n",
              "+BqceCYe5S3Av97ANnEBmzojm/SDmWarQluOhREg6XGZMu4a7snjhzyH4/KonlxVMyXTB8Ya3dGT\n",
              "vrxM2T8GRxsFP+Ki2XIeafZhzaICPKgU1x2LYZqQc9bRDlrWDpuTNmcCbrO7DXBPWt4+vc4y9j4f\n",
              "9IbTpWR0gti3hfugAL5SqzBQBPPDOD6Y8UFjbWEdqCKzj/3OA6QpBOtIpMv8RPGtEtT4zpsL5DgU\n",
              "W7Veh556LI0Gg2s6EOTSBZVPhwxULIDHJ4lu03Q4tzre/frYdOiQv6jsVE3nfmYai+kwFdN6umAJ\n",
              "NF2es2HeJ6s8al37PrMlToRBo4xG0fUr2D3h2KAIiqdNTLWxNiMbC0LlGN11lvyX+Ahm0GVXideP\n",
              "ZkoIbgwLSFFn+qsWQi1gd5YlvJF+grCkWEC4T6N+MBdJXBfELB0P7DGADeeCiixt23fF6RarigDj\n",
              "svDNkTR+V+9XUMdHw/r9y+xO7it8Vyuyb5IT0k1W8+dFsC6mgDXeLVn/GbNZF3YGWU5EG8Y7nNsj\n",
              "bqko6CZeuErm8/ib08sKyMf/AAs7SrpKVD0cArb4AdKJIDbC2QNrWjiENcXzYlCSxePQmmUdD6Mp\n",
              "RY+Ih/GAtAGYIicR2lJheHH0YIQkwjUDrCJbZFeCnESU2nGNJoBWg14ogfTtthCkfxV3eFvcRPTK\n",
              "e+iEpUbwuIvmByipRxXu4m/5ZbB/ehGgXmszbLWVf+4PJebyN/wJxNw1Nrnm+FQmwW4U5fw9Uz+r\n",
              "qw3L3V3bjLxkEL0N6FF3N23po/nf7SCqgtG2VPUz6EZ4DUBF9C7KDffgpo3XMOrCq0UelxcgbN5A\n",
              "0BVURaH1iEZ0thD0RIdt8IMc7IvMYC4fUKDSWlLTx3Rn2vg1xTeIjoWnawISnUuTAgeNuhdyHwZ0\n",
              "L9y6QJF7dDGmEBx2G8gLcI5UYPTDN71STlxmoRsXhCRfvFysfMcjpg5k1qs459KWwsyLeKD36EWR\n",
              "QvjCUgtobDK0vn+lToJZzDw2LPj41HdFZ4GUgC+woiUC6bNdDA0VQ/ggV7PwTXzCmDDKwJOvcBGE\n",
              "XuAh+gr4F6rXz071XuvnJnsoYPA0FCK64ypHxPUl0Lhq8fEME1eJb4NcTtI/TS65nCJUdMpA46Ev\n",
              "BT99o/i4QlmyGpZMXdmf0ZBvR6T6Btxwt3PAaQVIZuNrsdj1NGyCXwnHIxTFqGsAwDgywa1R7XPT\n",
              "srq7IBWGTZPwCRQAYMa3ixuXJgQEMbmfGIgCNj6J350MvUBV9UsmzWd9ZKKHEQkW/avZIKgXkWZC\n",
              "wsEPQpfInl4W7sNehHscSQ6iY1EYowTYkrbWiW8ZNO3vHKtlf7gAIbIfsS30YogXjQD80UyzlOpV\n",
              "nstBi0nEFYJzbRPp3Z1dysKg9MFa0DB92Q1NBqsCB+G4AQUl+BjY7LKPky0JmZCauW6cdAay0JLP\n",
              "aYRjJ3UMNEfHhhsXA8B1RGd2NZooaTXn544v18cWFcRrXuEUl97TITldnYCQRfEaAFL2pnoOO+wv\n",
              "odxXniGP7TAemSC1yPDBzoGf6WfXKcxwVXC/nA5Gg7//5cPAfhwd+gKRaEC81Sn08xm4kpo4mca9\n",
              "hZxuTeNMwRMuL9yXQQmauCe3uNVe5LO0X9FVqA1xWVlWaqAi9FSYMMYAr/ii/jr++YbxNCRi3dgX\n",
              "D1TuFuHplz/H0GUBpVbd1ZJ52yuqiGThmmkqN9IwDzn46P0sebGwjxu2wghcnfCxmvkaippiizdB\n",
              "3Y9sL8LO2Gj5yBaiVxHkQGbo5On3+yJ1RwuFk9l2fYbtrgPH9ZF01jfRnIP8vJUT/DoiHNb7zUw9\n",
              "milD0m+r+P8kGAWS5oNlKATuKhwLMgDQvL/2Xxjlzs4LzzJshq45AcjqNsJZAtUM/nkvT5c+tl99\n",
              "LyNFA86+FmYJH4JADRpYYOg6NHMWsAwE1amLcFR9r0R4cEtKUAmpKcI/sJfRptbhPTp3pNXVZkOg\n",
              "lxUAVXLxhAvM7ve5ct6bpU3I6pDH2Liipvmm6CmJ3v6yuNm3OOXwWQTatKKNmZ25NhR7ceooPg2G\n",
              "NDGhgnZbnPJm8Rp525sJPs6z/SR7sklallac95AWnxIy2+rCNAy7o0LS+XRCi8zEf218IlxGL1Vz\n",
              "0C6j9kt0+cpKE50f0Wjb/wgibTcyUS4u+pi0bEmRvFw8jNWtEf4XrkTeVHv7xnrEZnk30j5tonXH\n",
              "bvbfiA6S2Jz6pQRKah4FvICQmDUzXnP9XqZ12kJBmPpEBqJ8ccAQFt/7gxhAY4uN7ztlgFkA87lX\n",
              "FGQicH6wLEVRAZDiMfAOwhRN/i2L7d8LnqvC1VGMaWJu4jyYsPaafC/C5gfb8oI3qmh+B1lawVS2\n",
              "cIaNkm6AZ6ruPoNu6oYG6lixJFnn/fkNl/ZB8z5hAvLKmxbXE/Xm6bdt0CgvaAEW1hpi+eYIwsTA\n",
              "dQLonddupQ6NI+p9TlwkeSKS3bdRnusB2CC8NvRXjHhK9F9l7jgurgS99nGSreW53pi9c3gotVy0\n",
              "CLvCAKben0UrdTfUz4yk/cmyGPzw3cxOHjnhtKiSOGsPxkD8HjKBbxaAgwJyRrlhLidU9tsRJ58G\n",
              "xa6I+Dzg6irCZAn8nm9fFRjQvCjRCCqvel+gyrpPmAkWUHs1bbg8MbXKL0yzblH8WkwQaz/4B+Hd\n",
              "Z23tkPXBL+neec86bkyyF/fvBXSYkqrpNofZeAvySsUSZUNjrStV1UQW9jZ/Pv1jtywNG3Vuednn\n",
              "pDXn+swhe42VB5Xf2HILTdXdsoRXsHkw/bnZ7YXFPSD/mp7KSJJJKkBeGO8PgYtoQHeRXW45vaj6\n",
              "kAbtxQtxfc2hQihyM3+PQ+v+/46+MvpnjH6rm5xwQgT97znqaX7LK8Gf/KJ448pvpXvyuCYtgpvh\n",
              "dUPp/oCeQTD+DgZ1CKVWFlwtdfVTaqh+yoecR4nxb3ejR31GA65zY0GHB9XLCrBowOXoidwMHtwN\n",
              "yYKZEjcs2WBWhi6HMjSVOh2MjU69gz/xVdzenkfy/Xa7So/XatBcWxcMYMrGqLS5GZpBEDlW03z4\n",
              "ODcsQGWqefyp3El6oYpvIaBArM2Hr8btRX7wKwP3UmDInMTNpGVQz99L1ia3QXpyWzEdlSCQGIgl\n",
              "L3svFXFB7v3UvQYKY/GEX16FVOFWZqdH66Jl/mNvzPjTpCtns563LIcqbmf9tXmaHelBIY4/kDUQ\n",
              "7RCkTgR7gy63aoHTYqeLfi57kFTPOWvMZw74TRhcZ7NGpJ5TET08JWN2aNg3mSzQE4Q9UNduuO+z\n",
              "YsE+4OYMA18oBeYMF0m69wagodMN7pYT/T+HuSQG6NozdfxrS3AXm+ZnemIQOh//hhyftQknzT9t\n",
              "8dgTlfxhi3Wi5NbF/ZLVSOa2XEBnmmvM2F9w8Qs00bQ1o9TpP9pPPv8c5Ly7p0n1C+UppoRq8yOw\n",
              "0w4SdpWm09Wnep3B57GV8E6s1KqMZZizdYfAynjyqNFPoqWhFfgdCJ5jofCx7PSR40OIrPjIl0LS\n",
              "A00cRVSjvmby+5aN+y6uq8EhZ/9kXXN7HmyaURjwkgjnS7KKlgZfAipaR/CorYK+6+gc+cwvbTpJ\n",
              "pDMiOm5VxeXpRevzpKuTQySkD5LyQCp1/L/xsdijXZCUERGIh4t7vYhEg/bn/Hkn3J///LcjjVZN\n",
              "xIurPIAm/u/CNn1nG3KE/UwAhI2bQhoNEMveBU53NuFrixfOOL747UNKQGFVeVvaCOOZRMJ+4j2y\n",
              "GMyx1lgNO5oPhU/PFIFrrplQW+6Fs+w1XFRSt3YSoVczQwagvnkm8WuDjjo1JBXcaloWyGEFR3gM\n",
              "CjIZ8+76YXPzzPGyLn1yFgyZVBmbi/rgBtyZRAAnMtXZxqKpn5g0hUIRfcDnyov60ncE43Il9Q6i\n",
              "M5AaJobdp/ui8JYj1QlFN38yErtXk5qvQparmDxesHBFEIOiMqNdTk2exL3LYKZt5s8WwwYrhGSd\n",
              "k3i8Tn+LCgtA+U9Fz/eomIonlX1pmPQ2gx4zBDHyjR3+ijMbP4Uz+9VtXIr+WeVSLYjRy4cMJaML\n",
              "XYLNNKKHvuGotivfxHfDIhW5I0rj6wgcTTjlhpYyl4N1UBJrLXVc55mcmhCmtly0kmWGCUyWYxRa\n",
              "Y7nvSYKPPW9zEIIgZ46q9tcbB9NxIRjABbsJ+pgCWd0/Uk/KYqd//AxsBZ8lTinQH9nJfvwMDl+E\n",
              "ct4KCQuLfK17laWvQ1FX2L86FTgV8rbeNddmkHSOZZmm+DY3jWCQdwU6hGDRXp1co8dWx11vj4UQ\n",
              "ujUTTRtN1ESxkcA8/QLAL5jWsxmnOmFrZsuDMOrVCl2w3ladKqzLcdlhU0Huz57+aj/tlnzlgALw\n",
              "RYtQB1tN9fjkmOQGfi8Fp4oac7QRva3FIFVwW9dnUuRtfAvL0dNgc/kZWCEhRM0Jr+ZKQ/urMVQf\n",
              "YednfqIx2XlMzbwIi7hWtiIU7TwrV+qSvvs/JuZfD7Vl2szvSHo+RPbj2XUlo+3spOzfF0RZiPxY\n",
              "7DsXNmOBE1l3Ma233BGIzNBpfmODvC+xEW9sdrQdZMSNY0EZFl4JtLYiPV6ujgOPuBJ+IAXD9dG9\n",
              "2U4YynJxr9srDoCbEqgzup2TwchaaQcZTwmXwWQ2WfYqk50XIZPtXWuUSBU50X0Fik67sARtBzp4\n",
              "aHuUydotM7i/e/9J6n8Bp0HHY9+YAFK9dRyQqKYn0kOlyLl3adxBQN9YEFR6AZ9gEWj3eOY0azh2\n",
              "YyqT3jgi5UVqwkLJ8c+b/NVKD2biGic8kA0h62B2ewSl5bM/QafZiob4DknFhXyI89ew17T1QNld\n",
              "z/KCFVY9i45XyBlXJws+t2i/EFFf7FvakFxJ1ESdevklwS+dwLJP1CYjKB2MIP6xp6OiM8ANDKhi\n",
              "fJesJc1JdNfreqPJ24cqgu5439lQrFpobOTZby2DbYoRNuPHzd1drjHU3lheQjqt2e8A1F8JlaWL\n",
              "8BESmQDnmfVfm2luQVJWgIC+PjymonFdb1+PcCQ9DVmRXTOKABiTq0gaq+nSnYHE9SKj/ph4t5Pn\n",
              "HdZMpKEpM8ydzst/VHDvbbNnqoESzjF6o5V0WezapVjbeAM5l5C5UMEspUsHPFKBWPFUf7LwkNnB\n",
              "+Kam9F46Y99GmJargDPqkQUyd/p7EvximylTVIBqfaBNwHJmDxZ5n0nRKLGERp2+SF5dfWQD074y\n",
              "v04lz4NpIxJP/k7vMcB+NriIW2kRaSQw6izPybv7T8NXY+IqrGkIiKuw50+fq4eNVOFjMJD62OPv\n",
              "N7J0cRcq1lM0QRbgrAsIYJA5slAuw/sicMWGZgxqCxRQJC4Xpf2v5iYR6+NZxgnc0/bRVvF+aFsi\n",
              "SIGXOoJRXT4TgeRuH5No2kGpcXr8HoEAVOxha2eQB+7HZG3Vhu68+vU0P5Uoz8GlihMYIG+wvdEu\n",
              "wkxg9584iaDusBOgXxflQMUEkiORJML95hssRRJ4iVPiVdrUw5hByLOBPDbIlNfEGgd7gL0rgjsc\n",
              "wZ/0mBthgaYaeOg+jpT3mQpk9FyKtccvQXaQxIOjFbz689HsWCeJp8HQjefwXOA4AzIY6ta99F0A\n",
              "pMAVIFXxKQlCKwOPWAWLg9d4C9UBIm3B3lIb1X4oDnr91lsTTcH5F3UoLk5uA/vdgONvee8C8c4i\n",
              "57wlYSSeFmb/WM1vkPkYa/fz0oxpc1IPQ3afpJ0up6C2xK8GbXhqi5xovrUDPmxU0tGofuwCieZL\n",
              "VrXKmULVs0gzHRWhbnrNGvz89SJPdxqPDFhhG0fUYe/qG+egz5ZTOUOixP40YDawC21XRKSGR7/7\n",
              "nJjrx4m7AgXLc2+7pyQG41njhQYCifAoK5HPTK3dVbwvQs+DUX/KegvICj7nJZ/XMpzNEcEOxsN0\n",
              "l/2APZCvxoA1Iw+stH4ZOPwc+c/mif99n9fWlvxsYfJoYjoqqMl/GCW+1OxVgwjMayh3yLfTz4n2\n",
              "enQ35xyEgizq63N99pmDkQmPu3snK3UQu5tch+ELG9+CRAVwUQyDJ5SKtEdvM6woLcuqGA7e2xt+\n",
              "/z7H5O961UY5EVkKMCbtzr5JbnZRFxzYI8LFcDJVimtlgLZnNqQiV9yJrp3D7iQLY9ICqqx9RK1h\n",
              "2NFYSPwxUvg3wn8t8J3qPyFNlWyemOB/DrUhUkLEEMCcdb7EHQayKzTCyDOP4otfY2+68JqqVlD/\n",
              "AIml7YSWMSvStl34R687bF/leHFhB5v5sAOO2CxzX1wusGKGVbwzyWSKOLxtUR0X0Nxu1g/eUn8V\n",
              "U/ehg9RrJuzduOlI4O4UixB3aLvSgNa0VkpqW1jWW9QUeHAHFfpYP7WAbk1Ss5c3BmiX9awVpGvC\n",
              "qufC1OPVGJaLuqNQTU6+ADrIJjbDs9h252zTWggA4qzlncFV8GBM0skqPxpxf6FvmkpBCTwCm4yZ\n",
              "szv9B7f6dgeWTRCrkHODJvqR8CaotLs3z+dsHsSd65j89gHLJJek7ffSS/RRZOhU8JZMQDLV5fjD\n",
              "fwf/HzwYiIzi2md923RJrucXZz7baSeBG6XygQgFgRREsWL/ijEaCRLaQG5o6njN494f6WB4McQt\n",
              "OwSDb1+a77DvlJJbQ3gyfooKEDic9IgL9N1CpB//SQCbrrNKdWBZn/d1nN4gTVU06xxR8z4hzQTp\n",
              "QUfh8CKDC2DoOJDOd2656b3te1D9I6u0lY9AGK9sRIHoTvX46j/viavTnT5EdLlARoqAI76P7u4T\n",
              "qcJ0C2QGwWt6eq2z52F/+aEZAPNh08Tu1vYKH+iT3OHi9YL9CEdiaMDd/IjGlvcrw5rTKsN+A25D\n",
              "HcTK9xsiKWTZQkV1z8pTVawH8eD87+ELc5NjlYDFxqwcI0XDp04/yEuciOe+gUYOOq0t65tKCXzZ\n",
              "FjIwQBA5tz0nLVR/hULLoIXE/OyfaixWq+6nvDuR9H4GkyxPIO/oOGhgTHqHWf4/kSLoZY9qRYzU\n",
              "QuIqEO+smTNQ5wHabI39+JM7BZchVoQRVSUn68Qi0VLMuzpYL8OR2zn1XPnBgK55OUg3VXzOGeYF\n",
              "4sw/0wNHYvAtTkir8GRWXz4ZMEd7EgBBebOuZCj9Ue1rKR9pvp9/dODZGg7BGkEf9R/Aik/LrJb9\n",
              "LRYXo+4UUfALXVi4WnsG9CWzULV4NKBO1gy8tBlcaKW+L0AMeW+l1hMypeoo1czVgL32kWXWlqeC\n",
              "w42N9r2GSi6Q+Ve+wlzgjkebgYIOqdHuoOmrsnvVF9S8RxZNq/4kzZdlEFoEkhYUndQ4dZFTMoHI\n",
              "I+9PYnmYaZ/azWPs63YEFJW6OUrd0+U9Pygn1IZL2fynbSPGkhewemnfDXvD2uCw55LrCSkDmN17\n",
              "8FbY21M7N3SYC7tSHr7slFjAB5lnohh1o/VStjn+PXpN0H/oJ73CTvWSrLSTmrAwUCBfH3m/zwer\n",
              "+CwrnNgsEHyw+47dphGDuINcz0p+M2DM0dduVP2+3yNh15CKrUor3652OE/+ARvtmGSG/VngeFhP\n",
              "f+oHzf8HHyJ7UlwheUjzmgIjI3lRT4Ru34+sJ/8q1NU0knLCMgSND+CMP/WWo4hG+945TqDbIyGj\n",
              "59Lezx+/HgWqr5W0crlxaEQktibcPYd3TWul+GBIFu9z6fYGAra/MjbrnzyDnSVf0YP7D3LQRjp0\n",
              "omMZjIBOFC961+O4RUJtD/RnYFTdKtZO43ljZRrcEhmeXVcSxNqHdu6WJB0SkSaaJaY7Q+yWg5SI\n",
              "m5/R7lUr63G6ZU2XgjYzLHniqSkXuXOKBFUTqeL3TStOnPCwKaUcPL/bisWs0tVT3gqjdcbDRd1b\n",
              "Ej4TYGe5/1WHz3cLwQBIK5Vyylu2wLZTX8DCciEXKw88k8aJnibSpZmfS65rwJFsVGMy2FgSbHd6\n",
              "IgnZdtw9CapnVoWNXoQhK02yb2jkpzqfUj30f1HS66C4fTVc+O2D0Ot/ivr7C9QJX+wlFdY4voXV\n",
              "CFvdB4/nEoXQhPTMBRuhZf2gZMxAo8gmYvM5T/7TsHS/kXiJ4cWm+5NDHyl6TYfcTK99uJFMpvpQ\n",
              "PGxD7Tb6xkWyZKBXg9SSsw7NEfibAG67LryY5i6V0Q8SMKTEGh7nGMf545Zu9GXNbJgFTl9gdjIN\n",
              "ULg/QpSYcbXc/Psgn22Q7DYgiK6NtMJfvcwBPOQ5GDn7pndFUurYqLx0p9cVnOAXzH+7GCd3IiZW\n",
              "P/hCaXD8EuqYvj9MQUX5hqFT18aHFXgFffRc2//y2fkTqKtEMt4cfqgllDsa5J7sDxyVS2sw9ZOr\n",
              "/qq46k96kh9xwT1jvs9vuXJKHvcQp7OcQUr38eJeusSocO81GIoLqQXGgNUAxFM+rUUdsM2HwbJ9\n",
              "mTts3NkKtRA/6Sw/6C2ucoOzvh12g3uRvZlzoDknBAqNq3CJmxKi+TeEUK2F4XlWHFUKDsYX5V8/\n",
              "Bsz2s977V02LqrpyJibc3dhavaU2ZGAD9n0qtsUwenlNbCOwZT/hq1lTCDS4A5th7yxJ8tmIAWMw\n",
              "c92SM9nNprkLbBh0YNURwIDWSbHc6Q6IQUCMtnioYtY6tBjWPYgQ/dzVMFH5lFIKZFYMg6bqQZ2q\n",
              "euaEmdh0z0c3GWeyz7qFmvcAtUHAdRebG8M7rIpq2t9iiYze1Rim1t5EavsT97Lz4UGTzD/uGi9q\n",
              "Mm4mtK77/9NDRPof0Vwb5FR9sv4Om9At9WIGNHnosaD9e2XdohHnuSE6uL2pFccdkt+DoJ3vjsyx\n",
              "dhWi1YWRi9F1L5nOdMd5OCr75UsBv2GzmlCEiomFrDJhE6W93AITpCRpv5YVqKlC0q7VEri/nWbA\n",
              "Ti9efDILFHet9+Ahk6sxcrTUUvLGFkx+K6XaClweC3mFMeEGrzUUUV+M8BPwG2Lw9olikiq0XpkE\n",
              "0AowMegCcIecVx5ZoMnTjh+0rWrKN/aJHlaR6W+HjWTFpg0j53Ivz/vl/s8EdXo1T7JyL2eHBprd\n",
              "sL45GI1v6+ZC7rw5SYYAKIx7GG27cUf5SC1LoD9ebItndX+pxrOI0WSki6yM89mDconYklGs+av+\n",
              "mUVYkXfACsvLd3D0cT5h2XVeAUKMcYeGso5Z6a9l/wA2dNiIHCUoKOW/cJ7ErOMBCFb1ksZGXu97\n",
              "4IPYZhBezqGIRg4l14suxNzIszWUgKzvky0Pp0JFH+aiWy68ClSaOSCazPq+vUw7G+lvHEBJ398c\n",
              "L3q4FIUlD6G5xTvSaf9SyKK5q2aC+uqXAKaKsWlG3CaZDoG0QVrgIjjUxgdRxilhHVk0SZt5w4ff\n",
              "lB3WLQ0z7dhYqe5qXkAsdBCSeZR81UjGC/4XEpGbAOVFuRONdKEHzyG2OCS2oiFxlwIAETqpm4P4\n",
              "87yuRa/yTsTZJa0mK6mTApZPbD/AIasuL2Z4kAw0gyi1PX/fslNvJYWcI48XGKjrLIP/Uzxs80Oa\n",
              "PM4+pDse8YLtfabh8scHQP0LiS21TTjrM19wCyOk2ScKUTYPKrtRCAkMla4Kt/pudUhxaux9Fh7e\n",
              "ep9D6dt0vyR6LnKZ4fK0TnpB+Fy9XUhbkoEb+2+rJYwkts322iHDy1pZJUWXrK6ytvOHReTGXgKI\n",
              "hZB6YiJKHeengGM5ERGVyCxLrD3MwbwdXZmRdNHl9mFpGjj9SdG76ghGRZ441itFqaOT6eBD0Tmw\n",
              "Ec69uBOGE63TnrWv6hGpEV48VHEN3YxBvsNIpRZWGs7g5CbBvEuAaMN5RPhY2Oo6eZgHp/06To7u\n",
              "Livuv6lRBjry62MV7vUvxIVwjdsF/6leqvIxJ5UKe8LpznhnyIr6gj8DlxE7UwS89yQUszY4XL1u\n",
              "Maoa5eMpDY0oqqLDY7ODZXT0zJzz9LikTHqDq+jjCN5Da/A+X0Ts1YWrbWK8yThSmNvT3xga1Vjy\n",
              "NxI6MgJSm1KryP15rn1OmoZxxaPnZyAxBGHxkc2xbTbF7brpLGHj1y9qSCpUvq3yNrB3tnMMo0lN\n",
              "JxR4pePHjVCCAS8WQ+fG/h3Xgo4bW43CaxBKWU1FQrGb8xdqDaB3MQdY9DWnPhGPPIvZ8+j+wgOm\n",
              "OvafAvwP64ryxmzIssY1QfTBA0U5G55dGgevP/wZySDXfGukd8SH7ayBton4GY9lvGgWUwK64MO8\n",
              "5xJ9Ii0nPsBwxv22eGkwilagAOIgWB4jJT32KQftSv4Qa1fiqRzs2g6ZYr06EUitkh2a6NafQRmR\n",
              "cP1eWZqx1DsLaipAU/VecgpWFrmAN5V/X0bivzBa0N5K6RUPg7nkejVqMz+HaCUJpqEM/vO+gIsI\n",
              "3CX8mvjfCg382Na259tHqK9DVmMAfGPM8EF6TtbMqcsd5GlxaL3Q4H7wxAB7zNVQ5/VjGWB+IcRv\n",
              "ll2eLWYILkzCemL5yf61GN8ymzGUfiBF+Q0wNcvsoEZX9aVxzOTO6o/nh99s76VltRuOPMoZRXp0\n",
              "Oxfeb3ROb3NWCI11u2ZkaZn/Va6qDCcEwEMVOgg0S7AZiJnFqnv/47G7zDeJKvGgyknT3DhWAl6j\n",
              "ga+yLvo8UCKPQSEmDklHT+g+808NBlV2XwvRumFNIYXBHE7Eax8GC0/dSZFJAwJm0FltJsYQWbcT\n",
              "WYVUNpPlFCMNBbxw9QBOLPd2ibTB1OuVXDF0QparDwGenP9Oeq291THRtJpNDc6QqQRFeAhpd0Gz\n",
              "jImmGWZPyBvao1E6mPjbm/OtaW1ikgFQ3JThz13EK4buE+OA1LpoamtrR6ZznaRJ8FEpNc8/0COv\n",
              "1Q8YNe1VryqsupJlVN6ifN2n9eiXgvykSuxG6bx6MSOLh4tX7SUHHjbAxTDIRHUF6q4eRe2Zz+q9\n",
              "JtPRHdTUQWACPwIEluyGbt0qCNbTgU8EuGa0LU1rzw3r/orFO8cAlf8U/+PEaBMglwwRefyxd4XP\n",
              "Ln5pNHlAYPYmM7/Xes3CBPbGMqdEQYxKGHmg24+7ZNNnToQreMNDfy4+N2hzOS3czp/HyuXmGmzU\n",
              "k8TLcpHXpfjzWIbwOVEuXgzkzrFlUaCEHwopXsYs22XXLuacRp8KxquqT8Rg0aQbXvl8ULQkP3oS\n",
              "3rG6HACwI1jshs4IScBHd1r1YCZEmOhq5moNZnJwHOas7Q4GmZ6vnWjfX2eUPx8X07Dk8CRQVOEC\n",
              "7lbWRBN39+69BJf/PfHvRYopLxQE+OQIi7mXm1dbrUeBbtDZVDT18h/F4y8P/P6/YjLEZ/2GaT3T\n",
              "LooM/gWUov4XkI5Aykj6QRuVqwQJrh6IGTSohMVZjrYbItf2/SLmxWuOIkAxkNfBK6jEwXLINvKU\n",
              "1RALQOr+URZb+a3IAHZdqZNGYdHCRnftUR64w+4Qbuur3REzCU4hSDa4jkItuCDJ48e6uGuL1fLs\n",
              "cIbkjJ8Vjx00T2UMp+8yxwAjsgGVEUHCXExoa3lS8Tv/v2BiaDxfcrg2iYGdas3gfr54FaoLYgnB\n",
              "O+66b3FxHt0kktYxB6855VrbesCOn7Jpi60H9gdHauntAfMfexHiMHgyezPWRhUtTAjkQ3bCvO78\n",
              "/UzinwqKyS7BrzvHw2CIVFfec0/HZ5lYiBlvp8OzN5BPodq8LxaqGahnFAmaBAYnjGaZcOrlr6IF\n",
              "wTOch1Zk/clAAmaVI67V89o7mFCaNqiZpzbM2X4oZDHpmfPjPzOvnlhmhDXSoAQWbqCTPO+G1zbi\n",
              "YDva0/1E03dFIEXtHt75tNHa6mSLbyW11jl0twDI9ORPAYaEV/yRAYZZ7rAOFv3Zlemd+45frcIt\n",
              "X5pFoelKy64xjMWboGu1laXuc6yU0AbjJ45+zBGYq0NxwIuCPqkjMMd1nCBZ1EcEcEuMDxm3RrFu\n",
              "0gbBwB/5Zh86ru71RFNM17x6tPAvGQAejrWgWZb0vlo2Cbk49LYGizsj+52fbqHvl7/PI/D8Gyp0\n",
              "EA71YjPBrc6DRTrt8FVnq2bQu+//sB0+A46dDHNiIBnXKssiGimk3K/Xp9WTZObbXKBugx12hecQ\n",
              "r+FItcGzpQEDxi0Mtie7sXIwU7FKFvnIIBTIAxcao1aGkDbhczwAmwqTyUIzVMWPAawvehy0YQH7\n",
              "2GL6SkiXSzN4Jar+UxE+73s91pHH0W1cfBA41c2ujko9BDtio3v0Om74rzZawIr6K9IDlJ74KjKR\n",
              "c0hiDZ8qiCz2GXozFEOH2sjRmyR/DwtmYDCboZ+C2DkeUokz6XR3e9ybJPiraqkiU3+byCoiFKuT\n",
              "CqKXrpcTWaGebw9qbfwAHkhRLceg7uvuRnOLiND/cAk8BvD2anYG32lM/PtKaK7m8fz+EARCzH+M\n",
              "b6cspViEk/OudI3A0ucQfhNiKmE/EwI/2aMAO1jCcJvizVu4FsROMhl8Vqm68sk2BEnFe4eEfhlj\n",
              "qOYAeiNc0RMzEyLxoOBRyDVJUmOKnL7nbtRPwSosCUFH+HCNXjx752nMY6QySdTpARhby7SCPVfx\n",
              "3cEg0qmIVOA+wSrbUKI21Mwg/L2g4V4P3reSBHl4RmgSJuHu8WY5CtiESFYiK2Y495hbHIsKGJCp\n",
              "wa6pxn9Q/pNr1hzye1KAn4tRhz8cKwFm6mEpCQjQ3Apd43NUV+L+NtL1E9jZ5KqcYHw0gMZbLbZy\n",
              "d+mHq9G74f50BISRTG8BuYbqh5t22mQfuWBZuN75UJjgYhWMsJTLOJjkOMpNpU1l6i82V/+xXASG\n",
              "Y1CquaZR0L8T+a177QYViA4v3Lunoc4mjCQWWqXVWp/b//wKeFRSKoacyPBuwCAKSoPSMMf0SK79\n",
              "3DM/reSPnxmDr5RJleBIwSIey4GlZY8Y6jtFMjyoePSay9DUQvwZLSE9h0kW+hIyrrYOaa3PCuNG\n",
              "d/YJlu2H0Aq+85MRVgvNVYuAz/OCSl521p6QJh8RNmJOs3z94dICceFVARKPMeQ8r8G0pBQBiEDA\n",
              "EQNiyQsqLMogPGscVbwwhVefqDjqVY007H3OkRlvd4fiJuvWqhsjsQDtqDQSF/D4WLdO3bwmoPmE\n",
              "/EMVepconL24izbwclCZqOtZ+sNYk2cho9UZC/ZvceTl00wnRmzORLSljBh/Ajhh6Euy4gaIDG/i\n",
              "kO2Vogumtg3aDRbXhg2pU/hnMjpkFXTk21kJb7pts0Hwe2yxRRMjvidTsptCxuvtuR16Ql7AmWMB\n",
              "IUY09M+xx+gtRJVOWTD3vCAg5MShiZQ1zZfEL5JCoDe56B5nHoe6Gu0MNbhIM/s3HaG/+n0cvD7Y\n",
              "uQD1Pfu6gW3XoI1oiURr2tJKz2bNbJbt/0/vNjqOOdr18MITTnRux/a8WRd3cakVOrUo2YiWv1U2\n",
              "mI2I+yZcRIg9Ne6QN4rYeEFNdyaiXwzQ8zpNvaxT6jFtJQak6Is7dSE2xsMtS9OXtBTP+xLvBR/H\n",
              "tKKZ7gYEEtyh6Vsx8etZdy2SKP7kTYGtHfEMaWgT8HOHErOeSaEjk0JdrXuhvZCp2aZ3VlNte4g4\n",
              "tK6NOXmZFa8/i1HuRZfIvbdzTnBD5R0Fv1DNNa05Kb/R1RXr1wPLwpp6veL3aoyCuepjJMQhuk9r\n",
              "VWXTp+YoYnUjfuJBf/ar4J/4z86iPA/7hvaWhN1/Z471G/+6DsD4PH4OZGmuUkrhdotolSL5g1t3\n",
              "rcltouH3E62S128MVwPs8pI8oTvkbRE01xVvu8PdLZ5yEPXa0mLZFVLjhAPcJAyxkavL0Mx/EYiS\n",
              "GhoPENQOkoHWZMB4hurvkbpT37zwNCpWX/2LFYeIV8pDFCRZ/1UI5TE6h2IAgxK4h5ZJ1/OS4S5u\n",
              "DvTt7A0o0CDLSyIae9vPjjAUrKIVO6F+llH8Zb48pzVbqCuOiFKIrlJRaQOjnLPtjVJhuHtzID6K\n",
              "Ac2RzbYhr+nD0dzPAmF20CLFxnRh6NHbXfozagVE93rIU9kiuKbXDclMBjDBlR4vzelsLgtcrP2Y\n",
              "8kPqmpYWsOLsIy/nvG8ZewQl3R9y2M0IgUmSM5sD2YA+alofpD2SaP4egFIONVWt7ahh0+TGEEsQ\n",
              "tCijlW8SZU8mclEFDLdO4ATpgJGscRoMIUSAY4JGxgkAATveQmZLb9P5sx6g7wjlFhoPi5oJdWPO\n",
              "uj7xOArzWvJ8GJl8Awe4zWMjV/hlRDqDxSLK5BPxsNCrwrmucnIwyUeGR8znSsBxiIkVMTsRUoj7\n",
              "GZhKqGjI9I/YiRTHR0phdil07eNT/5X0qFytcxGVuOawS+juDsHgZxbZIvkMVlfSrNuGwi/IK96c\n",
              "TjQvipW104VS/aFKD1ydoALuaJgR/P4KnRc0P+04Vha1eG6y1P3FVyzZqDSvPS2gr6pdOyepsoiL\n",
              "2Ds9Yd5hQpsO2cqhT3+8qwJ4B+hq+rjOVzmG9yxX+c4KMU1J7Q+KIQoGTRc3//+SHQIwyG0JXdKg\n",
              "2J7ZVJjjaPozGbRJjKdOaEZYDHwPB8f66ABZnNna8PIZwtGvOgy6vngLFIExm2tAzMfwuQpMc8id\n",
              "GQtZiFWC0OFeRaQ2OCo27erZ9l5xxYPX+j2q+uQsH9WhtmkdVCXqxafGeS+VQrVULSdYOZEUATBc\n",
              "dKnaeb7MOp6jNjmk96wltswntEMR23BgH2f15JOa/TdCJQiYfF/cTgzsLgtTLKpbFD6IV2lA1JJd\n",
              "GboduI/lok32AdRVP2IVsJu/9nuwwvso6xFu+wUWgHK5/gLAnvrsuDD9eOxqWGf4xLGuiCMnT/nD\n",
              "LO1cxYaOLZrG4yWcpEwVgpGMvIKnXQp0LbtrWD6q/xiXGBOUSfTY21hAov6PnzYuwoJAXVH9hNeC\n",
              "PAvL7Tb5jrwuCW52FRbmyVHFAGuGUaQbalYI16LDeTUBQ/HgJQwokXK/BUNxD3smNzgGgocgaXR/\n",
              "fRnOnVHpVZam37ClWgB/fsr3/25KiAXh5pq6sPtBv3Rm1HIVakBnlWooCvUBy0AKjt4i1WjMvKUN\n",
              "n/3N91ZxEyL6dhLBhpBuZo0LwK9dIP/u/N97rdyyHuVcUCTDK6Z7nxyGtKMK8nbGcdhf+FwuYYTs\n",
              "440Y6npe0oNQT95Ej7f2i7oC5z5s8h5Rv//1aYDQwiBsloB1UplSJzvGvwmpSdeOZXsV1xWTBEec\n",
              "MJK5/6VeMEzFVmOvl4AaCHIoJYJImMkmV58WKlmGKQWtXUxfdo/nXVH5yoBZl61Y5EylB4klw/jM\n",
              "PYMg4BHmOQIaVJmj1zhI4UpsKn0WRwnN17uK8HnQ7SAXoweOOzK0bTbI8cxLJy75HcN1owrTMMjc\n",
              "vSpUIx0+bYmrRhLLO0Hqt1/d677rzxrjmAORAPTzpPBxnUwuRxpLLpW4ZzE7tUL7LDm5RGh+cEI/\n",
              "mfIJiwCcJu+iOeApvakbDbsCHfIjiQ+Fmjr75gl+VwoiajOivaZMuDFCjHbWZaALxuyCDs7BZ4iX\n",
              "oWPcav2yM3SZBD8eOUnTS5vJKa9WbW1Tjl1opkUnUeto0oEPewaF8qyO+ubqVeOi+aHtaCg05ZBI\n",
              "6j9gPe8b5+CVvbVWzpaLdiW4cOlSyBttCwtYlxPkaeCJI0z3/+fHT0LxXcSQB6Ktrzy5jbM4WjT9\n",
              "Y6imQgZxC915ZUGLnw0njKbTsDuhso1up8Dz1pB4NddDIonDYpjeChwxDK9tBIFa0zhvTik/iAdi\n",
              "p49Fv5PQf1odIrtvy7BYBvCie3Khel+WAl0/uKY+mFR8Cs3oj0sNr8vnOT0knksjwDgQNeJOxP49\n",
              "5Dsw2/OSHGLWebj9oiefEAZzliQ3ekPAm5uZJYQ+aFD81bawAE3U3FIdGuKVjJrZsNMzTXG3Y48M\n",
              "iycfMfcWE1NN6eARtlk5A2fAg9hqcaAVF3b3pXs79h8csAih6PpJ+aaURcNvfgdLXgh0igUzFbt2\n",
              "wzyPEdtmhg/qw98WxCSTVPwxmdFnl3ikmUviSglpuvoof1bNvwkP3JJBJkBfOh4YyrnUCL9S50l1\n",
              "V7vGgtnnf9gKsJDyffYCSCvnaYsaJUVXRLshzlL+tNtukk/jblY3JZIR/Zmlit0yJSRrBA93RmJ/\n",
              "Zj6UA9mVqlBL6EnvjaYiq7PGKwA2+uD/XC0Di6cgBla/Zv1+Ow48J4JAWUH5bRuGrnFJHUo13Dk9\n",
              "m0X9TAfTNxiek9nfTklL0LDHMABKg2rLtDxKSM8uKrNrSJoo+jnmUhPv3vpcXvEt01CXLBd4UKNT\n",
              "5h2kCJrNWT7IgnDmr+ZN4SS53XUVgr154O9bzgh1OaGT64eyYJAdLuTbonZ+HTrl7h/I65IFVIWQ\n",
              "AMnhC/Zhqk3igBDSiYVSeFu6PuvwhMtWX8+gjwPRPdkM25uY0CUuk/tK21SwuJuKg/0xivsnYyAd\n",
              "geCH8K9t5wOullr8W7iHncVeE0cilKAMlyjaoa4w06L41pj6nQ6xHgKPXYpq/w6Cmi4dSw4zrEJX\n",
              "HakXyr9Yu0+RYtwaK3e4jUAreQBqjxAsxaLxweTObmzx7vlmpS0+8Cvf1Z017gKyrDSSKBZNX6wB\n",
              "xH0n9nLYxc94aZGYgCct/57vsjEv1l1nzuUhAXqcUdz7gps5JOrwr0msXftLcQkZX+hrAuRHz8Ib\n",
              "MzhdsgFVkInbpV+QiFspC1hdXH9JJAUQfrfr8Ze+RiZb2ij0EiWl0PF5uACzfmHRn+v851+enM3M\n",
              "KCYJL0jHL4Ra9wgofRNTOcNViHvYycywP1L+JdqO3h82qoPYwlDyL718S1ShAMEQYFyzL8cfZRpb\n",
              "qvzVXAwqWmPpXOB4+C2NgJHzR2O/6OaLpZfPWWx3+EzFLJame0r9snTPUFsl+a3yOwAAA3FBmiNs\n",
              "Qv/+jLAc3E5Oc+BdgKDa4BoVRfwuRqlMI2fA0rUXqHHtLDQr+/MeV4MwMAKTJkFFUGi3Wk0W+plc\n",
              "8MdFchGHqdO0SDfKkV9Q5Qzej9lgZf7Lzun0/LcsHkWM515buFttjMD8H9P8TEfMWZBNHlUIPBko\n",
              "PxGU+3Z5XyqFUda64R7La+q+r/WYNvk/IOXfDPWyeIbsWV6y3OFqtD8MoXVdODb4sGOnF6U16nE9\n",
              "FkXt79UHtDU71HurZdffXnEZ6ddQPFrkuLHefTdu+DU9cBBA0FqCi3ksy8eLiMSH5Ek1nNEMNbze\n",
              "T10Bt9MR5hd/ZK+c0VdbY8n7BpMal2+RN8pCILP3WSyS701vtIqeaZ3h4x1M741H84eMfSokEd0H\n",
              "GBRCf6f++IMUN19MZjajUQGuCe48XIryC7atxOWtCCGC3zkW6sidpE5rTr+6v7ZqT+jY8MXFwkaU\n",
              "9jEVivqyzrHTIA30FnLPMH2hqfjzMjdWz0mZYgu+IM1fbviO4un2bLVjP5Iggnlzmj9d0zkpdWoe\n",
              "X7yKwTHVMKROXPMaQ5ZCiIjoxqhf45FHku1k93+zOqGz4Sc3c8JEFU1PIAw6NzKqT2djdCthhYzs\n",
              "DtOdXcL+OI/NFTH0pl4N9mxbql0iGnZ01NlAnH9FeoT6xOjYdQh6uAddcEmudFDSkPh+ZmhL58GN\n",
              "6Dj6JJ7RZrvSesxRQHVZvmxe0LT8vHhNoLVySfKrVKQ+ktnVw/0EBJLo6qqB0iEZtrk8Xe7cOyll\n",
              "sDPWXV8Xo9gVd9o5JdqhanB281EkJEL/ezQQAIBpci4qxXRZ2f996FnJfaMrMJm7/S4IfU9Ospfd\n",
              "FPVCBO5jZCmwDrah+Rwxtd0/ZSsTGmdyHBt6E9FeBVGd0D+PPtiMLN0N4CfGCEczpbpFO9nD3w3A\n",
              "sE6FJhhcBaL9KSEmLqXrUEEiMY0b687inXazg48hWOavI2KCYid5Q1bM3RYxhoxOUdiW0b68hEn3\n",
              "e0450W+jVZYeFnUnxG6sJoSyDQznuWS+1Tr1BQAyHEyvzrRN0Utl+K4HrzADhZdurwOqeUuI4Ahh\n",
              "elAuDLWZTYfWdbvWotAkPz9mvM+CMZ2z/B6gclY9SPS7LCTNrCbWamEpvS9dF8TYajueh7TelUd6\n",
              "LcdknzpxRPmbcuLld0ozXVxd3eblZAAAAFpBnkF4hH8DaOuuqmBBt4TQH28zio9Rc4003W/64Ah5\n",
              "ppLc9tBaZ2WrqkJ8iN1vTZvqoU2JIX9CstC7iU+VwDfbYGX1YuADYGW89B3TC7X8uIhME75EXQd8\n",
              "8t8AAAAzAZ5iakf/B+o0ppRczrD4vAfjGDw+UDfbkn6DUgeQwbAeHABKhVHphIy8kO10Z4oKB/qQ\n",
              "AAABXkGaZ0moQWiZTAhf//6MsITicnOfAD2SYdrKsJ7LgKN3YpqLuaUKg93T0wB6Mcvo1MNl5TzE\n",
              "inMwRcLLEFSyAKQaauSEIEW1aY1mGvVILY87/3WuAfxv2onPYEtI1wzGEKQ3UT9p508zFuJmIzTo\n",
              "dBOewxQ4G/U9aOHDzvP7CQH+yiPS81wCf4mUYgvTpmXA+eiyi32sLRddK5HznDxDTO6o7IEgEN9C\n",
              "MfCsBWP4rjoOaX0wjDAs0ewS+NBo4FhLq9KATqqtwO+q9YrB4dnBB+FBYC6QRXbC590sceD7O17e\n",
              "p7gYyaKtr0lICvhF0OgZiqPH4oLkbFUYszCX7d0EwsO3sVVot6WgcDMEjXFcZzMNwvOnyLP5IMO/\n",
              "p67qVOZQR2BxKLmTQBLunC9v4Iihbd7x5q/ZZkF5WK+QVADT0CiIIEfqMKM6c7JqSR+Ws6kaK2YK\n",
              "XAfQBUEnQHUYjwm7AAAAR0GehUURLCP/BVU1Yoo1ZgweUnm9jjTQwXswZrBhpTWhJik4/8eWFqD7\n",
              "q8sNtYADVSOmyW1GOSdXNTFU+k1t2rSDWYfvsG3hAAAAOwGepHRH/wfifrCmZnTy0kCUO0PVZrLq\n",
              "o8XGsBRgOo+lZVDUOgAroiEchbwwsj//SATUCxg3aCR8CDiBAAAAKgGepmpH/wTz6AyUJe8inQtK\n",
              "buHY1D7KACVFckE0UuR1jfhhlw5KsHH94QAAAL1BmqpJqEFsmUwIX//+jLAAAxgn3T6QC7jFaRdv\n",
              "rgTSQdj/0xXpnJ7pG8VJT4DUEmRBQckQx0jHA3Sgn+libslOghouCFQvW5PjY2QHBZf+wh4OA7XH\n",
              "ZRCc36yMxzFYyI9BX7x+svGa9qTy6s/af+cs2ajtg2CGfk+buHwZqvpJwfGWHHjDL6/om+QCjzr+\n",
              "0jShctY+X7kNssZVu9RaoEn463MMGvaGM1BacVFNctLVQnxA/yB92Roijjyr3EUAAAAuQZ7IRRUs\n",
              "I/8DKzRJ31gpPI+wANScKbu2gE9mbUAJpg+EyD6KOxF4nnGxET1EdAAAAB0BnulqR/8E8+P8sPZh\n",
              "m7VezCSxxCEvdCa+tdiCoQAAAMNBmu5JqEFsmUwIX//+jLAABgAsBXgwDV9ShLexHwOdpG3srGzT\n",
              "C4C/n7A/RSwmGrDXAKb/HKBIqLVjbiWuCo4cnfLYGDa/DLEjvMiNQPz9W89evidQtOEECyPtshGE\n",
              "jH0LaXHeyRxa2kyiuwz+fJR75KvwiHeO0yzZb/sB/iuIzOlcGbnWTZDU8QvYUiVF57y6OGzya4m+\n",
              "VDio2Vg9h5KdgAmfBNV3n43sphOwTn6Idp6DnecOVlQxKzMZj1MDz0Sa5zAAAAAxQZ8MRRUsI/8D\n",
              "KzRQAE1h90OQxe5yzPx05YxAaZqD+wAg8IJHREPbE/f+YT7RUAuJOAAAACQBnyt0R/8E8YhmqBRt\n",
              "OxFhCR334gAud2yH+iVR0mRY3BeyxO0AAAAeAZ8takf/BPPj/LD2YZu1XsxHY6x+ypKnF/bw80JH\n",
              "AAAAdEGbMUmoQWyZTAhf//6MsAALbl3bAHMO+wEFFRtMLIfl2Q3fc18F41SoXquoMSkJV4skTpne\n",
              "OEGytgxx088IgzjpTKXHwFod1Et3i6lSJUZtSb98KC73aY0Fbh3UpVuVI9p49QsW5+FPBZB2XTmB\n",
              "MXIRnoXBAAAAMUGfT0UVLCP/Ays0Sd9YKTyPsADUnCm7toEkwKdBnACDzCSK3ujMzGmHpp75JM+j\n",
              "shgAAAApAZ9wakf/BPPj/LD2YZu1XsyGME6Q6mwALU6DJQZaVCrH9otS9/BZ70wAAABhQZt0SahB\n",
              "bJlMCF///oywACkzBhe8F0TxuDIEYhWRl+EPNEyVpp+R+S7XX1b9vppzti88cs7ipJhtomDlrPG1\n",
              "V1vIIs/mtUZVfWqknQ8gKqW6jFFcF8wl6Dac86TXvDisnwAAADRBn5JFFSwj/wMrNEnfWCk8j7AA\n",
              "1Jwpu7aBIyTX0ABOsojMieTPk8BJSVDufpN3EKfTqzeAAAAAIwGfs2pH/wTz4/yw9mGbtV7NCwo5\n",
              "zVEAE4sdXwQY85BWxiKqAAAAakGbt0moQWyZTAhn//6eEAALVn1hYAv9u000cSbld52PeYDQh5L3\n",
              "jx8s7rSFKuWJNgp+5sfPwmtc7KtJmTZ/EqGZ62X8ch4SzRI2jqKnFoUGQfoTCT0NgluZgMIMkMwr\n",
              "nTWCWymet5j1vl8AAAAoQZ/VRRUsI/8DKzRJ31gpPI+wANScKbu2gSWrh5eQ24FBVS5OaM24YAAA\n",
              "ACcBn/ZqR/8E8+P8sPZhm7VezQRe5BgABI/rCUGRhezIftpfo/K4O7cAAACGQZv7SahBbJlMCF//\n",
              "/oywACk4m/kG3je8h9Rh3w4Bt+pQlvYj5/Eil3B76tWk5pmjIZd2pYB4Y++Do1an6M8OZGcTZU26\n",
              "qO9MYfrxzw4FSiZ6eb8a8YyYAGeG3mEgcmKZPDPX61qKgtTyEQ6RpCkWTu6DKY7W2tUHBD3MFOuy\n",
              "8eh1BcXa/fMAAAA4QZ4ZRRUsI/8DKzRQAE1h90OQxe5yzPx05YxBjBFSnuhgBF7xKcL5vHEXEyu/\n",
              "EAssDgwyOERwf4AAAAArAZ44dEf/BPGIZqgUbTsRYQwU10MOIAV5H7TMyQQZM8Arv2ZIy3hfldIn\n",
              "pQAAACkBnjpqR/8E8+P8sPZhm7VezQNRyp44gA21wnUhZ27sK3NLyH12BcJbgAAAAF9Bmj9JqEFs\n",
              "mUwIX//+jLAAFkzzeAGvX1lT0434gW2DT0x6ukpTbrKSF5CMtErj0KmlqFyMivUL3K8auzmg16RZ\n",
              "Ql/ceEubBKF9u1JEMDCT8wrtuMef6W+4usO4tB8SOQAAADJBnl1FFSwj/wMrNFAATWH3Q5DF7nLM\n",
              "/HTljEbYKgr1yAEtVhki9haa/tbwwbOTngcOSQAAACgBnnx0R/8E8YhmqBRtOxFhDAekGHmFYgAu\n",
              "dyD9ThIpow4PbisULZeAAAAAHQGefmpH/wTz4/yw9mGbtV7QFgJb7rheAELLpodcAAAArEGaYkmo\n",
              "QWyZTAhf//6MsAArf4oAIjX4eQIncGtRkA4kev23Aenfi8K1vgpRgEGhcuNZuh5qERAb/OAb3XwF\n",
              "oc6RmDtzBadtcevPe+e71/XSLm143yAproAnn/LJUF4WLvAXTewbP8fai5nU0vnu3ur5oMxN8QW2\n",
              "NhFN4P/Zn+9fms7WLNA12d3n3JOgOxOOnEQwcGPLGIcY/l48jUcFgvJtzEE7k9uMNmSbtmEAAAAv\n",
              "QZ6ARRUsI/8DKzRJ31gpPI+wANScKbu2iVZtByWr1x96AC2J0NNIQjfbrdgugxAAAAAcAZ6hakf/\n",
              "BPPj/LD2YZu1Xs/NbBF/4AEWBWy/KQAAAExBmqVJqEFsmUwIX//+jLAAKo5VRUjYrgE0onKadWYN\n",
              "affW2Yv5u5ApFMzYdpNbf81nkWz034BqjPtwdc0r0FktMjgBg2AFEXuNZHRwAAAAK0Gew0UVLCP/\n",
              "Ays0Sd9YKTyPsADUnCm7tolHm877AETFx8m2gDNu0llUghMAAAAbAZ7kakf/BPPj/LD2YZu1Xs/v\n",
              "qsyARQAbhzaBAAAAS0Ga6EmoQWyZTAhf//6MsAAqWbwwCa6VmeZjHCfxAS2zm8Avp7McA4+/J29E\n",
              "+GdXGiOizYA8FxLFvi302Ph8zrXwm/89Q1Wvo0Yr4QAAACtBnwZFFSwj/wMrNEnfWCk8j7AA1Jwp\n",
              "u7aJQBnh+oALdTsKJ0o8IngbTP1hAAAAIgGfJ2pH/wTz4/yw9mGbtV7P17/gAW6T20M6zOPHDgFg\n",
              "exgAAABAQZsrSahBbJlMCFf//jhAAJ/uDMKl+npoAHPlK538t3ARiw7FjdkGjED9jQNAp5/qF0v+\n",
              "9CnG0bBjc5t+0gRIwAAAACxBn0lFFSwj/wMrNEnfWCk8j7AA1Jwpu7aJIGYoi/oX12ALA5aanh0o\n",
              "C+O4cQAAABwBn2pqR/8E8+P8sPZhm7Vez+vLmuwYmFuAg30YAAAALUGbbEmoQWyZTAhf//6MsAAp\n",
              "LXCVM087+gDjtyD1zhp52J3HWhL0NjEbD5C7gAAAAGxBm5BJ4QpSZTAhX/44QAE9ttmAK3x307jG\n",
              "x77594JJVnEk/AC4fa2fFvaNW8+hNfcIHvM4pVlm4JYzkfFWCyIWvM4N3LWhOjuDsSkfvJy3a2sr\n",
              "TF6WqQcyT5zQop5/wAOy3XSHIB7W42VqMaEAAAAzQZ+uRTRMI/8DKtpO0j/hSaFTolY5IGorjuSO\n",
              "JIQw6siHACWoQods9OA1pVUgiIBcoKeBAAAAIwGfzXRH/wTxiGaoFG07EWEV32TAAtMiZ/bnMxYW\n",
              "IA0AU5/XAAAAGQGfz2pH/wTz4/yw9mGbtX6sw1PEjQKKxqAAAAAwQZvRSahBaJlMCF///oywAFJy\n",
              "7tgCrcKEzYxkXbuzsgqE4Yd8r8xr9VB0Z5ORrMIuAAAAOkGb8knhClJlMCF//oywAFKXtVAA5YqM\n",
              "fOErlRBnPazQQZet5jgGq2JqMPnb01N89NhVVCmD3NtDBn0AAAA9QZoVSeEOiZTAhf/+jLAAUnKd\n",
              "AA3m5oASg+MrfZ81JLujuFOCP/4L++tN26BwlJ+llrDNLojtuLvn290DugAAACtBnjNFETwj/wMq\n",
              "2knfYxRjMVLgvybz2sLltgAnBvSN2Rv7eolwAuPBZoxqAAAAGAGeVGpH/wTz4/yw9mGbtX7VUf+Q\n",
              "CWwvQQAAAERBmllJqEFomUwIX//+jLAAjCOCOW/wgEI6gIxa2g555voeYHcVGzKkyyER2VDir45H\n",
              "6dXPmYD9IGXmM3ra+hErxjBBdwAAACpBnndFESwj/wMrNFAATWH3Q5DF7nLM/HTmu8JCogXdriE5\n",
              "5zDHwNsIobkAAAAZAZ6WdEf/BPGIZqgUbTsRYRalwfmq5R0oKwAAACMBnphqR/8E8+P8sPZhm7Ve\n",
              "z+vP9AQAJXI8bAZgqTLSA1yiwAAAACtBmppJqEFsmUwIX//+jLAAKUYRzABXMVX7Ma6b0v0ozbGw\n",
              "UZNdlbixCGGfAAAAZUGavknhClJlMCF//oywACpZ5vABUsZIYUfJPsjrcc+kOyAQT+dW8qfKT8O2\n",
              "VppelrIXHSDrNGvTor1FW5yKYES46L8fLCZ0j1ldcrh6DgvBZUuh1iVjYWV2YIhq7gaOISnJmh3Q\n",
              "AAAAMEGe3EU0TCP/AyraTtI/4UmhU6JWOSBqK46Boc6EauWWAAD8SUcNdx4FhR5UVBnhSwAAACQB\n",
              "nvt0R/8E8YhmqBRtOxFhFkYiAsABM1iklPOAwDG1Vr3y04sAAAAhAZ79akf/BPPj/LD2YZu1Xs/T\n",
              "CcQATpzSfAGJJf8wI7SCAAAANkGa4UmoQWiZTAhf//6MsAAqWbwwByjQw2zZ7ffmO7RupLCTqtOS\n",
              "52fVNMSeTpRyoVH1UzQ7oAAAACpBnx9FESwj/wMrNEnfWCk8j7AA1Jwpu7aJIGcbbTACc/wZ3IxE\n",
              "MCJn8lEAAAAXAZ8gakf/BPPj/LD2YZu1Xsz92wSBRyAAAAA3QZskSahBbJlMCF///oywACpZvDAF\n",
              "Mvk5avoPD/q/aOMubI0HkGbsHcmsn/nbTSR8CZYZrgNH+QAAACZBn0JFFSwj/wMrNEnfWCk8j7AA\n",
              "1Jwpu7aJIGUQ8Brc3boSoYIt+AAAABkBn2NqR/8E8+P8sPZhm7Vez+wdQBmfG3xZAAAAPkGbZkmo\n",
              "QWyZTBRML//+jLAAKk5E48R0qQADk0oSo0/bb9TyYkBl5uYjTa5bucSGEExyVpbF6JZNMrvt7oOn\n",
              "AAAAKgGfhWpH/wT0+Rm/9WL0QZYl2vkIkCqjo5FaQAPuqgd0qHdwgIDRhrCDgQAAAHVBm4pJ4QpS\n",
              "ZTAhf/6MsAAqWtJAAOVzSwyQQuChS3AbogTrYw0ZK+PoSUIjdvmbLAgVokcaQ2/FU11O4aSkhfIN\n",
              "ld7aBd9lnTyEI36vOf12y707tQDiSf7dL5VTlFUn3l+bzqarMdR9auHq0yAPKViumnIzQ7sAAAAl\n",
              "QZ+oRTRMI/8DKtpO0j/hSaFTolY5IGorjoGhzmacgkgCzBbh2QAAACIBn8d0R/8E8YhmqBRtOxFh\n",
              "FqkTCYAJkAZZm0vT3ATyDO6OAAAAGgGfyWpH/wTz4/yw9mGbtV7P68rJABzeWrNJAAAAS0Gbzkmo\n",
              "QWiZTAhf//6MsABQt8fKBo04AdAy0Vd8hqflZIcM1fsFJcSC6S0LDezLwcMqhTvS0gORbIA/FZ/L\n",
              "tFrDvYYaee5l5YtRKwAAADZBn+xFESwj/wMrNFAATWH3Q5DF7nLM/HTmca98ApJszt74DhxoPFPW\n",
              "vZ4XbBumLkUIB9RCR1QAAAAkAZ4LdEf/BPGIZqgUbTsRtTe3uEAGyglfzC1tVmH24PxJXIedAAAA\n",
              "GAGeDWpH/wTz4/yw9mGbtQSkAfZCrWhfYQAAACxBmhBJqEFsmUwUTC///oywAFAucCGogBrnbM4o\n",
              "9yxMwUGeTMpV8iRJDfMbUQAAACkBni9qR/8E9PkZv/Vi9EGWJdr5CJVmEIAHF9Rcqyri0LqYkQdu\n",
              "Ikdc8AAAAEJBmjRJ4QpSZTAhf/6MsABScZkAB+JOX/7Il5gt1utJeGlGEXn8h0Jhb1X3Q/K0ywR1\n",
              "RwgzjAV55y6uCp21iMPgSsAAAAAxQZ5SRTRMI/8DKtpO0j/hSaFTolY5IGorjuScExgA23tLxJes\n",
              "cWLMNC2vVhIQCQh6wQAAACMBnnF0R/8E8YhmqBRtOxGytJwALMrQt0lnz/QTLweHwRxSuAAAABsB\n",
              "nnNqR/8E8+P8sPZhm7V+rQA/WORHvA6jB4AAAAA6QZp2SahBaJlMFPC//oywAFJ0IHAC27EpJzvX\n",
              "OH1oo7EoQV1+QUfievb3R+Yo1b66mErursOWJwzCLwAAAB4BnpVqR/8E9PkZv/Vi9EGWJdr5CJYj\n",
              "AQtYJ/IcJ/EAAAAkQZqXSeEKUmUwIX/+jLAAUnLu2AG2tb+ZYmtF9QSckxh6cMGfAAAALEGau0nh\n",
              "DomUwIX//oywAFJywhAB9NF9LC93wAu/co3EJUfT/itmcZfkzQelAAAAKEGe2UURPCP/AyraTtI/\n",
              "4UmhU6JWOSBqK47mwNBG1WAmeasoUSGFungAAAAYAZ74dEf/BPGIZqgUbTsRYRclwDKIvZ3RAAAA\n",
              "GQGe+mpH/wTz4/yw9mGbtXiRdj7EAab8L2EAAABFQZr/SahBaJlMCFf//jhAAT222YAW8YzdbJot\n",
              "5sECz+YNbPtKWv9mnB2lOmEE2FfimOwAvK8fJ8frgUhZBW3R3f3zQJWBAAAALkGfHUURLCP/Ays0\n",
              "UABNYfdDkMXucsz8dOarLQ/ABOoGSrwPklRHWAZoChBtSEkAAAAjAZ88dEf/BPGIZqgUbTsRybNE\n",
              "AHj4bCMoP95kAtULa97+PpgAAAAWAZ8+akf/BPPj/LD2YZu0kEemwhwx9gAAABxBmyNJqEFsmUwI\n",
              "//yEABLXueIAAgXjJRIZ8GLBAAAAJEGfQUUVLCP/Ays0UABNYfdDkMXucsz8dOWON/gZmRxO1WP2\n",
              "igAAABgBn2B0R/8E8YhmqBRtOxHHRzsAOlY2IPEAAAAYAZ9iakf/BPPj/LD2YZu1fhDdwBRcc5sk\n",
              "AAAHdm1vb3YAAABsbXZoZAAAAAAAAAAAAAAAAAAAA+gAAAfQAAEAAAEAAAAAAAAAAAAAAAABAAAA\n",
              "AAAAAAAAAAAAAAAAAQAAAAAAAAAAAAAAAAAAQAAAAAAAAAAAAAAAAAAAAAAAAAAAAAAAAAAAAAAA\n",
              "AAIAAAagdHJhawAAAFx0a2hkAAAAAwAAAAAAAAAAAAAAAQAAAAAAAAfQAAAAAAAAAAAAAAAAAAAA\n",
              "AAABAAAAAAAAAAAAAAAAAAAAAQAAAAAAAAAAAAAAAAAAQAAAAAGwAAABIAAAAAAAJGVkdHMAAAAc\n",
              "ZWxzdAAAAAAAAAABAAAH0AAAAgAAAQAAAAAGGG1kaWEAAAAgbWRoZAAAAAAAAAAAAAAAAAAAMgAA\n",
              "AGQAVcQAAAAAAC1oZGxyAAAAAAAAAAB2aWRlAAAAAAAAAAAAAAAAVmlkZW9IYW5kbGVyAAAABcNt\n",
              "aW5mAAAAFHZtaGQAAAABAAAAAAAAAAAAAAAkZGluZgAAABxkcmVmAAAAAAAAAAEAAAAMdXJsIAAA\n",
              "AAEAAAWDc3RibAAAALNzdHNkAAAAAAAAAAEAAACjYXZjMQAAAAAAAAABAAAAAAAAAAAAAAAAAAAA\n",
              "AAGwASAASAAAAEgAAAAAAAAAAQAAAAAAAAAAAAAAAAAAAAAAAAAAAAAAAAAAAAAAAAAAABj//wAA\n",
              "ADFhdmNDAWQAHv/hABhnZAAerNlBsJaEAAADAAQAAAMBkDxYtlgBAAZo6+PLIsAAAAAcdXVpZGto\n",
              "QPJfJE/FujmlG88DI/MAAAAAAAAAGHN0dHMAAAAAAAAAAQAAAGQAAAEAAAAAFHN0c3MAAAAAAAAA\n",
              "AQAAAAEAAALIY3R0cwAAAAAAAABXAAAAAQAAAgAAAAABAAAEAAAAAAIAAAEAAAAAAQAABQAAAAAB\n",
              "AAACAAAAAAEAAAAAAAAAAQAAAQAAAAABAAAEAAAAAAIAAAEAAAAAAQAABQAAAAABAAACAAAAAAEA\n",
              "AAAAAAAAAQAAAQAAAAABAAAEAAAAAAIAAAEAAAAAAQAABAAAAAACAAABAAAAAAEAAAQAAAAAAgAA\n",
              "AQAAAAABAAAFAAAAAAEAAAIAAAAAAQAAAAAAAAABAAABAAAAAAEAAAUAAAAAAQAAAgAAAAABAAAA\n",
              "AAAAAAEAAAEAAAAAAQAABAAAAAACAAABAAAAAAEAAAQAAAAAAgAAAQAAAAABAAAEAAAAAAIAAAEA\n",
              "AAAAAQAABAAAAAACAAABAAAAAAEAAAIAAAAAAQAABQAAAAABAAACAAAAAAEAAAAAAAAAAQAAAQAA\n",
              "AAACAAACAAAAAAEAAAQAAAAAAgAAAQAAAAABAAAFAAAAAAEAAAIAAAAAAQAAAAAAAAABAAABAAAA\n",
              "AAEAAAIAAAAAAQAABQAAAAABAAACAAAAAAEAAAAAAAAAAQAAAQAAAAABAAAEAAAAAAIAAAEAAAAA\n",
              "AQAABAAAAAACAAABAAAAAAEAAAMAAAAAAQAAAQAAAAABAAAFAAAAAAEAAAIAAAAAAQAAAAAAAAAB\n",
              "AAABAAAAAAEAAAUAAAAAAQAAAgAAAAABAAAAAAAAAAEAAAEAAAAAAQAAAwAAAAABAAABAAAAAAEA\n",
              "AAUAAAAAAQAAAgAAAAABAAAAAAAAAAEAAAEAAAAAAQAAAwAAAAABAAABAAAAAAEAAAIAAAAAAQAA\n",
              "BQAAAAABAAACAAAAAAEAAAAAAAAAAQAAAQAAAAABAAAFAAAAAAEAAAIAAAAAAQAAAAAAAAABAAAB\n",
              "AAAAAAEAAAUAAAAAAQAAAgAAAAABAAAAAAAAAAEAAAEAAAAAHHN0c2MAAAAAAAAAAQAAAAEAAABk\n",
              "AAAAAQAAAaRzdHN6AAAAAAAAAAAAAABkAAA1AwAAA3UAAABeAAAANwAAAWIAAABLAAAAPwAAAC4A\n",
              "AADBAAAAMgAAACEAAADHAAAANQAAACgAAAAiAAAAeAAAADUAAAAtAAAAZQAAADgAAAAnAAAAbgAA\n",
              "ACwAAAArAAAAigAAADwAAAAvAAAALQAAAGMAAAA2AAAALAAAACEAAACwAAAAMwAAACAAAABQAAAA\n",
              "LwAAAB8AAABPAAAALwAAACYAAABEAAAAMAAAACAAAAAxAAAAcAAAADcAAAAnAAAAHQAAADQAAAA+\n",
              "AAAAQQAAAC8AAAAcAAAASAAAAC4AAAAdAAAAJwAAAC8AAABpAAAANAAAACgAAAAlAAAAOgAAAC4A\n",
              "AAAbAAAAOwAAACoAAAAdAAAAQgAAAC4AAAB5AAAAKQAAACYAAAAeAAAATwAAADoAAAAoAAAAHAAA\n",
              "ADAAAAAtAAAARgAAADUAAAAnAAAAHwAAAD4AAAAiAAAAKAAAADAAAAAsAAAAHAAAAB0AAABJAAAA\n",
              "MgAAACcAAAAaAAAAIAAAACgAAAAcAAAAHAAAABRzdGNvAAAAAAAAAAEAAAAsAAAAYnVkdGEAAABa\n",
              "bWV0YQAAAAAAAAAhaGRscgAAAAAAAAAAbWRpcmFwcGwAAAAAAAAAAAAAAAAtaWxzdAAAACWpdG9v\n",
              "AAAAHWRhdGEAAAABAAAAAExhdmY1Ny44My4xMDA=\n",
              "\">\n",
              "  Your browser does not support the video tag.\n",
              "</video>"
            ]
          },
          "metadata": {
            "tags": []
          }
        }
      ]
    },
    {
      "cell_type": "code",
      "metadata": {
        "id": "iP_4t_Zwd-Q5",
        "colab_type": "code",
        "colab": {}
      },
      "source": [
        ""
      ],
      "execution_count": 0,
      "outputs": []
    }
  ]
}